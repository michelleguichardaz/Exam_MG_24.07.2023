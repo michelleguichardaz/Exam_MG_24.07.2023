{
 "cells": [
  {
   "cell_type": "code",
   "execution_count": 1,
   "id": "3c626f83-fd5f-4bd8-8b27-a4240b8e2c49",
   "metadata": {
    "tags": []
   },
   "outputs": [],
   "source": [
    "setwd (\"/bin/Exam_Calogero_MG\")"
   ]
  },
  {
   "cell_type": "code",
   "execution_count": 2,
   "id": "16448b60-c61a-439d-b6c0-627531d758e0",
   "metadata": {
    "tags": []
   },
   "outputs": [],
   "source": [
    "file_path = \"/bin/Exam_Calogero_MG/GSE193258_RNAseq_estimated_counts.tsv\"\n"
   ]
  },
  {
   "cell_type": "code",
   "execution_count": 3,
   "id": "4263fb76-6136-48cc-b672-797b467e9c16",
   "metadata": {
    "tags": []
   },
   "outputs": [],
   "source": [
    "data = read.table(file_path, sep = \"\\t\", header = TRUE)\n"
   ]
  },
  {
   "cell_type": "code",
   "execution_count": 4,
   "id": "7df1b761-0b65-4223-aed5-2d778cdce756",
   "metadata": {
    "tags": []
   },
   "outputs": [
    {
     "data": {
      "text/html": [
       "<table class=\"dataframe\">\n",
       "<caption>A data.frame: 6 × 61</caption>\n",
       "<thead>\n",
       "\t<tr><th></th><th scope=col>gene</th><th scope=col>HCC2935_DMSO_1</th><th scope=col>HCC2935_DMSO_2</th><th scope=col>HCC2935_DMSO_3</th><th scope=col>HCC2935_long_wash_1</th><th scope=col>HCC2935_long_wash_2</th><th scope=col>HCC2935_long_wash_3</th><th scope=col>HCC2935_short_wash_1</th><th scope=col>HCC2935_short_wash_2</th><th scope=col>HCC2935_short_wash_3</th><th scope=col>⋯</th><th scope=col>PC9_osi_acute_3</th><th scope=col>PC9_short_wash_1</th><th scope=col>PC9_short_wash_2</th><th scope=col>PC9_short_wash_3</th><th scope=col>PC9_long_wash_1</th><th scope=col>PC9_long_wash_2</th><th scope=col>PC9_long_wash_3</th><th scope=col>PC9_osi_DTP_1</th><th scope=col>PC9_osi_DTP_2</th><th scope=col>PC9_osi_DTP_3</th></tr>\n",
       "\t<tr><th></th><th scope=col>&lt;chr&gt;</th><th scope=col>&lt;dbl&gt;</th><th scope=col>&lt;dbl&gt;</th><th scope=col>&lt;dbl&gt;</th><th scope=col>&lt;dbl&gt;</th><th scope=col>&lt;dbl&gt;</th><th scope=col>&lt;dbl&gt;</th><th scope=col>&lt;dbl&gt;</th><th scope=col>&lt;dbl&gt;</th><th scope=col>&lt;dbl&gt;</th><th scope=col>⋯</th><th scope=col>&lt;dbl&gt;</th><th scope=col>&lt;dbl&gt;</th><th scope=col>&lt;dbl&gt;</th><th scope=col>&lt;dbl&gt;</th><th scope=col>&lt;dbl&gt;</th><th scope=col>&lt;dbl&gt;</th><th scope=col>&lt;dbl&gt;</th><th scope=col>&lt;dbl&gt;</th><th scope=col>&lt;dbl&gt;</th><th scope=col>&lt;dbl&gt;</th></tr>\n",
       "</thead>\n",
       "<tbody>\n",
       "\t<tr><th scope=row>1</th><td>A1BG   </td><td>  0.5682648</td><td>  5.155194</td><td>  2.477012</td><td>  9.3825599</td><td>  3.756897</td><td>  3.657931</td><td>  5.181001</td><td>  5.0955982</td><td>  6.029939</td><td>⋯</td><td>   5.8535371</td><td>  12.9978395</td><td>  18.8865019</td><td>  18.044952</td><td>   7.8021925</td><td>   5.553602</td><td>  14.145045</td><td>  19.4726655</td><td>  54.6598821</td><td>  16.444272</td></tr>\n",
       "\t<tr><th scope=row>2</th><td>A1CF   </td><td>  1.6903967</td><td>  5.044475</td><td>  0.000000</td><td>  0.8530669</td><td> 16.372231</td><td> 12.806211</td><td>  8.635351</td><td>  4.2878568</td><td>  3.360871</td><td>⋯</td><td>   2.4764460</td><td>   5.7916972</td><td>  13.2814493</td><td>   7.481299</td><td>   7.4124338</td><td>   6.699701</td><td>   6.749110</td><td>  14.1457653</td><td>   7.4760577</td><td>   9.132462</td></tr>\n",
       "\t<tr><th scope=row>3</th><td>A2M    </td><td>  4.5918067</td><td>  0.000000</td><td>  0.000000</td><td>  0.0000000</td><td> 13.573063</td><td>  0.000000</td><td>  0.000000</td><td>  0.3701051</td><td>  0.000000</td><td>⋯</td><td>   0.3590596</td><td>   0.0000000</td><td>  11.8258773</td><td>   8.320874</td><td>   4.1530829</td><td>   3.384917</td><td>   9.265192</td><td>   0.3616485</td><td>  33.3906184</td><td>   7.940929</td></tr>\n",
       "\t<tr><th scope=row>4</th><td>A2ML1  </td><td> 10.9928384</td><td> 23.050205</td><td> 26.685158</td><td> 22.3528821</td><td> 20.365509</td><td> 24.832785</td><td> 21.161743</td><td> 17.8441506</td><td>  7.263028</td><td>⋯</td><td> 244.6464245</td><td> 548.4148524</td><td> 521.5107147</td><td> 646.430287</td><td> 133.8276411</td><td> 125.312795</td><td> 515.226738</td><td> 723.9662025</td><td> 993.4183288</td><td> 912.677045</td></tr>\n",
       "\t<tr><th scope=row>5</th><td>A3GALT2</td><td>  1.0240799</td><td>  0.000000</td><td>  0.000000</td><td>  0.0000000</td><td>  0.000000</td><td>  5.150755</td><td>  0.000000</td><td>  0.0000000</td><td>  0.000000</td><td>⋯</td><td>   0.9640867</td><td>   0.9598506</td><td>   0.9634092</td><td>   0.971106</td><td>   0.9544674</td><td>   0.000000</td><td>   0.000000</td><td>   2.8911717</td><td>   0.9671412</td><td>   2.889548</td></tr>\n",
       "\t<tr><th scope=row>6</th><td>A4GALT </td><td>443.9211845</td><td>480.966346</td><td>449.169540</td><td>331.2582223</td><td>357.440237</td><td>272.281982</td><td>328.083888</td><td>319.5509843</td><td>265.040712</td><td>⋯</td><td>1424.6011545</td><td>2082.8428844</td><td>2270.7910738</td><td>2807.879156</td><td>1053.7736860</td><td>1097.736260</td><td>2337.103769</td><td>2322.4511546</td><td>3057.6903855</td><td>2822.636641</td></tr>\n",
       "</tbody>\n",
       "</table>\n"
      ],
      "text/latex": [
       "A data.frame: 6 × 61\n",
       "\\begin{tabular}{r|lllllllllllllllllllll}\n",
       "  & gene & HCC2935\\_DMSO\\_1 & HCC2935\\_DMSO\\_2 & HCC2935\\_DMSO\\_3 & HCC2935\\_long\\_wash\\_1 & HCC2935\\_long\\_wash\\_2 & HCC2935\\_long\\_wash\\_3 & HCC2935\\_short\\_wash\\_1 & HCC2935\\_short\\_wash\\_2 & HCC2935\\_short\\_wash\\_3 & ⋯ & PC9\\_osi\\_acute\\_3 & PC9\\_short\\_wash\\_1 & PC9\\_short\\_wash\\_2 & PC9\\_short\\_wash\\_3 & PC9\\_long\\_wash\\_1 & PC9\\_long\\_wash\\_2 & PC9\\_long\\_wash\\_3 & PC9\\_osi\\_DTP\\_1 & PC9\\_osi\\_DTP\\_2 & PC9\\_osi\\_DTP\\_3\\\\\n",
       "  & <chr> & <dbl> & <dbl> & <dbl> & <dbl> & <dbl> & <dbl> & <dbl> & <dbl> & <dbl> & ⋯ & <dbl> & <dbl> & <dbl> & <dbl> & <dbl> & <dbl> & <dbl> & <dbl> & <dbl> & <dbl>\\\\\n",
       "\\hline\n",
       "\t1 & A1BG    &   0.5682648 &   5.155194 &   2.477012 &   9.3825599 &   3.756897 &   3.657931 &   5.181001 &   5.0955982 &   6.029939 & ⋯ &    5.8535371 &   12.9978395 &   18.8865019 &   18.044952 &    7.8021925 &    5.553602 &   14.145045 &   19.4726655 &   54.6598821 &   16.444272\\\\\n",
       "\t2 & A1CF    &   1.6903967 &   5.044475 &   0.000000 &   0.8530669 &  16.372231 &  12.806211 &   8.635351 &   4.2878568 &   3.360871 & ⋯ &    2.4764460 &    5.7916972 &   13.2814493 &    7.481299 &    7.4124338 &    6.699701 &    6.749110 &   14.1457653 &    7.4760577 &    9.132462\\\\\n",
       "\t3 & A2M     &   4.5918067 &   0.000000 &   0.000000 &   0.0000000 &  13.573063 &   0.000000 &   0.000000 &   0.3701051 &   0.000000 & ⋯ &    0.3590596 &    0.0000000 &   11.8258773 &    8.320874 &    4.1530829 &    3.384917 &    9.265192 &    0.3616485 &   33.3906184 &    7.940929\\\\\n",
       "\t4 & A2ML1   &  10.9928384 &  23.050205 &  26.685158 &  22.3528821 &  20.365509 &  24.832785 &  21.161743 &  17.8441506 &   7.263028 & ⋯ &  244.6464245 &  548.4148524 &  521.5107147 &  646.430287 &  133.8276411 &  125.312795 &  515.226738 &  723.9662025 &  993.4183288 &  912.677045\\\\\n",
       "\t5 & A3GALT2 &   1.0240799 &   0.000000 &   0.000000 &   0.0000000 &   0.000000 &   5.150755 &   0.000000 &   0.0000000 &   0.000000 & ⋯ &    0.9640867 &    0.9598506 &    0.9634092 &    0.971106 &    0.9544674 &    0.000000 &    0.000000 &    2.8911717 &    0.9671412 &    2.889548\\\\\n",
       "\t6 & A4GALT  & 443.9211845 & 480.966346 & 449.169540 & 331.2582223 & 357.440237 & 272.281982 & 328.083888 & 319.5509843 & 265.040712 & ⋯ & 1424.6011545 & 2082.8428844 & 2270.7910738 & 2807.879156 & 1053.7736860 & 1097.736260 & 2337.103769 & 2322.4511546 & 3057.6903855 & 2822.636641\\\\\n",
       "\\end{tabular}\n"
      ],
      "text/markdown": [
       "\n",
       "A data.frame: 6 × 61\n",
       "\n",
       "| <!--/--> | gene &lt;chr&gt; | HCC2935_DMSO_1 &lt;dbl&gt; | HCC2935_DMSO_2 &lt;dbl&gt; | HCC2935_DMSO_3 &lt;dbl&gt; | HCC2935_long_wash_1 &lt;dbl&gt; | HCC2935_long_wash_2 &lt;dbl&gt; | HCC2935_long_wash_3 &lt;dbl&gt; | HCC2935_short_wash_1 &lt;dbl&gt; | HCC2935_short_wash_2 &lt;dbl&gt; | HCC2935_short_wash_3 &lt;dbl&gt; | ⋯ ⋯ | PC9_osi_acute_3 &lt;dbl&gt; | PC9_short_wash_1 &lt;dbl&gt; | PC9_short_wash_2 &lt;dbl&gt; | PC9_short_wash_3 &lt;dbl&gt; | PC9_long_wash_1 &lt;dbl&gt; | PC9_long_wash_2 &lt;dbl&gt; | PC9_long_wash_3 &lt;dbl&gt; | PC9_osi_DTP_1 &lt;dbl&gt; | PC9_osi_DTP_2 &lt;dbl&gt; | PC9_osi_DTP_3 &lt;dbl&gt; |\n",
       "|---|---|---|---|---|---|---|---|---|---|---|---|---|---|---|---|---|---|---|---|---|---|\n",
       "| 1 | A1BG    |   0.5682648 |   5.155194 |   2.477012 |   9.3825599 |   3.756897 |   3.657931 |   5.181001 |   5.0955982 |   6.029939 | ⋯ |    5.8535371 |   12.9978395 |   18.8865019 |   18.044952 |    7.8021925 |    5.553602 |   14.145045 |   19.4726655 |   54.6598821 |   16.444272 |\n",
       "| 2 | A1CF    |   1.6903967 |   5.044475 |   0.000000 |   0.8530669 |  16.372231 |  12.806211 |   8.635351 |   4.2878568 |   3.360871 | ⋯ |    2.4764460 |    5.7916972 |   13.2814493 |    7.481299 |    7.4124338 |    6.699701 |    6.749110 |   14.1457653 |    7.4760577 |    9.132462 |\n",
       "| 3 | A2M     |   4.5918067 |   0.000000 |   0.000000 |   0.0000000 |  13.573063 |   0.000000 |   0.000000 |   0.3701051 |   0.000000 | ⋯ |    0.3590596 |    0.0000000 |   11.8258773 |    8.320874 |    4.1530829 |    3.384917 |    9.265192 |    0.3616485 |   33.3906184 |    7.940929 |\n",
       "| 4 | A2ML1   |  10.9928384 |  23.050205 |  26.685158 |  22.3528821 |  20.365509 |  24.832785 |  21.161743 |  17.8441506 |   7.263028 | ⋯ |  244.6464245 |  548.4148524 |  521.5107147 |  646.430287 |  133.8276411 |  125.312795 |  515.226738 |  723.9662025 |  993.4183288 |  912.677045 |\n",
       "| 5 | A3GALT2 |   1.0240799 |   0.000000 |   0.000000 |   0.0000000 |   0.000000 |   5.150755 |   0.000000 |   0.0000000 |   0.000000 | ⋯ |    0.9640867 |    0.9598506 |    0.9634092 |    0.971106 |    0.9544674 |    0.000000 |    0.000000 |    2.8911717 |    0.9671412 |    2.889548 |\n",
       "| 6 | A4GALT  | 443.9211845 | 480.966346 | 449.169540 | 331.2582223 | 357.440237 | 272.281982 | 328.083888 | 319.5509843 | 265.040712 | ⋯ | 1424.6011545 | 2082.8428844 | 2270.7910738 | 2807.879156 | 1053.7736860 | 1097.736260 | 2337.103769 | 2322.4511546 | 3057.6903855 | 2822.636641 |\n",
       "\n"
      ],
      "text/plain": [
       "  gene    HCC2935_DMSO_1 HCC2935_DMSO_2 HCC2935_DMSO_3 HCC2935_long_wash_1\n",
       "1 A1BG      0.5682648      5.155194       2.477012       9.3825599        \n",
       "2 A1CF      1.6903967      5.044475       0.000000       0.8530669        \n",
       "3 A2M       4.5918067      0.000000       0.000000       0.0000000        \n",
       "4 A2ML1    10.9928384     23.050205      26.685158      22.3528821        \n",
       "5 A3GALT2   1.0240799      0.000000       0.000000       0.0000000        \n",
       "6 A4GALT  443.9211845    480.966346     449.169540     331.2582223        \n",
       "  HCC2935_long_wash_2 HCC2935_long_wash_3 HCC2935_short_wash_1\n",
       "1   3.756897            3.657931            5.181001          \n",
       "2  16.372231           12.806211            8.635351          \n",
       "3  13.573063            0.000000            0.000000          \n",
       "4  20.365509           24.832785           21.161743          \n",
       "5   0.000000            5.150755            0.000000          \n",
       "6 357.440237          272.281982          328.083888          \n",
       "  HCC2935_short_wash_2 HCC2935_short_wash_3 ⋯ PC9_osi_acute_3 PC9_short_wash_1\n",
       "1   5.0955982            6.029939           ⋯    5.8535371      12.9978395    \n",
       "2   4.2878568            3.360871           ⋯    2.4764460       5.7916972    \n",
       "3   0.3701051            0.000000           ⋯    0.3590596       0.0000000    \n",
       "4  17.8441506            7.263028           ⋯  244.6464245     548.4148524    \n",
       "5   0.0000000            0.000000           ⋯    0.9640867       0.9598506    \n",
       "6 319.5509843          265.040712           ⋯ 1424.6011545    2082.8428844    \n",
       "  PC9_short_wash_2 PC9_short_wash_3 PC9_long_wash_1 PC9_long_wash_2\n",
       "1   18.8865019       18.044952         7.8021925       5.553602    \n",
       "2   13.2814493        7.481299         7.4124338       6.699701    \n",
       "3   11.8258773        8.320874         4.1530829       3.384917    \n",
       "4  521.5107147      646.430287       133.8276411     125.312795    \n",
       "5    0.9634092        0.971106         0.9544674       0.000000    \n",
       "6 2270.7910738     2807.879156      1053.7736860    1097.736260    \n",
       "  PC9_long_wash_3 PC9_osi_DTP_1 PC9_osi_DTP_2 PC9_osi_DTP_3\n",
       "1   14.145045       19.4726655    54.6598821    16.444272  \n",
       "2    6.749110       14.1457653     7.4760577     9.132462  \n",
       "3    9.265192        0.3616485    33.3906184     7.940929  \n",
       "4  515.226738      723.9662025   993.4183288   912.677045  \n",
       "5    0.000000        2.8911717     0.9671412     2.889548  \n",
       "6 2337.103769     2322.4511546  3057.6903855  2822.636641  "
      ]
     },
     "metadata": {},
     "output_type": "display_data"
    },
    {
     "data": {
      "text/html": [
       "'data.frame'"
      ],
      "text/latex": [
       "'data.frame'"
      ],
      "text/markdown": [
       "'data.frame'"
      ],
      "text/plain": [
       "[1] \"data.frame\""
      ]
     },
     "metadata": {},
     "output_type": "display_data"
    },
    {
     "data": {
      "text/html": [
       "<table class=\"dataframe\">\n",
       "<caption>A data.frame: 6 × 7</caption>\n",
       "<thead>\n",
       "\t<tr><th></th><th scope=col>gene</th><th scope=col>H1975_DMSO_1</th><th scope=col>H1975_DMSO_2</th><th scope=col>H1975_DMSO_3</th><th scope=col>H1975_osi_DTP_1</th><th scope=col>H1975_osi_DTP_2</th><th scope=col>H1975_osi_DTP_3</th></tr>\n",
       "\t<tr><th></th><th scope=col>&lt;chr&gt;</th><th scope=col>&lt;dbl&gt;</th><th scope=col>&lt;dbl&gt;</th><th scope=col>&lt;dbl&gt;</th><th scope=col>&lt;dbl&gt;</th><th scope=col>&lt;dbl&gt;</th><th scope=col>&lt;dbl&gt;</th></tr>\n",
       "</thead>\n",
       "<tbody>\n",
       "\t<tr><th scope=row>1</th><td>A1BG   </td><td>788.8477841</td><td>436.0194563</td><td>624.1128152</td><td>888.7190056</td><td>851.905787</td><td>850.062314</td></tr>\n",
       "\t<tr><th scope=row>2</th><td>A1CF   </td><td>  5.9176652</td><td> 12.3258496</td><td>  0.8429555</td><td>  0.8579344</td><td>  8.969218</td><td>  9.416306</td></tr>\n",
       "\t<tr><th scope=row>3</th><td>A2M    </td><td>  0.3681615</td><td>  0.7309377</td><td>  0.0000000</td><td>124.1034271</td><td> 44.935687</td><td> 21.881597</td></tr>\n",
       "\t<tr><th scope=row>4</th><td>A2ML1  </td><td> 10.0186959</td><td> 38.1575548</td><td> 17.7310213</td><td> 10.8636700</td><td> 12.917684</td><td> 18.431924</td></tr>\n",
       "\t<tr><th scope=row>5</th><td>A3GALT2</td><td>  1.0000591</td><td>  0.9945132</td><td>  2.9958185</td><td>  2.0160282</td><td>  3.036452</td><td>  3.039603</td></tr>\n",
       "\t<tr><th scope=row>6</th><td>A4GALT </td><td>564.3877865</td><td>340.1630090</td><td>409.8402777</td><td>668.9767513</td><td>655.724842</td><td>631.619819</td></tr>\n",
       "</tbody>\n",
       "</table>\n"
      ],
      "text/latex": [
       "A data.frame: 6 × 7\n",
       "\\begin{tabular}{r|lllllll}\n",
       "  & gene & H1975\\_DMSO\\_1 & H1975\\_DMSO\\_2 & H1975\\_DMSO\\_3 & H1975\\_osi\\_DTP\\_1 & H1975\\_osi\\_DTP\\_2 & H1975\\_osi\\_DTP\\_3\\\\\n",
       "  & <chr> & <dbl> & <dbl> & <dbl> & <dbl> & <dbl> & <dbl>\\\\\n",
       "\\hline\n",
       "\t1 & A1BG    & 788.8477841 & 436.0194563 & 624.1128152 & 888.7190056 & 851.905787 & 850.062314\\\\\n",
       "\t2 & A1CF    &   5.9176652 &  12.3258496 &   0.8429555 &   0.8579344 &   8.969218 &   9.416306\\\\\n",
       "\t3 & A2M     &   0.3681615 &   0.7309377 &   0.0000000 & 124.1034271 &  44.935687 &  21.881597\\\\\n",
       "\t4 & A2ML1   &  10.0186959 &  38.1575548 &  17.7310213 &  10.8636700 &  12.917684 &  18.431924\\\\\n",
       "\t5 & A3GALT2 &   1.0000591 &   0.9945132 &   2.9958185 &   2.0160282 &   3.036452 &   3.039603\\\\\n",
       "\t6 & A4GALT  & 564.3877865 & 340.1630090 & 409.8402777 & 668.9767513 & 655.724842 & 631.619819\\\\\n",
       "\\end{tabular}\n"
      ],
      "text/markdown": [
       "\n",
       "A data.frame: 6 × 7\n",
       "\n",
       "| <!--/--> | gene &lt;chr&gt; | H1975_DMSO_1 &lt;dbl&gt; | H1975_DMSO_2 &lt;dbl&gt; | H1975_DMSO_3 &lt;dbl&gt; | H1975_osi_DTP_1 &lt;dbl&gt; | H1975_osi_DTP_2 &lt;dbl&gt; | H1975_osi_DTP_3 &lt;dbl&gt; |\n",
       "|---|---|---|---|---|---|---|---|\n",
       "| 1 | A1BG    | 788.8477841 | 436.0194563 | 624.1128152 | 888.7190056 | 851.905787 | 850.062314 |\n",
       "| 2 | A1CF    |   5.9176652 |  12.3258496 |   0.8429555 |   0.8579344 |   8.969218 |   9.416306 |\n",
       "| 3 | A2M     |   0.3681615 |   0.7309377 |   0.0000000 | 124.1034271 |  44.935687 |  21.881597 |\n",
       "| 4 | A2ML1   |  10.0186959 |  38.1575548 |  17.7310213 |  10.8636700 |  12.917684 |  18.431924 |\n",
       "| 5 | A3GALT2 |   1.0000591 |   0.9945132 |   2.9958185 |   2.0160282 |   3.036452 |   3.039603 |\n",
       "| 6 | A4GALT  | 564.3877865 | 340.1630090 | 409.8402777 | 668.9767513 | 655.724842 | 631.619819 |\n",
       "\n"
      ],
      "text/plain": [
       "  gene    H1975_DMSO_1 H1975_DMSO_2 H1975_DMSO_3 H1975_osi_DTP_1\n",
       "1 A1BG    788.8477841  436.0194563  624.1128152  888.7190056    \n",
       "2 A1CF      5.9176652   12.3258496    0.8429555    0.8579344    \n",
       "3 A2M       0.3681615    0.7309377    0.0000000  124.1034271    \n",
       "4 A2ML1    10.0186959   38.1575548   17.7310213   10.8636700    \n",
       "5 A3GALT2   1.0000591    0.9945132    2.9958185    2.0160282    \n",
       "6 A4GALT  564.3877865  340.1630090  409.8402777  668.9767513    \n",
       "  H1975_osi_DTP_2 H1975_osi_DTP_3\n",
       "1 851.905787      850.062314     \n",
       "2   8.969218        9.416306     \n",
       "3  44.935687       21.881597     \n",
       "4  12.917684       18.431924     \n",
       "5   3.036452        3.039603     \n",
       "6 655.724842      631.619819     "
      ]
     },
     "metadata": {},
     "output_type": "display_data"
    },
    {
     "data": {
      "text/html": [
       "<table class=\"dataframe\">\n",
       "<caption>A data.frame: 6 × 6</caption>\n",
       "<thead>\n",
       "\t<tr><th></th><th scope=col>H1975_DMSO_1</th><th scope=col>H1975_DMSO_2</th><th scope=col>H1975_DMSO_3</th><th scope=col>H1975_osi_DTP_1</th><th scope=col>H1975_osi_DTP_2</th><th scope=col>H1975_osi_DTP_3</th></tr>\n",
       "\t<tr><th></th><th scope=col>&lt;dbl&gt;</th><th scope=col>&lt;dbl&gt;</th><th scope=col>&lt;dbl&gt;</th><th scope=col>&lt;dbl&gt;</th><th scope=col>&lt;dbl&gt;</th><th scope=col>&lt;dbl&gt;</th></tr>\n",
       "</thead>\n",
       "<tbody>\n",
       "\t<tr><th scope=row>A1BG</th><td>788.8477841</td><td>436.0194563</td><td>624.1128152</td><td>888.7190056</td><td>851.905787</td><td>850.062314</td></tr>\n",
       "\t<tr><th scope=row>A1CF</th><td>  5.9176652</td><td> 12.3258496</td><td>  0.8429555</td><td>  0.8579344</td><td>  8.969218</td><td>  9.416306</td></tr>\n",
       "\t<tr><th scope=row>A2M</th><td>  0.3681615</td><td>  0.7309377</td><td>  0.0000000</td><td>124.1034271</td><td> 44.935687</td><td> 21.881597</td></tr>\n",
       "\t<tr><th scope=row>A2ML1</th><td> 10.0186959</td><td> 38.1575548</td><td> 17.7310213</td><td> 10.8636700</td><td> 12.917684</td><td> 18.431924</td></tr>\n",
       "\t<tr><th scope=row>A3GALT2</th><td>  1.0000591</td><td>  0.9945132</td><td>  2.9958185</td><td>  2.0160282</td><td>  3.036452</td><td>  3.039603</td></tr>\n",
       "\t<tr><th scope=row>A4GALT</th><td>564.3877865</td><td>340.1630090</td><td>409.8402777</td><td>668.9767513</td><td>655.724842</td><td>631.619819</td></tr>\n",
       "</tbody>\n",
       "</table>\n"
      ],
      "text/latex": [
       "A data.frame: 6 × 6\n",
       "\\begin{tabular}{r|llllll}\n",
       "  & H1975\\_DMSO\\_1 & H1975\\_DMSO\\_2 & H1975\\_DMSO\\_3 & H1975\\_osi\\_DTP\\_1 & H1975\\_osi\\_DTP\\_2 & H1975\\_osi\\_DTP\\_3\\\\\n",
       "  & <dbl> & <dbl> & <dbl> & <dbl> & <dbl> & <dbl>\\\\\n",
       "\\hline\n",
       "\tA1BG & 788.8477841 & 436.0194563 & 624.1128152 & 888.7190056 & 851.905787 & 850.062314\\\\\n",
       "\tA1CF &   5.9176652 &  12.3258496 &   0.8429555 &   0.8579344 &   8.969218 &   9.416306\\\\\n",
       "\tA2M &   0.3681615 &   0.7309377 &   0.0000000 & 124.1034271 &  44.935687 &  21.881597\\\\\n",
       "\tA2ML1 &  10.0186959 &  38.1575548 &  17.7310213 &  10.8636700 &  12.917684 &  18.431924\\\\\n",
       "\tA3GALT2 &   1.0000591 &   0.9945132 &   2.9958185 &   2.0160282 &   3.036452 &   3.039603\\\\\n",
       "\tA4GALT & 564.3877865 & 340.1630090 & 409.8402777 & 668.9767513 & 655.724842 & 631.619819\\\\\n",
       "\\end{tabular}\n"
      ],
      "text/markdown": [
       "\n",
       "A data.frame: 6 × 6\n",
       "\n",
       "| <!--/--> | H1975_DMSO_1 &lt;dbl&gt; | H1975_DMSO_2 &lt;dbl&gt; | H1975_DMSO_3 &lt;dbl&gt; | H1975_osi_DTP_1 &lt;dbl&gt; | H1975_osi_DTP_2 &lt;dbl&gt; | H1975_osi_DTP_3 &lt;dbl&gt; |\n",
       "|---|---|---|---|---|---|---|\n",
       "| A1BG | 788.8477841 | 436.0194563 | 624.1128152 | 888.7190056 | 851.905787 | 850.062314 |\n",
       "| A1CF |   5.9176652 |  12.3258496 |   0.8429555 |   0.8579344 |   8.969218 |   9.416306 |\n",
       "| A2M |   0.3681615 |   0.7309377 |   0.0000000 | 124.1034271 |  44.935687 |  21.881597 |\n",
       "| A2ML1 |  10.0186959 |  38.1575548 |  17.7310213 |  10.8636700 |  12.917684 |  18.431924 |\n",
       "| A3GALT2 |   1.0000591 |   0.9945132 |   2.9958185 |   2.0160282 |   3.036452 |   3.039603 |\n",
       "| A4GALT | 564.3877865 | 340.1630090 | 409.8402777 | 668.9767513 | 655.724842 | 631.619819 |\n",
       "\n"
      ],
      "text/plain": [
       "        H1975_DMSO_1 H1975_DMSO_2 H1975_DMSO_3 H1975_osi_DTP_1 H1975_osi_DTP_2\n",
       "A1BG    788.8477841  436.0194563  624.1128152  888.7190056     851.905787     \n",
       "A1CF      5.9176652   12.3258496    0.8429555    0.8579344       8.969218     \n",
       "A2M       0.3681615    0.7309377    0.0000000  124.1034271      44.935687     \n",
       "A2ML1    10.0186959   38.1575548   17.7310213   10.8636700      12.917684     \n",
       "A3GALT2   1.0000591    0.9945132    2.9958185    2.0160282       3.036452     \n",
       "A4GALT  564.3877865  340.1630090  409.8402777  668.9767513     655.724842     \n",
       "        H1975_osi_DTP_3\n",
       "A1BG    850.062314     \n",
       "A1CF      9.416306     \n",
       "A2M      21.881597     \n",
       "A2ML1    18.431924     \n",
       "A3GALT2   3.039603     \n",
       "A4GALT  631.619819     "
      ]
     },
     "metadata": {},
     "output_type": "display_data"
    }
   ],
   "source": [
    "# Output the imported data\n",
    "head(data)\n",
    "class(data)\n",
    "samples = data.frame(data[,c(1,32,33,34,41,42,43)], row.names = rownames(data))\n",
    "row_names_genes = data$gene\n",
    "head(samples)\n",
    "samples_no_gene = data.frame(data[,c(32,33,34,41,42,43)], row.names = rownames(data))\n",
    "rownames(samples_no_gene) = row_names_genes\n",
    "head(samples_no_gene)"
   ]
  },
  {
   "cell_type": "code",
   "execution_count": 5,
   "id": "e7b5bcbc-a2b4-48f6-ab31-f3c28c9518b6",
   "metadata": {
    "tags": []
   },
   "outputs": [
    {
     "data": {
      "text/html": [
       "<style>\n",
       ".list-inline {list-style: none; margin:0; padding: 0}\n",
       ".list-inline>li {display: inline-block}\n",
       ".list-inline>li:not(:last-child)::after {content: \"\\00b7\"; padding: 0 .5ex}\n",
       "</style>\n",
       "<ol class=list-inline><li>'matrix'</li><li>'array'</li></ol>\n"
      ],
      "text/latex": [
       "\\begin{enumerate*}\n",
       "\\item 'matrix'\n",
       "\\item 'array'\n",
       "\\end{enumerate*}\n"
      ],
      "text/markdown": [
       "1. 'matrix'\n",
       "2. 'array'\n",
       "\n",
       "\n"
      ],
      "text/plain": [
       "[1] \"matrix\" \"array\" "
      ]
     },
     "metadata": {},
     "output_type": "display_data"
    },
    {
     "data": {
      "text/html": [
       "<table class=\"dataframe\">\n",
       "<caption>A matrix: 6 × 6 of type dbl</caption>\n",
       "<thead>\n",
       "\t<tr><th></th><th scope=col>H1975_DMSO_1</th><th scope=col>H1975_DMSO_2</th><th scope=col>H1975_DMSO_3</th><th scope=col>H1975_osi_DTP_1</th><th scope=col>H1975_osi_DTP_2</th><th scope=col>H1975_osi_DTP_3</th></tr>\n",
       "</thead>\n",
       "<tbody>\n",
       "\t<tr><th scope=row>A1BG</th><td>788.8477841</td><td>436.0194563</td><td>624.1128152</td><td>888.7190056</td><td>851.905787</td><td>850.062314</td></tr>\n",
       "\t<tr><th scope=row>A1CF</th><td>  5.9176652</td><td> 12.3258496</td><td>  0.8429555</td><td>  0.8579344</td><td>  8.969218</td><td>  9.416306</td></tr>\n",
       "\t<tr><th scope=row>A2M</th><td>  0.3681615</td><td>  0.7309377</td><td>  0.0000000</td><td>124.1034271</td><td> 44.935687</td><td> 21.881597</td></tr>\n",
       "\t<tr><th scope=row>A2ML1</th><td> 10.0186959</td><td> 38.1575548</td><td> 17.7310213</td><td> 10.8636700</td><td> 12.917684</td><td> 18.431924</td></tr>\n",
       "\t<tr><th scope=row>A3GALT2</th><td>  1.0000591</td><td>  0.9945132</td><td>  2.9958185</td><td>  2.0160282</td><td>  3.036452</td><td>  3.039603</td></tr>\n",
       "\t<tr><th scope=row>A4GALT</th><td>564.3877865</td><td>340.1630090</td><td>409.8402777</td><td>668.9767513</td><td>655.724842</td><td>631.619819</td></tr>\n",
       "</tbody>\n",
       "</table>\n"
      ],
      "text/latex": [
       "A matrix: 6 × 6 of type dbl\n",
       "\\begin{tabular}{r|llllll}\n",
       "  & H1975\\_DMSO\\_1 & H1975\\_DMSO\\_2 & H1975\\_DMSO\\_3 & H1975\\_osi\\_DTP\\_1 & H1975\\_osi\\_DTP\\_2 & H1975\\_osi\\_DTP\\_3\\\\\n",
       "\\hline\n",
       "\tA1BG & 788.8477841 & 436.0194563 & 624.1128152 & 888.7190056 & 851.905787 & 850.062314\\\\\n",
       "\tA1CF &   5.9176652 &  12.3258496 &   0.8429555 &   0.8579344 &   8.969218 &   9.416306\\\\\n",
       "\tA2M &   0.3681615 &   0.7309377 &   0.0000000 & 124.1034271 &  44.935687 &  21.881597\\\\\n",
       "\tA2ML1 &  10.0186959 &  38.1575548 &  17.7310213 &  10.8636700 &  12.917684 &  18.431924\\\\\n",
       "\tA3GALT2 &   1.0000591 &   0.9945132 &   2.9958185 &   2.0160282 &   3.036452 &   3.039603\\\\\n",
       "\tA4GALT & 564.3877865 & 340.1630090 & 409.8402777 & 668.9767513 & 655.724842 & 631.619819\\\\\n",
       "\\end{tabular}\n"
      ],
      "text/markdown": [
       "\n",
       "A matrix: 6 × 6 of type dbl\n",
       "\n",
       "| <!--/--> | H1975_DMSO_1 | H1975_DMSO_2 | H1975_DMSO_3 | H1975_osi_DTP_1 | H1975_osi_DTP_2 | H1975_osi_DTP_3 |\n",
       "|---|---|---|---|---|---|---|\n",
       "| A1BG | 788.8477841 | 436.0194563 | 624.1128152 | 888.7190056 | 851.905787 | 850.062314 |\n",
       "| A1CF |   5.9176652 |  12.3258496 |   0.8429555 |   0.8579344 |   8.969218 |   9.416306 |\n",
       "| A2M |   0.3681615 |   0.7309377 |   0.0000000 | 124.1034271 |  44.935687 |  21.881597 |\n",
       "| A2ML1 |  10.0186959 |  38.1575548 |  17.7310213 |  10.8636700 |  12.917684 |  18.431924 |\n",
       "| A3GALT2 |   1.0000591 |   0.9945132 |   2.9958185 |   2.0160282 |   3.036452 |   3.039603 |\n",
       "| A4GALT | 564.3877865 | 340.1630090 | 409.8402777 | 668.9767513 | 655.724842 | 631.619819 |\n",
       "\n"
      ],
      "text/plain": [
       "        H1975_DMSO_1 H1975_DMSO_2 H1975_DMSO_3 H1975_osi_DTP_1 H1975_osi_DTP_2\n",
       "A1BG    788.8477841  436.0194563  624.1128152  888.7190056     851.905787     \n",
       "A1CF      5.9176652   12.3258496    0.8429555    0.8579344       8.969218     \n",
       "A2M       0.3681615    0.7309377    0.0000000  124.1034271      44.935687     \n",
       "A2ML1    10.0186959   38.1575548   17.7310213   10.8636700      12.917684     \n",
       "A3GALT2   1.0000591    0.9945132    2.9958185    2.0160282       3.036452     \n",
       "A4GALT  564.3877865  340.1630090  409.8402777  668.9767513     655.724842     \n",
       "        H1975_osi_DTP_3\n",
       "A1BG    850.062314     \n",
       "A1CF      9.416306     \n",
       "A2M      21.881597     \n",
       "A2ML1    18.431924     \n",
       "A3GALT2   3.039603     \n",
       "A4GALT  631.619819     "
      ]
     },
     "metadata": {},
     "output_type": "display_data"
    },
    {
     "name": "stderr",
     "output_type": "stream",
     "text": [
      "Loading required package: limma\n",
      "\n"
     ]
    }
   ],
   "source": [
    "#Data normalization\n",
    "m1=as.matrix(samples_no_gene, rownames.force=NA)\n",
    "class(m1)\n",
    "head(m1)\n",
    "#I load the library\n",
    "#install.packages(\"BiocManager\")\n",
    "#BiocManager::install(\"edgeR\")\n",
    "\n",
    "library(edgeR)"
   ]
  },
  {
   "cell_type": "code",
   "execution_count": 6,
   "id": "3b08b980-209c-463e-a3f1-256988197399",
   "metadata": {
    "tags": []
   },
   "outputs": [
    {
     "data": {
      "text/html": [
       "<table class=\"dataframe\">\n",
       "<caption>A matrix: 6 × 6 of type dbl</caption>\n",
       "<thead>\n",
       "\t<tr><th></th><th scope=col>H1975_DMSO_1</th><th scope=col>H1975_DMSO_2</th><th scope=col>H1975_DMSO_3</th><th scope=col>H1975_osi_DTP_1</th><th scope=col>H1975_osi_DTP_2</th><th scope=col>H1975_osi_DTP_3</th></tr>\n",
       "</thead>\n",
       "<tbody>\n",
       "\t<tr><th scope=row>A1BG</th><td>16.595225463</td><td>10.28022483</td><td>14.54158901</td><td>20.17025642</td><td>17.3383875</td><td>20.58156499</td></tr>\n",
       "\t<tr><th scope=row>A1CF</th><td> 0.124491683</td><td> 0.29061204</td><td> 0.01964054</td><td> 0.01947157</td><td> 0.1825457</td><td> 0.22798601</td></tr>\n",
       "\t<tr><th scope=row>A2M</th><td> 0.007745124</td><td> 0.01723364</td><td> 0.00000000</td><td> 2.81663600</td><td> 0.9145522</td><td> 0.52979352</td></tr>\n",
       "\t<tr><th scope=row>A2ML1</th><td> 0.210766286</td><td> 0.89965766</td><td> 0.41312599</td><td> 0.24656051</td><td> 0.2629068</td><td> 0.44627064</td></tr>\n",
       "\t<tr><th scope=row>A3GALT2</th><td> 0.021038540</td><td> 0.02344808</td><td> 0.06980142</td><td> 0.04575553</td><td> 0.0617993</td><td> 0.07359435</td></tr>\n",
       "\t<tr><th scope=row>A4GALT</th><td>11.873193732</td><td> 8.02017470</td><td> 9.54912114</td><td>15.18301345</td><td>13.3456206</td><td>15.29267223</td></tr>\n",
       "</tbody>\n",
       "</table>\n"
      ],
      "text/latex": [
       "A matrix: 6 × 6 of type dbl\n",
       "\\begin{tabular}{r|llllll}\n",
       "  & H1975\\_DMSO\\_1 & H1975\\_DMSO\\_2 & H1975\\_DMSO\\_3 & H1975\\_osi\\_DTP\\_1 & H1975\\_osi\\_DTP\\_2 & H1975\\_osi\\_DTP\\_3\\\\\n",
       "\\hline\n",
       "\tA1BG & 16.595225463 & 10.28022483 & 14.54158901 & 20.17025642 & 17.3383875 & 20.58156499\\\\\n",
       "\tA1CF &  0.124491683 &  0.29061204 &  0.01964054 &  0.01947157 &  0.1825457 &  0.22798601\\\\\n",
       "\tA2M &  0.007745124 &  0.01723364 &  0.00000000 &  2.81663600 &  0.9145522 &  0.52979352\\\\\n",
       "\tA2ML1 &  0.210766286 &  0.89965766 &  0.41312599 &  0.24656051 &  0.2629068 &  0.44627064\\\\\n",
       "\tA3GALT2 &  0.021038540 &  0.02344808 &  0.06980142 &  0.04575553 &  0.0617993 &  0.07359435\\\\\n",
       "\tA4GALT & 11.873193732 &  8.02017470 &  9.54912114 & 15.18301345 & 13.3456206 & 15.29267223\\\\\n",
       "\\end{tabular}\n"
      ],
      "text/markdown": [
       "\n",
       "A matrix: 6 × 6 of type dbl\n",
       "\n",
       "| <!--/--> | H1975_DMSO_1 | H1975_DMSO_2 | H1975_DMSO_3 | H1975_osi_DTP_1 | H1975_osi_DTP_2 | H1975_osi_DTP_3 |\n",
       "|---|---|---|---|---|---|---|\n",
       "| A1BG | 16.595225463 | 10.28022483 | 14.54158901 | 20.17025642 | 17.3383875 | 20.58156499 |\n",
       "| A1CF |  0.124491683 |  0.29061204 |  0.01964054 |  0.01947157 |  0.1825457 |  0.22798601 |\n",
       "| A2M |  0.007745124 |  0.01723364 |  0.00000000 |  2.81663600 |  0.9145522 |  0.52979352 |\n",
       "| A2ML1 |  0.210766286 |  0.89965766 |  0.41312599 |  0.24656051 |  0.2629068 |  0.44627064 |\n",
       "| A3GALT2 |  0.021038540 |  0.02344808 |  0.06980142 |  0.04575553 |  0.0617993 |  0.07359435 |\n",
       "| A4GALT | 11.873193732 |  8.02017470 |  9.54912114 | 15.18301345 | 13.3456206 | 15.29267223 |\n",
       "\n"
      ],
      "text/plain": [
       "        H1975_DMSO_1 H1975_DMSO_2 H1975_DMSO_3 H1975_osi_DTP_1 H1975_osi_DTP_2\n",
       "A1BG    16.595225463 10.28022483  14.54158901  20.17025642     17.3383875     \n",
       "A1CF     0.124491683  0.29061204   0.01964054   0.01947157      0.1825457     \n",
       "A2M      0.007745124  0.01723364   0.00000000   2.81663600      0.9145522     \n",
       "A2ML1    0.210766286  0.89965766   0.41312599   0.24656051      0.2629068     \n",
       "A3GALT2  0.021038540  0.02344808   0.06980142   0.04575553      0.0617993     \n",
       "A4GALT  11.873193732  8.02017470   9.54912114  15.18301345     13.3456206     \n",
       "        H1975_osi_DTP_3\n",
       "A1BG    20.58156499    \n",
       "A1CF     0.22798601    \n",
       "A2M      0.52979352    \n",
       "A2ML1    0.44627064    \n",
       "A3GALT2  0.07359435    \n",
       "A4GALT  15.29267223    "
      ]
     },
     "metadata": {},
     "output_type": "display_data"
    }
   ],
   "source": [
    "cpm_m1 = edgeR::cpm(m1)\n",
    "#I save the results into a txt file\n",
    "write.table(cpm_m1, file = \"H1975_cells_cpm.txt\", sep =\"\\t\", col.names=NA)\n",
    "head(cpm_m1)"
   ]
  },
  {
   "cell_type": "code",
   "execution_count": 7,
   "id": "307bf348-842b-4a0d-ae93-3624a30b1a6d",
   "metadata": {
    "tags": []
   },
   "outputs": [
    {
     "data": {
      "text/plain": [
       "Importance of components:\n",
       "                           PC1     PC2      PC3      PC4     PC5       PC6\n",
       "Standard deviation     50.3945 16.3950 11.98016 10.32848 8.41077 1.367e-13\n",
       "Proportion of Variance  0.8115  0.0859  0.04586  0.03409 0.02261 0.000e+00\n",
       "Cumulative Proportion   0.8115  0.8974  0.94330  0.97739 1.00000 1.000e+00"
      ]
     },
     "metadata": {},
     "output_type": "display_data"
    }
   ],
   "source": [
    "#Data visualization (PCA)\n",
    "samples_2= read.table(\"H1975_cells_cpm.txt\", sep=\"\\t\", header = TRUE, row.names=1)\n",
    "samples_2 = log2(samples_2+1)\n",
    "pca = prcomp(t(samples_2))\n",
    "summary(pca)"
   ]
  },
  {
   "cell_type": "code",
   "execution_count": 8,
   "id": "08aefba8-683a-4a8a-8d49-37791ac90e50",
   "metadata": {
    "tags": []
   },
   "outputs": [
    {
     "data": {
      "text/html": [
       "<table class=\"dataframe\">\n",
       "<caption>A matrix: 6 × 6 of type dbl</caption>\n",
       "<thead>\n",
       "\t<tr><th></th><th scope=col>PC1</th><th scope=col>PC2</th><th scope=col>PC3</th><th scope=col>PC4</th><th scope=col>PC5</th><th scope=col>PC6</th></tr>\n",
       "</thead>\n",
       "<tbody>\n",
       "\t<tr><th scope=row>H1975_DMSO_1</th><td>-52.97515</td><td> 18.241784</td><td> -2.459494</td><td> -0.7371208</td><td>-11.2100621</td><td> 9.443715e-14</td></tr>\n",
       "\t<tr><th scope=row>H1975_DMSO_2</th><td>-33.32743</td><td>-25.715923</td><td>  9.868506</td><td>  7.1839347</td><td> -2.7477227</td><td> 8.232128e-14</td></tr>\n",
       "\t<tr><th scope=row>H1975_DMSO_3</th><td>-49.23097</td><td>  5.311382</td><td> -2.597891</td><td> -3.4385762</td><td> 14.4447404</td><td> 6.484539e-13</td></tr>\n",
       "\t<tr><th scope=row>H1975_osi_DTP_1</th><td> 48.05740</td><td>  5.096384</td><td>-10.506137</td><td> 15.8574338</td><td>  1.5599939</td><td>-3.708749e-13</td></tr>\n",
       "\t<tr><th scope=row>H1975_osi_DTP_2</th><td> 33.20917</td><td>-13.537976</td><td>-12.657981</td><td>-13.9047952</td><td> -2.9353429</td><td>-1.100613e-13</td></tr>\n",
       "\t<tr><th scope=row>H1975_osi_DTP_3</th><td> 54.26698</td><td> 10.604349</td><td> 18.352997</td><td> -4.9608764</td><td>  0.8883935</td><td>-3.010840e-13</td></tr>\n",
       "</tbody>\n",
       "</table>\n"
      ],
      "text/latex": [
       "A matrix: 6 × 6 of type dbl\n",
       "\\begin{tabular}{r|llllll}\n",
       "  & PC1 & PC2 & PC3 & PC4 & PC5 & PC6\\\\\n",
       "\\hline\n",
       "\tH1975\\_DMSO\\_1 & -52.97515 &  18.241784 &  -2.459494 &  -0.7371208 & -11.2100621 &  9.443715e-14\\\\\n",
       "\tH1975\\_DMSO\\_2 & -33.32743 & -25.715923 &   9.868506 &   7.1839347 &  -2.7477227 &  8.232128e-14\\\\\n",
       "\tH1975\\_DMSO\\_3 & -49.23097 &   5.311382 &  -2.597891 &  -3.4385762 &  14.4447404 &  6.484539e-13\\\\\n",
       "\tH1975\\_osi\\_DTP\\_1 &  48.05740 &   5.096384 & -10.506137 &  15.8574338 &   1.5599939 & -3.708749e-13\\\\\n",
       "\tH1975\\_osi\\_DTP\\_2 &  33.20917 & -13.537976 & -12.657981 & -13.9047952 &  -2.9353429 & -1.100613e-13\\\\\n",
       "\tH1975\\_osi\\_DTP\\_3 &  54.26698 &  10.604349 &  18.352997 &  -4.9608764 &   0.8883935 & -3.010840e-13\\\\\n",
       "\\end{tabular}\n"
      ],
      "text/markdown": [
       "\n",
       "A matrix: 6 × 6 of type dbl\n",
       "\n",
       "| <!--/--> | PC1 | PC2 | PC3 | PC4 | PC5 | PC6 |\n",
       "|---|---|---|---|---|---|---|\n",
       "| H1975_DMSO_1 | -52.97515 |  18.241784 |  -2.459494 |  -0.7371208 | -11.2100621 |  9.443715e-14 |\n",
       "| H1975_DMSO_2 | -33.32743 | -25.715923 |   9.868506 |   7.1839347 |  -2.7477227 |  8.232128e-14 |\n",
       "| H1975_DMSO_3 | -49.23097 |   5.311382 |  -2.597891 |  -3.4385762 |  14.4447404 |  6.484539e-13 |\n",
       "| H1975_osi_DTP_1 |  48.05740 |   5.096384 | -10.506137 |  15.8574338 |   1.5599939 | -3.708749e-13 |\n",
       "| H1975_osi_DTP_2 |  33.20917 | -13.537976 | -12.657981 | -13.9047952 |  -2.9353429 | -1.100613e-13 |\n",
       "| H1975_osi_DTP_3 |  54.26698 |  10.604349 |  18.352997 |  -4.9608764 |   0.8883935 | -3.010840e-13 |\n",
       "\n"
      ],
      "text/plain": [
       "                PC1       PC2        PC3        PC4         PC5        \n",
       "H1975_DMSO_1    -52.97515  18.241784  -2.459494  -0.7371208 -11.2100621\n",
       "H1975_DMSO_2    -33.32743 -25.715923   9.868506   7.1839347  -2.7477227\n",
       "H1975_DMSO_3    -49.23097   5.311382  -2.597891  -3.4385762  14.4447404\n",
       "H1975_osi_DTP_1  48.05740   5.096384 -10.506137  15.8574338   1.5599939\n",
       "H1975_osi_DTP_2  33.20917 -13.537976 -12.657981 -13.9047952  -2.9353429\n",
       "H1975_osi_DTP_3  54.26698  10.604349  18.352997  -4.9608764   0.8883935\n",
       "                PC6          \n",
       "H1975_DMSO_1     9.443715e-14\n",
       "H1975_DMSO_2     8.232128e-14\n",
       "H1975_DMSO_3     6.484539e-13\n",
       "H1975_osi_DTP_1 -3.708749e-13\n",
       "H1975_osi_DTP_2 -1.100613e-13\n",
       "H1975_osi_DTP_3 -3.010840e-13"
      ]
     },
     "metadata": {},
     "output_type": "display_data"
    },
    {
     "data": {
      "text/html": [
       "<strong>png:</strong> 2"
      ],
      "text/latex": [
       "\\textbf{png:} 2"
      ],
      "text/markdown": [
       "**png:** 2"
      ],
      "text/plain": [
       "png \n",
       "  2 "
      ]
     },
     "metadata": {},
     "output_type": "display_data"
    }
   ],
   "source": [
    "#Scree plot\n",
    "variance_pca =  pca$sdev^2\n",
    "percentage_var_pca = round(variance_pca/sum(variance_pca)*100, 1)\n",
    "head(pca$x)\n",
    "pdf(\"H1975_cells_screeplot.pdf\")\n",
    "scree_plot = barplot(percentage_var_pca, main=\"Scree Plot\", xlab=\"Principal Component\", ylab=\"Percent Variation\", ylim = c(0,100))\n",
    "dev.off()"
   ]
  },
  {
   "cell_type": "code",
   "execution_count": 9,
   "id": "c53b0436-4c69-4de7-b031-45b038eb2637",
   "metadata": {
    "tags": []
   },
   "outputs": [
    {
     "data": {
      "text/html": [
       "<style>\n",
       ".list-inline {list-style: none; margin:0; padding: 0}\n",
       ".list-inline>li {display: inline-block}\n",
       ".list-inline>li:not(:last-child)::after {content: \"\\00b7\"; padding: 0 .5ex}\n",
       "</style>\n",
       "<ol class=list-inline><li>6</li><li>3</li></ol>\n"
      ],
      "text/latex": [
       "\\begin{enumerate*}\n",
       "\\item 6\n",
       "\\item 3\n",
       "\\end{enumerate*}\n"
      ],
      "text/markdown": [
       "1. 6\n",
       "2. 3\n",
       "\n",
       "\n"
      ],
      "text/plain": [
       "[1] 6 3"
      ]
     },
     "metadata": {},
     "output_type": "display_data"
    },
    {
     "data": {
      "text/html": [
       "<table class=\"dataframe\">\n",
       "<caption>A data.frame: 6 × 3</caption>\n",
       "<thead>\n",
       "\t<tr><th></th><th scope=col>Sample</th><th scope=col>PC1</th><th scope=col>PC2</th></tr>\n",
       "\t<tr><th></th><th scope=col>&lt;chr&gt;</th><th scope=col>&lt;dbl&gt;</th><th scope=col>&lt;dbl&gt;</th></tr>\n",
       "</thead>\n",
       "<tbody>\n",
       "\t<tr><th scope=row>H1975_DMSO_1</th><td>H1975_DMSO_1   </td><td>-52.97515</td><td> 18.241784</td></tr>\n",
       "\t<tr><th scope=row>H1975_DMSO_2</th><td>H1975_DMSO_2   </td><td>-33.32743</td><td>-25.715923</td></tr>\n",
       "\t<tr><th scope=row>H1975_DMSO_3</th><td>H1975_DMSO_3   </td><td>-49.23097</td><td>  5.311382</td></tr>\n",
       "\t<tr><th scope=row>H1975_osi_DTP_1</th><td>H1975_osi_DTP_1</td><td> 48.05740</td><td>  5.096384</td></tr>\n",
       "\t<tr><th scope=row>H1975_osi_DTP_2</th><td>H1975_osi_DTP_2</td><td> 33.20917</td><td>-13.537976</td></tr>\n",
       "\t<tr><th scope=row>H1975_osi_DTP_3</th><td>H1975_osi_DTP_3</td><td> 54.26698</td><td> 10.604349</td></tr>\n",
       "</tbody>\n",
       "</table>\n"
      ],
      "text/latex": [
       "A data.frame: 6 × 3\n",
       "\\begin{tabular}{r|lll}\n",
       "  & Sample & PC1 & PC2\\\\\n",
       "  & <chr> & <dbl> & <dbl>\\\\\n",
       "\\hline\n",
       "\tH1975\\_DMSO\\_1 & H1975\\_DMSO\\_1    & -52.97515 &  18.241784\\\\\n",
       "\tH1975\\_DMSO\\_2 & H1975\\_DMSO\\_2    & -33.32743 & -25.715923\\\\\n",
       "\tH1975\\_DMSO\\_3 & H1975\\_DMSO\\_3    & -49.23097 &   5.311382\\\\\n",
       "\tH1975\\_osi\\_DTP\\_1 & H1975\\_osi\\_DTP\\_1 &  48.05740 &   5.096384\\\\\n",
       "\tH1975\\_osi\\_DTP\\_2 & H1975\\_osi\\_DTP\\_2 &  33.20917 & -13.537976\\\\\n",
       "\tH1975\\_osi\\_DTP\\_3 & H1975\\_osi\\_DTP\\_3 &  54.26698 &  10.604349\\\\\n",
       "\\end{tabular}\n"
      ],
      "text/markdown": [
       "\n",
       "A data.frame: 6 × 3\n",
       "\n",
       "| <!--/--> | Sample &lt;chr&gt; | PC1 &lt;dbl&gt; | PC2 &lt;dbl&gt; |\n",
       "|---|---|---|---|\n",
       "| H1975_DMSO_1 | H1975_DMSO_1    | -52.97515 |  18.241784 |\n",
       "| H1975_DMSO_2 | H1975_DMSO_2    | -33.32743 | -25.715923 |\n",
       "| H1975_DMSO_3 | H1975_DMSO_3    | -49.23097 |   5.311382 |\n",
       "| H1975_osi_DTP_1 | H1975_osi_DTP_1 |  48.05740 |   5.096384 |\n",
       "| H1975_osi_DTP_2 | H1975_osi_DTP_2 |  33.20917 | -13.537976 |\n",
       "| H1975_osi_DTP_3 | H1975_osi_DTP_3 |  54.26698 |  10.604349 |\n",
       "\n"
      ],
      "text/plain": [
       "                Sample          PC1       PC2       \n",
       "H1975_DMSO_1    H1975_DMSO_1    -52.97515  18.241784\n",
       "H1975_DMSO_2    H1975_DMSO_2    -33.32743 -25.715923\n",
       "H1975_DMSO_3    H1975_DMSO_3    -49.23097   5.311382\n",
       "H1975_osi_DTP_1 H1975_osi_DTP_1  48.05740   5.096384\n",
       "H1975_osi_DTP_2 H1975_osi_DTP_2  33.20917 -13.537976\n",
       "H1975_osi_DTP_3 H1975_osi_DTP_3  54.26698  10.604349"
      ]
     },
     "metadata": {},
     "output_type": "display_data"
    },
    {
     "data": {
      "text/html": [
       "<strong>png:</strong> 2"
      ],
      "text/latex": [
       "\\textbf{png:} 2"
      ],
      "text/markdown": [
       "**png:** 2"
      ],
      "text/plain": [
       "png \n",
       "  2 "
      ]
     },
     "metadata": {},
     "output_type": "display_data"
    }
   ],
   "source": [
    "#install.packages(\"ggplot2\")\n",
    "library(ggplot2)\n",
    "table_pc1_pc2 = data.frame(Sample=rownames(pca$x),\n",
    "                            PC1=pca$x[,1],\n",
    "                            PC2=pca$x[,2])\n",
    "dim(table_pc1_pc2) \n",
    "head(table_pc1_pc2)\n",
    "\n",
    "pdf(\"H1975_cells_pca.pdf\")\n",
    "ggplot(data=table_pc1_pc2, aes(x=PC1, y=PC2, color=Sample)) +\n",
    "  geom_point() +\n",
    "  scale_color_manual(labels = c(rep(\"treated\",3), rep(\"ctrl\",3)), \n",
    "                     values = c(rep(\"violetred\",3), rep(\"cyan3\",3))) +\n",
    "  xlab(paste(\"PC1 - \", percentage_var_pca[1], \"%\", sep=\"\")) +\n",
    "  ylab(paste(\"PC2 - \", percentage_var_pca[2], \"%\", sep=\"\")) +\n",
    "  ggtitle(\"PCA H1975\")\n",
    "dev.off()"
   ]
  },
  {
   "cell_type": "code",
   "execution_count": 10,
   "id": "594c3211-4bcf-491b-9a79-7d6683a377ee",
   "metadata": {
    "tags": []
   },
   "outputs": [
    {
     "data": {
      "text/html": [
       "<style>\n",
       ".list-inline {list-style: none; margin:0; padding: 0}\n",
       ".list-inline>li {display: inline-block}\n",
       ".list-inline>li:not(:last-child)::after {content: \"\\00b7\"; padding: 0 .5ex}\n",
       "</style>\n",
       "<ol class=list-inline><li>'ESRP1'</li><li>'CDH1'</li><li>'LAD1'</li><li>'MAL2'</li><li>'VGF'</li><li>'TMEM30B'</li><li>'CNN1'</li><li>'EDN2'</li><li>'MYEOV'</li><li>'RTL1'</li></ol>\n"
      ],
      "text/latex": [
       "\\begin{enumerate*}\n",
       "\\item 'ESRP1'\n",
       "\\item 'CDH1'\n",
       "\\item 'LAD1'\n",
       "\\item 'MAL2'\n",
       "\\item 'VGF'\n",
       "\\item 'TMEM30B'\n",
       "\\item 'CNN1'\n",
       "\\item 'EDN2'\n",
       "\\item 'MYEOV'\n",
       "\\item 'RTL1'\n",
       "\\end{enumerate*}\n"
      ],
      "text/markdown": [
       "1. 'ESRP1'\n",
       "2. 'CDH1'\n",
       "3. 'LAD1'\n",
       "4. 'MAL2'\n",
       "5. 'VGF'\n",
       "6. 'TMEM30B'\n",
       "7. 'CNN1'\n",
       "8. 'EDN2'\n",
       "9. 'MYEOV'\n",
       "10. 'RTL1'\n",
       "\n",
       "\n"
      ],
      "text/plain": [
       " [1] \"ESRP1\"   \"CDH1\"    \"LAD1\"    \"MAL2\"    \"VGF\"     \"TMEM30B\" \"CNN1\"   \n",
       " [8] \"EDN2\"    \"MYEOV\"   \"RTL1\"   "
      ]
     },
     "metadata": {},
     "output_type": "display_data"
    },
    {
     "data": {
      "text/html": [
       "<style>\n",
       ".dl-inline {width: auto; margin:0; padding: 0}\n",
       ".dl-inline>dt, .dl-inline>dd {float: none; width: auto; display: inline-block}\n",
       ".dl-inline>dt::after {content: \":\\0020\"; padding-right: .5ex}\n",
       ".dl-inline>dt:not(:first-of-type) {padding-left: .5ex}\n",
       "</style><dl class=dl-inline><dt>ESRP1</dt><dd>-0.0600558930601121</dd><dt>CDH1</dt><dd>-0.0534439882100421</dd><dt>LAD1</dt><dd>-0.0525036737036465</dd><dt>MAL2</dt><dd>-0.0490091519480095</dd><dt>VGF</dt><dd>-0.0475240246716681</dd><dt>TMEM30B</dt><dd>-0.0470419169322274</dd><dt>CNN1</dt><dd>0.0469667351183122</dd><dt>EDN2</dt><dd>0.0466683935153928</dd><dt>MYEOV</dt><dd>-0.0459249158975024</dd><dt>RTL1</dt><dd>-0.04494659547304</dd></dl>\n"
      ],
      "text/latex": [
       "\\begin{description*}\n",
       "\\item[ESRP1] -0.0600558930601121\n",
       "\\item[CDH1] -0.0534439882100421\n",
       "\\item[LAD1] -0.0525036737036465\n",
       "\\item[MAL2] -0.0490091519480095\n",
       "\\item[VGF] -0.0475240246716681\n",
       "\\item[TMEM30B] -0.0470419169322274\n",
       "\\item[CNN1] 0.0469667351183122\n",
       "\\item[EDN2] 0.0466683935153928\n",
       "\\item[MYEOV] -0.0459249158975024\n",
       "\\item[RTL1] -0.04494659547304\n",
       "\\end{description*}\n"
      ],
      "text/markdown": [
       "ESRP1\n",
       ":   -0.0600558930601121CDH1\n",
       ":   -0.0534439882100421LAD1\n",
       ":   -0.0525036737036465MAL2\n",
       ":   -0.0490091519480095VGF\n",
       ":   -0.0475240246716681TMEM30B\n",
       ":   -0.0470419169322274CNN1\n",
       ":   0.0469667351183122EDN2\n",
       ":   0.0466683935153928MYEOV\n",
       ":   -0.0459249158975024RTL1\n",
       ":   -0.04494659547304\n",
       "\n"
      ],
      "text/plain": [
       "      ESRP1        CDH1        LAD1        MAL2         VGF     TMEM30B \n",
       "-0.06005589 -0.05344399 -0.05250367 -0.04900915 -0.04752402 -0.04704192 \n",
       "       CNN1        EDN2       MYEOV        RTL1 \n",
       " 0.04696674  0.04666839 -0.04592492 -0.04494660 "
      ]
     },
     "metadata": {},
     "output_type": "display_data"
    }
   ],
   "source": [
    "#Which genes contribute more to the PC1?\n",
    "loading_scores_pc1 = pca$rotation[,1]\n",
    "gene_scores_pc1 = abs(loading_scores_pc1) \n",
    "ranking_genes_pc1 = sort(gene_scores_pc1, decreasing=TRUE)\n",
    "genes_names_pc1_top10 = names(ranking_genes_pc1[1:10])\n",
    "genes_names_pc1_top10\n",
    "\n",
    "genes_pc1_top10 = pca$rotation[genes_names_pc1_top10,1]\n",
    "genes_pc1_top10\n",
    "write.table(genes_pc1_top10, file = \"H1975_cells_top10genes_pc1.txt\", sep =\"\\t\", col.names=NA)\n"
   ]
  },
  {
   "cell_type": "code",
   "execution_count": 11,
   "id": "c6049270-7ffc-40cc-97c4-55c1a7bf919c",
   "metadata": {
    "tags": []
   },
   "outputs": [
    {
     "data": {
      "text/html": [
       "<style>\n",
       ".list-inline {list-style: none; margin:0; padding: 0}\n",
       ".list-inline>li {display: inline-block}\n",
       ".list-inline>li:not(:last-child)::after {content: \"\\00b7\"; padding: 0 .5ex}\n",
       "</style>\n",
       "<ol class=list-inline><li>'FOS'</li><li>'PLCB4'</li><li>'ANXA8L1'</li><li>'ANXA8'</li><li>'AL035078.4'</li><li>'SERPINA5'</li><li>'CXCR5'</li><li>'PLXNA4'</li><li>'PLEKHS1'</li><li>'CCN5'</li></ol>\n"
      ],
      "text/latex": [
       "\\begin{enumerate*}\n",
       "\\item 'FOS'\n",
       "\\item 'PLCB4'\n",
       "\\item 'ANXA8L1'\n",
       "\\item 'ANXA8'\n",
       "\\item 'AL035078.4'\n",
       "\\item 'SERPINA5'\n",
       "\\item 'CXCR5'\n",
       "\\item 'PLXNA4'\n",
       "\\item 'PLEKHS1'\n",
       "\\item 'CCN5'\n",
       "\\end{enumerate*}\n"
      ],
      "text/markdown": [
       "1. 'FOS'\n",
       "2. 'PLCB4'\n",
       "3. 'ANXA8L1'\n",
       "4. 'ANXA8'\n",
       "5. 'AL035078.4'\n",
       "6. 'SERPINA5'\n",
       "7. 'CXCR5'\n",
       "8. 'PLXNA4'\n",
       "9. 'PLEKHS1'\n",
       "10. 'CCN5'\n",
       "\n",
       "\n"
      ],
      "text/plain": [
       " [1] \"FOS\"        \"PLCB4\"      \"ANXA8L1\"    \"ANXA8\"      \"AL035078.4\"\n",
       " [6] \"SERPINA5\"   \"CXCR5\"      \"PLXNA4\"     \"PLEKHS1\"    \"CCN5\"      "
      ]
     },
     "metadata": {},
     "output_type": "display_data"
    },
    {
     "data": {
      "text/html": [
       "<style>\n",
       ".dl-inline {width: auto; margin:0; padding: 0}\n",
       ".dl-inline>dt, .dl-inline>dd {float: none; width: auto; display: inline-block}\n",
       ".dl-inline>dt::after {content: \":\\0020\"; padding-right: .5ex}\n",
       ".dl-inline>dt:not(:first-of-type) {padding-left: .5ex}\n",
       "</style><dl class=dl-inline><dt>FOS</dt><dd>-0.0269212269168918</dd><dt>PLCB4</dt><dd>0.00551968125886638</dd><dt>ANXA8L1</dt><dd>-0.0252492163635876</dd><dt>ANXA8</dt><dd>-0.0256509546201256</dd><dt>AL035078.4</dt><dd>0.0115066031263654</dd><dt>SERPINA5</dt><dd>-0.0224916801114959</dd><dt>CXCR5</dt><dd>0.00998329072106608</dd><dt>PLXNA4</dt><dd>-0.0231284818167448</dd><dt>PLEKHS1</dt><dd>0.0222574204330399</dd><dt>CCN5</dt><dd>0.0317287768486472</dd></dl>\n"
      ],
      "text/latex": [
       "\\begin{description*}\n",
       "\\item[FOS] -0.0269212269168918\n",
       "\\item[PLCB4] 0.00551968125886638\n",
       "\\item[ANXA8L1] -0.0252492163635876\n",
       "\\item[ANXA8] -0.0256509546201256\n",
       "\\item[AL035078.4] 0.0115066031263654\n",
       "\\item[SERPINA5] -0.0224916801114959\n",
       "\\item[CXCR5] 0.00998329072106608\n",
       "\\item[PLXNA4] -0.0231284818167448\n",
       "\\item[PLEKHS1] 0.0222574204330399\n",
       "\\item[CCN5] 0.0317287768486472\n",
       "\\end{description*}\n"
      ],
      "text/markdown": [
       "FOS\n",
       ":   -0.0269212269168918PLCB4\n",
       ":   0.00551968125886638ANXA8L1\n",
       ":   -0.0252492163635876ANXA8\n",
       ":   -0.0256509546201256AL035078.4\n",
       ":   0.0115066031263654SERPINA5\n",
       ":   -0.0224916801114959CXCR5\n",
       ":   0.00998329072106608PLXNA4\n",
       ":   -0.0231284818167448PLEKHS1\n",
       ":   0.0222574204330399CCN5\n",
       ":   0.0317287768486472\n",
       "\n"
      ],
      "text/plain": [
       "         FOS        PLCB4      ANXA8L1        ANXA8   AL035078.4     SERPINA5 \n",
       "-0.026921227  0.005519681 -0.025249216 -0.025650955  0.011506603 -0.022491680 \n",
       "       CXCR5       PLXNA4      PLEKHS1         CCN5 \n",
       " 0.009983291 -0.023128482  0.022257420  0.031728777 "
      ]
     },
     "metadata": {},
     "output_type": "display_data"
    }
   ],
   "source": [
    "#Which genes contribute more to the PC2?\n",
    "loading_scores_pc2 = pca$rotation[,2]\n",
    "gene_scores_pc2 = abs(loading_scores_pc2) #why do we have to consider the absolute value?\n",
    "ranking_genes_pc2 = sort(gene_scores_pc2, decreasing=TRUE)\n",
    "genes_names_pc2_top10 = names(ranking_genes_pc2[1:10])\n",
    "genes_names_pc2_top10\n",
    "\n",
    "genes_pc2_top10 = pca$rotation[genes_names_pc2_top10,1]\n",
    "genes_pc2_top10\n",
    "write.table(genes_pc2_top10, file = \"H1975_cells_top10genes_pc2.txt\", sep =\"\\t\", col.names=NA)\n"
   ]
  },
  {
   "cell_type": "code",
   "execution_count": 12,
   "id": "11f80fe1-c552-4ba3-9a5b-8ec20af45abf",
   "metadata": {
    "tags": []
   },
   "outputs": [
    {
     "name": "stderr",
     "output_type": "stream",
     "text": [
      "Loading required package: S4Vectors\n",
      "\n",
      "Loading required package: stats4\n",
      "\n",
      "Loading required package: BiocGenerics\n",
      "\n",
      "\n",
      "Attaching package: ‘BiocGenerics’\n",
      "\n",
      "\n",
      "The following object is masked from ‘package:limma’:\n",
      "\n",
      "    plotMA\n",
      "\n",
      "\n",
      "The following objects are masked from ‘package:stats’:\n",
      "\n",
      "    IQR, mad, sd, var, xtabs\n",
      "\n",
      "\n",
      "The following objects are masked from ‘package:base’:\n",
      "\n",
      "    Filter, Find, Map, Position, Reduce, anyDuplicated, append,\n",
      "    as.data.frame, basename, cbind, colnames, dirname, do.call,\n",
      "    duplicated, eval, evalq, get, grep, grepl, intersect, is.unsorted,\n",
      "    lapply, mapply, match, mget, order, paste, pmax, pmax.int, pmin,\n",
      "    pmin.int, rank, rbind, rownames, sapply, setdiff, sort, table,\n",
      "    tapply, union, unique, unsplit, which.max, which.min\n",
      "\n",
      "\n",
      "\n",
      "Attaching package: ‘S4Vectors’\n",
      "\n",
      "\n",
      "The following objects are masked from ‘package:base’:\n",
      "\n",
      "    I, expand.grid, unname\n",
      "\n",
      "\n",
      "Loading required package: IRanges\n",
      "\n",
      "Loading required package: GenomicRanges\n",
      "\n",
      "Loading required package: GenomeInfoDb\n",
      "\n",
      "Loading required package: SummarizedExperiment\n",
      "\n",
      "Loading required package: MatrixGenerics\n",
      "\n",
      "Loading required package: matrixStats\n",
      "\n",
      "\n",
      "Attaching package: ‘MatrixGenerics’\n",
      "\n",
      "\n",
      "The following objects are masked from ‘package:matrixStats’:\n",
      "\n",
      "    colAlls, colAnyNAs, colAnys, colAvgsPerRowSet, colCollapse,\n",
      "    colCounts, colCummaxs, colCummins, colCumprods, colCumsums,\n",
      "    colDiffs, colIQRDiffs, colIQRs, colLogSumExps, colMadDiffs,\n",
      "    colMads, colMaxs, colMeans2, colMedians, colMins, colOrderStats,\n",
      "    colProds, colQuantiles, colRanges, colRanks, colSdDiffs, colSds,\n",
      "    colSums2, colTabulates, colVarDiffs, colVars, colWeightedMads,\n",
      "    colWeightedMeans, colWeightedMedians, colWeightedSds,\n",
      "    colWeightedVars, rowAlls, rowAnyNAs, rowAnys, rowAvgsPerColSet,\n",
      "    rowCollapse, rowCounts, rowCummaxs, rowCummins, rowCumprods,\n",
      "    rowCumsums, rowDiffs, rowIQRDiffs, rowIQRs, rowLogSumExps,\n",
      "    rowMadDiffs, rowMads, rowMaxs, rowMeans2, rowMedians, rowMins,\n",
      "    rowOrderStats, rowProds, rowQuantiles, rowRanges, rowRanks,\n",
      "    rowSdDiffs, rowSds, rowSums2, rowTabulates, rowVarDiffs, rowVars,\n",
      "    rowWeightedMads, rowWeightedMeans, rowWeightedMedians,\n",
      "    rowWeightedSds, rowWeightedVars\n",
      "\n",
      "\n",
      "Loading required package: Biobase\n",
      "\n",
      "Welcome to Bioconductor\n",
      "\n",
      "    Vignettes contain introductory material; view with\n",
      "    'browseVignettes()'. To cite Bioconductor, see\n",
      "    'citation(\"Biobase\")', and for packages 'citation(\"pkgname\")'.\n",
      "\n",
      "\n",
      "\n",
      "Attaching package: ‘Biobase’\n",
      "\n",
      "\n",
      "The following object is masked from ‘package:MatrixGenerics’:\n",
      "\n",
      "    rowMedians\n",
      "\n",
      "\n",
      "The following objects are masked from ‘package:matrixStats’:\n",
      "\n",
      "    anyMissing, rowMedians\n",
      "\n",
      "\n"
     ]
    }
   ],
   "source": [
    "library(\"DESeq2\")"
   ]
  },
  {
   "cell_type": "code",
   "execution_count": 13,
   "id": "e9424ccd-c02c-4d9d-a23b-163bf9948bef",
   "metadata": {
    "tags": []
   },
   "outputs": [
    {
     "data": {
      "text/html": [
       "<style>\n",
       ".list-inline {list-style: none; margin:0; padding: 0}\n",
       ".list-inline>li {display: inline-block}\n",
       ".list-inline>li:not(:last-child)::after {content: \"\\00b7\"; padding: 0 .5ex}\n",
       "</style>\n",
       "<ol class=list-inline><li>'matrix'</li><li>'array'</li></ol>\n"
      ],
      "text/latex": [
       "\\begin{enumerate*}\n",
       "\\item 'matrix'\n",
       "\\item 'array'\n",
       "\\end{enumerate*}\n"
      ],
      "text/markdown": [
       "1. 'matrix'\n",
       "2. 'array'\n",
       "\n",
       "\n"
      ],
      "text/plain": [
       "[1] \"matrix\" \"array\" "
      ]
     },
     "metadata": {},
     "output_type": "display_data"
    },
    {
     "name": "stderr",
     "output_type": "stream",
     "text": [
      "estimating size factors\n",
      "\n",
      "estimating dispersions\n",
      "\n",
      "gene-wise dispersion estimates\n",
      "\n",
      "mean-dispersion relationship\n",
      "\n",
      "final dispersion estimates\n",
      "\n",
      "fitting model and testing\n",
      "\n"
     ]
    },
    {
     "name": "stdout",
     "output_type": "stream",
     "text": [
      "\n",
      "out of 17723 with nonzero total read count\n",
      "adjusted p-value < 0.1\n",
      "LFC > 0 (up)       : 3906, 22%\n",
      "LFC < 0 (down)     : 4095, 23%\n",
      "outliers [1]       : 4, 0.023%\n",
      "low counts [2]     : 1025, 5.8%\n",
      "(mean count < 1)\n",
      "[1] see 'cooksCutoff' argument of ?results\n",
      "[2] see 'independentFiltering' argument of ?results\n",
      "\n"
     ]
    },
    {
     "data": {
      "text/html": [
       "'data.frame'"
      ],
      "text/latex": [
       "'data.frame'"
      ],
      "text/markdown": [
       "'data.frame'"
      ],
      "text/plain": [
       "[1] \"data.frame\""
      ]
     },
     "metadata": {},
     "output_type": "display_data"
    },
    {
     "data": {
      "text/html": [
       "<table class=\"dataframe\">\n",
       "<caption>A data.frame: 6 × 7</caption>\n",
       "<thead>\n",
       "\t<tr><th></th><th scope=col>gene</th><th scope=col>baseMean</th><th scope=col>log2FoldChange</th><th scope=col>lfcSE</th><th scope=col>stat</th><th scope=col>pvalue</th><th scope=col>padj</th></tr>\n",
       "\t<tr><th></th><th scope=col>&lt;chr&gt;</th><th scope=col>&lt;dbl&gt;</th><th scope=col>&lt;dbl&gt;</th><th scope=col>&lt;dbl&gt;</th><th scope=col>&lt;dbl&gt;</th><th scope=col>&lt;dbl&gt;</th><th scope=col>&lt;dbl&gt;</th></tr>\n",
       "</thead>\n",
       "<tbody>\n",
       "\t<tr><th scope=row>3</th><td>A2M  </td><td> 31.19067</td><td> 8.406729</td><td>1.4061637</td><td> 5.978485</td><td>2.252219e-09</td><td>2.435139e-08</td></tr>\n",
       "\t<tr><th scope=row>14</th><td>AADAT</td><td>519.24891</td><td>-1.185638</td><td>0.1758240</td><td>-6.743319</td><td>1.548084e-11</td><td>2.373160e-10</td></tr>\n",
       "\t<tr><th scope=row>17</th><td>AAMDC</td><td>443.60869</td><td> 1.354595</td><td>0.2163098</td><td> 6.262289</td><td>3.793659e-10</td><td>4.656717e-09</td></tr>\n",
       "\t<tr><th scope=row>19</th><td>AANAT</td><td> 43.91813</td><td>-3.340325</td><td>0.5007026</td><td>-6.671275</td><td>2.535904e-11</td><td>3.779855e-10</td></tr>\n",
       "\t<tr><th scope=row>27</th><td>AASS </td><td> 95.45950</td><td> 3.027056</td><td>0.4494267</td><td> 6.735371</td><td>1.635122e-11</td><td>2.504287e-10</td></tr>\n",
       "\t<tr><th scope=row>30</th><td>ABAT </td><td>417.24621</td><td> 1.405086</td><td>0.2461975</td><td> 5.707149</td><td>1.148844e-08</td><td>1.079280e-07</td></tr>\n",
       "</tbody>\n",
       "</table>\n"
      ],
      "text/latex": [
       "A data.frame: 6 × 7\n",
       "\\begin{tabular}{r|lllllll}\n",
       "  & gene & baseMean & log2FoldChange & lfcSE & stat & pvalue & padj\\\\\n",
       "  & <chr> & <dbl> & <dbl> & <dbl> & <dbl> & <dbl> & <dbl>\\\\\n",
       "\\hline\n",
       "\t3 & A2M   &  31.19067 &  8.406729 & 1.4061637 &  5.978485 & 2.252219e-09 & 2.435139e-08\\\\\n",
       "\t14 & AADAT & 519.24891 & -1.185638 & 0.1758240 & -6.743319 & 1.548084e-11 & 2.373160e-10\\\\\n",
       "\t17 & AAMDC & 443.60869 &  1.354595 & 0.2163098 &  6.262289 & 3.793659e-10 & 4.656717e-09\\\\\n",
       "\t19 & AANAT &  43.91813 & -3.340325 & 0.5007026 & -6.671275 & 2.535904e-11 & 3.779855e-10\\\\\n",
       "\t27 & AASS  &  95.45950 &  3.027056 & 0.4494267 &  6.735371 & 1.635122e-11 & 2.504287e-10\\\\\n",
       "\t30 & ABAT  & 417.24621 &  1.405086 & 0.2461975 &  5.707149 & 1.148844e-08 & 1.079280e-07\\\\\n",
       "\\end{tabular}\n"
      ],
      "text/markdown": [
       "\n",
       "A data.frame: 6 × 7\n",
       "\n",
       "| <!--/--> | gene &lt;chr&gt; | baseMean &lt;dbl&gt; | log2FoldChange &lt;dbl&gt; | lfcSE &lt;dbl&gt; | stat &lt;dbl&gt; | pvalue &lt;dbl&gt; | padj &lt;dbl&gt; |\n",
       "|---|---|---|---|---|---|---|---|\n",
       "| 3 | A2M   |  31.19067 |  8.406729 | 1.4061637 |  5.978485 | 2.252219e-09 | 2.435139e-08 |\n",
       "| 14 | AADAT | 519.24891 | -1.185638 | 0.1758240 | -6.743319 | 1.548084e-11 | 2.373160e-10 |\n",
       "| 17 | AAMDC | 443.60869 |  1.354595 | 0.2163098 |  6.262289 | 3.793659e-10 | 4.656717e-09 |\n",
       "| 19 | AANAT |  43.91813 | -3.340325 | 0.5007026 | -6.671275 | 2.535904e-11 | 3.779855e-10 |\n",
       "| 27 | AASS  |  95.45950 |  3.027056 | 0.4494267 |  6.735371 | 1.635122e-11 | 2.504287e-10 |\n",
       "| 30 | ABAT  | 417.24621 |  1.405086 | 0.2461975 |  5.707149 | 1.148844e-08 | 1.079280e-07 |\n",
       "\n"
      ],
      "text/plain": [
       "   gene  baseMean  log2FoldChange lfcSE     stat      pvalue       padj        \n",
       "3  A2M    31.19067  8.406729      1.4061637  5.978485 2.252219e-09 2.435139e-08\n",
       "14 AADAT 519.24891 -1.185638      0.1758240 -6.743319 1.548084e-11 2.373160e-10\n",
       "17 AAMDC 443.60869  1.354595      0.2163098  6.262289 3.793659e-10 4.656717e-09\n",
       "19 AANAT  43.91813 -3.340325      0.5007026 -6.671275 2.535904e-11 3.779855e-10\n",
       "27 AASS   95.45950  3.027056      0.4494267  6.735371 1.635122e-11 2.504287e-10\n",
       "30 ABAT  417.24621  1.405086      0.2461975  5.707149 1.148844e-08 1.079280e-07"
      ]
     },
     "metadata": {},
     "output_type": "display_data"
    }
   ],
   "source": [
    "samples_experiment = samples_no_gene\n",
    "samples_experiment = as.data.frame(lapply(samples_experiment, as.integer))\n",
    "samples_experiment_matrix = as.matrix(samples_experiment)\n",
    "class(samples_experiment_matrix)\n",
    "coldata = data.frame(samples = dimnames(samples_experiment)[[2]], condition=factor(c(rep(\"ctrl\",3), rep(\"treat\",3))))\n",
    "dds = DESeqDataSetFromMatrix(countData = samples_experiment_matrix, colData = coldata, design = ~ condition)\n",
    "dds=DESeq(dds)\n",
    "res=results(dds)\n",
    "summary(res)\n",
    "res_diff_expr = as.data.frame(res)\n",
    "class(res_diff_expr)\n",
    "gene_name = samples[,\"gene\", drop = FALSE]\n",
    "res_diff_expr = cbind(gene_name, res_diff_expr)\n",
    "res_diff_expr = res_diff_expr[!is.na(res_diff_expr$log2FoldChange),]\n",
    "res_diff_expr = res_diff_expr[which((res_diff_expr$padj<=0.05) &(abs(res_diff_expr$log2FoldChange)>=1)),]\n",
    "head(res_diff_expr)"
   ]
  },
  {
   "cell_type": "code",
   "execution_count": 14,
   "id": "cc8f4cd1-2387-45f2-8c2d-e886ff0ec088",
   "metadata": {
    "tags": []
   },
   "outputs": [
    {
     "name": "stderr",
     "output_type": "stream",
     "text": [
      "\u001b[1m\u001b[22mSaving 6.67 x 6.67 in image\n"
     ]
    },
    {
     "data": {
      "image/png": "[encoded data removed]",
      "text/plain": [
       "plot without title"
      ]
     },
     "metadata": {
      "image/png": {
       "height": 420,
       "width": 420
      }
     },
     "output_type": "display_data"
    }
   ],
   "source": [
    "library(ggplot2)\n",
    "ggplot(res_diff_expr, aes(x = log2FoldChange, y = padj)) +\n",
    "  geom_point() +\n",
    "  labs(title = \"Volcano Plot\", x = \"Log Fold Change\", y = \"-log10(P-value)\")\n",
    "ggsave(filename=\"H1975_volcano_plot.pdf\")\n"
   ]
  },
  {
   "cell_type": "code",
   "execution_count": 17,
   "id": "44e4dd23-fb36-46ec-ab21-c795a14f47e4",
   "metadata": {
    "tags": []
   },
   "outputs": [],
   "source": [
    "#Enriched functional features\n",
    "gene_name = res_diff_expr$gene\n",
    "gene_name = as.data.frame(gene_name)\n",
    "write.table(gene_name, file = \"gene_name.txt\", sep = \"\\t\", row.names=FALSE)\n",
    "\n"
   ]
  },
  {
   "cell_type": "code",
   "execution_count": 19,
   "id": "b6ed4856-a5f6-42b1-9c02-86bda2b7f38b",
   "metadata": {
    "tags": []
   },
   "outputs": [
    {
     "name": "stderr",
     "output_type": "stream",
     "text": [
      "'getOption(\"repos\")' replaces Bioconductor standard repositories, see\n",
      "'help(\"repositories\", package = \"BiocManager\")' for details.\n",
      "Replacement repositories:\n",
      "    CRAN: https://cran.r-project.org\n",
      "\n",
      "Bioconductor version 3.14 (BiocManager 1.30.21.1), R 4.1.1 (2021-08-10)\n",
      "\n",
      "Installing package(s) 'dplyr'\n",
      "\n",
      "also installing the dependencies ‘generics’, ‘tidyselect’\n",
      "\n",
      "\n",
      "Updating HTML index of packages in '.Library'\n",
      "\n",
      "Making 'packages.html' ...\n",
      " done\n",
      "\n",
      "Old packages: 'cpp11', 'spatial'\n",
      "\n",
      "\n",
      "Attaching package: ‘dplyr’\n",
      "\n",
      "\n",
      "The following object is masked from ‘package:Biobase’:\n",
      "\n",
      "    combine\n",
      "\n",
      "\n",
      "The following object is masked from ‘package:matrixStats’:\n",
      "\n",
      "    count\n",
      "\n",
      "\n",
      "The following objects are masked from ‘package:GenomicRanges’:\n",
      "\n",
      "    intersect, setdiff, union\n",
      "\n",
      "\n",
      "The following object is masked from ‘package:GenomeInfoDb’:\n",
      "\n",
      "    intersect\n",
      "\n",
      "\n",
      "The following objects are masked from ‘package:IRanges’:\n",
      "\n",
      "    collapse, desc, intersect, setdiff, slice, union\n",
      "\n",
      "\n",
      "The following objects are masked from ‘package:S4Vectors’:\n",
      "\n",
      "    first, intersect, rename, setdiff, setequal, union\n",
      "\n",
      "\n",
      "The following objects are masked from ‘package:BiocGenerics’:\n",
      "\n",
      "    combine, intersect, setdiff, union\n",
      "\n",
      "\n",
      "The following object is masked from ‘package:ggplot2’:\n",
      "\n",
      "    vars\n",
      "\n",
      "\n",
      "The following objects are masked from ‘package:stats’:\n",
      "\n",
      "    filter, lag\n",
      "\n",
      "\n",
      "The following objects are masked from ‘package:base’:\n",
      "\n",
      "    intersect, setdiff, setequal, union\n",
      "\n",
      "\n"
     ]
    },
    {
     "data": {
      "text/html": [
       "<table class=\"dataframe\">\n",
       "<caption>A data.frame: 1454 × 7</caption>\n",
       "<thead>\n",
       "\t<tr><th></th><th scope=col>gene</th><th scope=col>baseMean</th><th scope=col>log2FoldChange</th><th scope=col>lfcSE</th><th scope=col>stat</th><th scope=col>pvalue</th><th scope=col>padj</th></tr>\n",
       "\t<tr><th></th><th scope=col>&lt;chr&gt;</th><th scope=col>&lt;dbl&gt;</th><th scope=col>&lt;dbl&gt;</th><th scope=col>&lt;dbl&gt;</th><th scope=col>&lt;dbl&gt;</th><th scope=col>&lt;dbl&gt;</th><th scope=col>&lt;dbl&gt;</th></tr>\n",
       "</thead>\n",
       "<tbody>\n",
       "\t<tr><th scope=row>3</th><td>A2M       </td><td>   31.190673</td><td>8.406729</td><td>1.4061637</td><td> 5.978485</td><td>2.252219e-09</td><td>2.435139e-08</td></tr>\n",
       "\t<tr><th scope=row>17</th><td>AAMDC     </td><td>  443.608695</td><td>1.354595</td><td>0.2163098</td><td> 6.262289</td><td>3.793659e-10</td><td>4.656717e-09</td></tr>\n",
       "\t<tr><th scope=row>27</th><td>AASS      </td><td>   95.459499</td><td>3.027056</td><td>0.4494267</td><td> 6.735371</td><td>1.635122e-11</td><td>2.504287e-10</td></tr>\n",
       "\t<tr><th scope=row>30</th><td>ABAT      </td><td>  417.246208</td><td>1.405086</td><td>0.2461975</td><td> 5.707149</td><td>1.148844e-08</td><td>1.079280e-07</td></tr>\n",
       "\t<tr><th scope=row>38</th><td>ABCA5     </td><td>  164.666413</td><td>2.581602</td><td>0.3354709</td><td> 7.695459</td><td>1.409868e-14</td><td>3.430952e-13</td></tr>\n",
       "\t<tr><th scope=row>43</th><td>ABCB1     </td><td>    4.342309</td><td>5.563711</td><td>2.2595590</td><td> 2.462300</td><td>1.380493e-02</td><td>3.460873e-02</td></tr>\n",
       "\t<tr><th scope=row>47</th><td>ABCB5     </td><td>   31.725968</td><td>5.957306</td><td>0.9898498</td><td> 6.018394</td><td>1.761558e-09</td><td>1.932159e-08</td></tr>\n",
       "\t<tr><th scope=row>60</th><td>ABCC6     </td><td>  173.678983</td><td>2.398690</td><td>0.2850361</td><td> 8.415393</td><td>3.915787e-17</td><td>1.340309e-15</td></tr>\n",
       "\t<tr><th scope=row>94</th><td>ABHD4     </td><td> 4650.252407</td><td>1.530740</td><td>0.2090339</td><td> 7.322927</td><td>2.426203e-13</td><td>4.856480e-12</td></tr>\n",
       "\t<tr><th scope=row>101</th><td>ABI3BP    </td><td>  518.214411</td><td>2.858767</td><td>0.3205435</td><td> 8.918498</td><td>4.726545e-19</td><td>1.972624e-17</td></tr>\n",
       "\t<tr><th scope=row>169</th><td>AC007325.1</td><td>    4.013584</td><td>4.421560</td><td>1.7618478</td><td> 2.509615</td><td>1.208629e-02</td><td>3.079965e-02</td></tr>\n",
       "\t<tr><th scope=row>199</th><td>AC008770.2</td><td>   10.249786</td><td>2.334391</td><td>0.9905654</td><td> 2.356624</td><td>1.844190e-02</td><td>4.428594e-02</td></tr>\n",
       "\t<tr><th scope=row>200</th><td>AC008870.1</td><td>   38.675915</td><td>1.590945</td><td>0.4753706</td><td> 3.346747</td><td>8.176588e-04</td><td>2.879138e-03</td></tr>\n",
       "\t<tr><th scope=row>242</th><td>AC011498.4</td><td>   22.420138</td><td>1.874878</td><td>0.6526526</td><td> 2.872704</td><td>4.069749e-03</td><td>1.187977e-02</td></tr>\n",
       "\t<tr><th scope=row>253</th><td>AC012651.1</td><td>   60.910824</td><td>1.781245</td><td>0.4715951</td><td> 3.777063</td><td>1.586886e-04</td><td>6.598127e-04</td></tr>\n",
       "\t<tr><th scope=row>255</th><td>AC013489.1</td><td>    5.103685</td><td>5.795543</td><td>1.7794901</td><td> 3.256856</td><td>1.126535e-03</td><td>3.834906e-03</td></tr>\n",
       "\t<tr><th scope=row>267</th><td>AC020929.1</td><td>   61.077175</td><td>1.365174</td><td>0.4163315</td><td> 3.279056</td><td>1.041549e-03</td><td>3.576228e-03</td></tr>\n",
       "\t<tr><th scope=row>299</th><td>AC040160.1</td><td>12692.787139</td><td>1.599132</td><td>0.1915855</td><td> 8.346832</td><td>7.011854e-17</td><td>2.341118e-15</td></tr>\n",
       "\t<tr><th scope=row>306</th><td>AC055839.2</td><td>   71.701854</td><td>1.943437</td><td>0.4875832</td><td> 3.985858</td><td>6.723663e-05</td><td>3.063451e-04</td></tr>\n",
       "\t<tr><th scope=row>314</th><td>AC068775.1</td><td>    3.669029</td><td>5.318005</td><td>1.9361489</td><td> 2.746692</td><td>6.019965e-03</td><td>1.678748e-02</td></tr>\n",
       "\t<tr><th scope=row>393</th><td>AC109583.1</td><td>   18.430017</td><td>2.082439</td><td>0.6948269</td><td> 2.997062</td><td>2.725952e-03</td><td>8.349917e-03</td></tr>\n",
       "\t<tr><th scope=row>416</th><td>AC135178.3</td><td>  107.448135</td><td>1.724078</td><td>0.3709279</td><td> 4.648013</td><td>3.351483e-06</td><td>1.968672e-05</td></tr>\n",
       "\t<tr><th scope=row>426</th><td>AC138696.1</td><td>   25.930443</td><td>2.514752</td><td>0.8524027</td><td> 2.950193</td><td>3.175757e-03</td><td>9.561060e-03</td></tr>\n",
       "\t<tr><th scope=row>436</th><td>AC145212.1</td><td>   59.256072</td><td>1.387922</td><td>0.4484427</td><td> 3.094982</td><td>1.968251e-03</td><td>6.252709e-03</td></tr>\n",
       "\t<tr><th scope=row>495</th><td>ACKR2     </td><td>   27.673731</td><td>1.671521</td><td>0.6437527</td><td> 2.596527</td><td>9.417146e-03</td><td>2.478478e-02</td></tr>\n",
       "\t<tr><th scope=row>496</th><td>ACKR3     </td><td>  265.821553</td><td>3.412055</td><td>0.3461360</td><td> 9.857556</td><td>6.357822e-23</td><td>4.097972e-21</td></tr>\n",
       "\t<tr><th scope=row>528</th><td>ACSF2     </td><td> 1087.567855</td><td>1.334623</td><td>0.2292221</td><td> 5.822402</td><td>5.800773e-09</td><td>5.757319e-08</td></tr>\n",
       "\t<tr><th scope=row>539</th><td>ACSM4     </td><td>   46.407348</td><td>1.983681</td><td>0.4427592</td><td> 4.480271</td><td>7.454846e-06</td><td>4.123632e-05</td></tr>\n",
       "\t<tr><th scope=row>546</th><td>ACTA2     </td><td>  265.194422</td><td>2.187696</td><td>0.3227407</td><td> 6.778493</td><td>1.214355e-11</td><td>1.903516e-10</td></tr>\n",
       "\t<tr><th scope=row>548</th><td>ACTBL2    </td><td>  255.415611</td><td>2.927765</td><td>0.2911751</td><td>10.054996</td><td>8.732485e-24</td><td>5.999181e-22</td></tr>\n",
       "\t<tr><th scope=row>⋮</th><td>⋮</td><td>⋮</td><td>⋮</td><td>⋮</td><td>⋮</td><td>⋮</td><td>⋮</td></tr>\n",
       "\t<tr><th scope=row>18973</th><td>ZBTB7C  </td><td> 250.45975</td><td>1.167987</td><td>0.3269065</td><td> 3.572848</td><td>3.531194e-04</td><td>1.363000e-03</td></tr>\n",
       "\t<tr><th scope=row>19021</th><td>ZDHHC11B</td><td>  73.86343</td><td>1.803806</td><td>0.3915057</td><td> 4.607355</td><td>4.078233e-06</td><td>2.360680e-05</td></tr>\n",
       "\t<tr><th scope=row>19027</th><td>ZDHHC17 </td><td>1629.78085</td><td>1.347235</td><td>0.1697614</td><td> 7.936052</td><td>2.087189e-15</td><td>5.684099e-14</td></tr>\n",
       "\t<tr><th scope=row>19044</th><td>ZEB2    </td><td> 311.79294</td><td>1.379794</td><td>0.1891696</td><td> 7.293951</td><td>3.009949e-13</td><td>5.967707e-12</td></tr>\n",
       "\t<tr><th scope=row>19055</th><td>ZFHX2   </td><td> 190.29768</td><td>1.684597</td><td>0.2694394</td><td> 6.252228</td><td>4.046369e-10</td><td>4.937872e-09</td></tr>\n",
       "\t<tr><th scope=row>19057</th><td>ZFHX4   </td><td>  77.88000</td><td>1.760342</td><td>0.6158263</td><td> 2.858504</td><td>4.256432e-03</td><td>1.237709e-02</td></tr>\n",
       "\t<tr><th scope=row>19070</th><td>ZFP57   </td><td>  23.48203</td><td>3.881382</td><td>0.7336898</td><td> 5.290222</td><td>1.221680e-07</td><td>9.446380e-07</td></tr>\n",
       "\t<tr><th scope=row>19117</th><td>ZKSCAN7 </td><td> 136.31590</td><td>1.075385</td><td>0.3151131</td><td> 3.412695</td><td>6.432395e-04</td><td>2.322284e-03</td></tr>\n",
       "\t<tr><th scope=row>19119</th><td>ZMAT1   </td><td> 484.82616</td><td>2.682286</td><td>0.2941933</td><td> 9.117427</td><td>7.692876e-20</td><td>3.597335e-18</td></tr>\n",
       "\t<tr><th scope=row>19210</th><td>ZNF233  </td><td>  57.99628</td><td>1.129040</td><td>0.3741878</td><td> 3.017308</td><td>2.550307e-03</td><td>7.882768e-03</td></tr>\n",
       "\t<tr><th scope=row>19283</th><td>ZNF358  </td><td> 738.99759</td><td>1.676192</td><td>0.2765450</td><td> 6.061191</td><td>1.351171e-09</td><td>1.514872e-08</td></tr>\n",
       "\t<tr><th scope=row>19295</th><td>ZNF385D </td><td>  10.63253</td><td>4.924003</td><td>1.7694803</td><td> 2.782740</td><td>5.390200e-03</td><td>1.525928e-02</td></tr>\n",
       "\t<tr><th scope=row>19323</th><td>ZNF433  </td><td> 676.31667</td><td>1.002919</td><td>0.1409915</td><td> 7.113331</td><td>1.132754e-12</td><td>2.073486e-11</td></tr>\n",
       "\t<tr><th scope=row>19329</th><td>ZNF441  </td><td> 737.95220</td><td>1.113437</td><td>0.1686889</td><td> 6.600534</td><td>4.096793e-11</td><td>5.911137e-10</td></tr>\n",
       "\t<tr><th scope=row>19330</th><td>ZNF442  </td><td> 245.25849</td><td>1.104730</td><td>0.2530159</td><td> 4.366248</td><td>1.263992e-05</td><td>6.675445e-05</td></tr>\n",
       "\t<tr><th scope=row>19359</th><td>ZNF491  </td><td> 200.97420</td><td>1.542343</td><td>0.3001012</td><td> 5.139411</td><td>2.756006e-07</td><td>1.992584e-06</td></tr>\n",
       "\t<tr><th scope=row>19367</th><td>ZNF503  </td><td> 166.51167</td><td>3.578349</td><td>0.3578877</td><td> 9.998523</td><td>1.546871e-23</td><td>1.032939e-21</td></tr>\n",
       "\t<tr><th scope=row>19465</th><td>ZNF620  </td><td>  47.20418</td><td>1.658652</td><td>0.4490551</td><td> 3.693650</td><td>2.210584e-04</td><td>8.916039e-04</td></tr>\n",
       "\t<tr><th scope=row>19473</th><td>ZNF627  </td><td>1732.75135</td><td>1.277842</td><td>0.1389649</td><td> 9.195428</td><td>3.735058e-20</td><td>1.839323e-18</td></tr>\n",
       "\t<tr><th scope=row>19523</th><td>ZNF70   </td><td> 308.77306</td><td>1.001547</td><td>0.2776242</td><td> 3.607562</td><td>3.090877e-04</td><td>1.209259e-03</td></tr>\n",
       "\t<tr><th scope=row>19527</th><td>ZNF704  </td><td> 593.95416</td><td>2.915985</td><td>0.3037207</td><td> 9.600878</td><td>7.926658e-22</td><td>4.516301e-20</td></tr>\n",
       "\t<tr><th scope=row>19536</th><td>ZNF709  </td><td> 273.79071</td><td>1.249298</td><td>0.3473226</td><td> 3.596938</td><td>3.219850e-04</td><td>1.254427e-03</td></tr>\n",
       "\t<tr><th scope=row>19569</th><td>ZNF763  </td><td> 249.44612</td><td>1.685441</td><td>0.2887007</td><td> 5.838022</td><td>5.282412e-09</td><td>5.286846e-08</td></tr>\n",
       "\t<tr><th scope=row>19625</th><td>ZNF843  </td><td>  39.49408</td><td>1.808231</td><td>0.5829229</td><td> 3.102007</td><td>1.922135e-03</td><td>6.124100e-03</td></tr>\n",
       "\t<tr><th scope=row>19668</th><td>ZRANB1  </td><td>3211.30940</td><td>1.627548</td><td>0.1324956</td><td>12.283792</td><td>1.106856e-34</td><td>1.776717e-32</td></tr>\n",
       "\t<tr><th scope=row>19681</th><td>ZSCAN23 </td><td> 144.01780</td><td>1.412525</td><td>0.3136077</td><td> 4.504115</td><td>6.664997e-06</td><td>3.713800e-05</td></tr>\n",
       "\t<tr><th scope=row>19686</th><td>ZSCAN31 </td><td>1325.25957</td><td>2.545160</td><td>0.2404084</td><td>10.586818</td><td>3.430546e-26</td><td>2.892400e-24</td></tr>\n",
       "\t<tr><th scope=row>19696</th><td>ZSWIM4  </td><td>1402.84906</td><td>2.087352</td><td>0.1669988</td><td>12.499205</td><td>7.540116e-36</td><td>1.339093e-33</td></tr>\n",
       "\t<tr><th scope=row>19698</th><td>ZSWIM6  </td><td>2054.54587</td><td>1.038792</td><td>0.1563314</td><td> 6.644805</td><td>3.036186e-11</td><td>4.473551e-10</td></tr>\n",
       "\t<tr><th scope=row>19706</th><td>ZXDA    </td><td> 199.80170</td><td>1.120168</td><td>0.2353802</td><td> 4.758972</td><td>1.945817e-06</td><td>1.197326e-05</td></tr>\n",
       "</tbody>\n",
       "</table>\n"
      ],
      "text/latex": [
       "A data.frame: 1454 × 7\n",
       "\\begin{tabular}{r|lllllll}\n",
       "  & gene & baseMean & log2FoldChange & lfcSE & stat & pvalue & padj\\\\\n",
       "  & <chr> & <dbl> & <dbl> & <dbl> & <dbl> & <dbl> & <dbl>\\\\\n",
       "\\hline\n",
       "\t3 & A2M        &    31.190673 & 8.406729 & 1.4061637 &  5.978485 & 2.252219e-09 & 2.435139e-08\\\\\n",
       "\t17 & AAMDC      &   443.608695 & 1.354595 & 0.2163098 &  6.262289 & 3.793659e-10 & 4.656717e-09\\\\\n",
       "\t27 & AASS       &    95.459499 & 3.027056 & 0.4494267 &  6.735371 & 1.635122e-11 & 2.504287e-10\\\\\n",
       "\t30 & ABAT       &   417.246208 & 1.405086 & 0.2461975 &  5.707149 & 1.148844e-08 & 1.079280e-07\\\\\n",
       "\t38 & ABCA5      &   164.666413 & 2.581602 & 0.3354709 &  7.695459 & 1.409868e-14 & 3.430952e-13\\\\\n",
       "\t43 & ABCB1      &     4.342309 & 5.563711 & 2.2595590 &  2.462300 & 1.380493e-02 & 3.460873e-02\\\\\n",
       "\t47 & ABCB5      &    31.725968 & 5.957306 & 0.9898498 &  6.018394 & 1.761558e-09 & 1.932159e-08\\\\\n",
       "\t60 & ABCC6      &   173.678983 & 2.398690 & 0.2850361 &  8.415393 & 3.915787e-17 & 1.340309e-15\\\\\n",
       "\t94 & ABHD4      &  4650.252407 & 1.530740 & 0.2090339 &  7.322927 & 2.426203e-13 & 4.856480e-12\\\\\n",
       "\t101 & ABI3BP     &   518.214411 & 2.858767 & 0.3205435 &  8.918498 & 4.726545e-19 & 1.972624e-17\\\\\n",
       "\t169 & AC007325.1 &     4.013584 & 4.421560 & 1.7618478 &  2.509615 & 1.208629e-02 & 3.079965e-02\\\\\n",
       "\t199 & AC008770.2 &    10.249786 & 2.334391 & 0.9905654 &  2.356624 & 1.844190e-02 & 4.428594e-02\\\\\n",
       "\t200 & AC008870.1 &    38.675915 & 1.590945 & 0.4753706 &  3.346747 & 8.176588e-04 & 2.879138e-03\\\\\n",
       "\t242 & AC011498.4 &    22.420138 & 1.874878 & 0.6526526 &  2.872704 & 4.069749e-03 & 1.187977e-02\\\\\n",
       "\t253 & AC012651.1 &    60.910824 & 1.781245 & 0.4715951 &  3.777063 & 1.586886e-04 & 6.598127e-04\\\\\n",
       "\t255 & AC013489.1 &     5.103685 & 5.795543 & 1.7794901 &  3.256856 & 1.126535e-03 & 3.834906e-03\\\\\n",
       "\t267 & AC020929.1 &    61.077175 & 1.365174 & 0.4163315 &  3.279056 & 1.041549e-03 & 3.576228e-03\\\\\n",
       "\t299 & AC040160.1 & 12692.787139 & 1.599132 & 0.1915855 &  8.346832 & 7.011854e-17 & 2.341118e-15\\\\\n",
       "\t306 & AC055839.2 &    71.701854 & 1.943437 & 0.4875832 &  3.985858 & 6.723663e-05 & 3.063451e-04\\\\\n",
       "\t314 & AC068775.1 &     3.669029 & 5.318005 & 1.9361489 &  2.746692 & 6.019965e-03 & 1.678748e-02\\\\\n",
       "\t393 & AC109583.1 &    18.430017 & 2.082439 & 0.6948269 &  2.997062 & 2.725952e-03 & 8.349917e-03\\\\\n",
       "\t416 & AC135178.3 &   107.448135 & 1.724078 & 0.3709279 &  4.648013 & 3.351483e-06 & 1.968672e-05\\\\\n",
       "\t426 & AC138696.1 &    25.930443 & 2.514752 & 0.8524027 &  2.950193 & 3.175757e-03 & 9.561060e-03\\\\\n",
       "\t436 & AC145212.1 &    59.256072 & 1.387922 & 0.4484427 &  3.094982 & 1.968251e-03 & 6.252709e-03\\\\\n",
       "\t495 & ACKR2      &    27.673731 & 1.671521 & 0.6437527 &  2.596527 & 9.417146e-03 & 2.478478e-02\\\\\n",
       "\t496 & ACKR3      &   265.821553 & 3.412055 & 0.3461360 &  9.857556 & 6.357822e-23 & 4.097972e-21\\\\\n",
       "\t528 & ACSF2      &  1087.567855 & 1.334623 & 0.2292221 &  5.822402 & 5.800773e-09 & 5.757319e-08\\\\\n",
       "\t539 & ACSM4      &    46.407348 & 1.983681 & 0.4427592 &  4.480271 & 7.454846e-06 & 4.123632e-05\\\\\n",
       "\t546 & ACTA2      &   265.194422 & 2.187696 & 0.3227407 &  6.778493 & 1.214355e-11 & 1.903516e-10\\\\\n",
       "\t548 & ACTBL2     &   255.415611 & 2.927765 & 0.2911751 & 10.054996 & 8.732485e-24 & 5.999181e-22\\\\\n",
       "\t⋮ & ⋮ & ⋮ & ⋮ & ⋮ & ⋮ & ⋮ & ⋮\\\\\n",
       "\t18973 & ZBTB7C   &  250.45975 & 1.167987 & 0.3269065 &  3.572848 & 3.531194e-04 & 1.363000e-03\\\\\n",
       "\t19021 & ZDHHC11B &   73.86343 & 1.803806 & 0.3915057 &  4.607355 & 4.078233e-06 & 2.360680e-05\\\\\n",
       "\t19027 & ZDHHC17  & 1629.78085 & 1.347235 & 0.1697614 &  7.936052 & 2.087189e-15 & 5.684099e-14\\\\\n",
       "\t19044 & ZEB2     &  311.79294 & 1.379794 & 0.1891696 &  7.293951 & 3.009949e-13 & 5.967707e-12\\\\\n",
       "\t19055 & ZFHX2    &  190.29768 & 1.684597 & 0.2694394 &  6.252228 & 4.046369e-10 & 4.937872e-09\\\\\n",
       "\t19057 & ZFHX4    &   77.88000 & 1.760342 & 0.6158263 &  2.858504 & 4.256432e-03 & 1.237709e-02\\\\\n",
       "\t19070 & ZFP57    &   23.48203 & 3.881382 & 0.7336898 &  5.290222 & 1.221680e-07 & 9.446380e-07\\\\\n",
       "\t19117 & ZKSCAN7  &  136.31590 & 1.075385 & 0.3151131 &  3.412695 & 6.432395e-04 & 2.322284e-03\\\\\n",
       "\t19119 & ZMAT1    &  484.82616 & 2.682286 & 0.2941933 &  9.117427 & 7.692876e-20 & 3.597335e-18\\\\\n",
       "\t19210 & ZNF233   &   57.99628 & 1.129040 & 0.3741878 &  3.017308 & 2.550307e-03 & 7.882768e-03\\\\\n",
       "\t19283 & ZNF358   &  738.99759 & 1.676192 & 0.2765450 &  6.061191 & 1.351171e-09 & 1.514872e-08\\\\\n",
       "\t19295 & ZNF385D  &   10.63253 & 4.924003 & 1.7694803 &  2.782740 & 5.390200e-03 & 1.525928e-02\\\\\n",
       "\t19323 & ZNF433   &  676.31667 & 1.002919 & 0.1409915 &  7.113331 & 1.132754e-12 & 2.073486e-11\\\\\n",
       "\t19329 & ZNF441   &  737.95220 & 1.113437 & 0.1686889 &  6.600534 & 4.096793e-11 & 5.911137e-10\\\\\n",
       "\t19330 & ZNF442   &  245.25849 & 1.104730 & 0.2530159 &  4.366248 & 1.263992e-05 & 6.675445e-05\\\\\n",
       "\t19359 & ZNF491   &  200.97420 & 1.542343 & 0.3001012 &  5.139411 & 2.756006e-07 & 1.992584e-06\\\\\n",
       "\t19367 & ZNF503   &  166.51167 & 3.578349 & 0.3578877 &  9.998523 & 1.546871e-23 & 1.032939e-21\\\\\n",
       "\t19465 & ZNF620   &   47.20418 & 1.658652 & 0.4490551 &  3.693650 & 2.210584e-04 & 8.916039e-04\\\\\n",
       "\t19473 & ZNF627   & 1732.75135 & 1.277842 & 0.1389649 &  9.195428 & 3.735058e-20 & 1.839323e-18\\\\\n",
       "\t19523 & ZNF70    &  308.77306 & 1.001547 & 0.2776242 &  3.607562 & 3.090877e-04 & 1.209259e-03\\\\\n",
       "\t19527 & ZNF704   &  593.95416 & 2.915985 & 0.3037207 &  9.600878 & 7.926658e-22 & 4.516301e-20\\\\\n",
       "\t19536 & ZNF709   &  273.79071 & 1.249298 & 0.3473226 &  3.596938 & 3.219850e-04 & 1.254427e-03\\\\\n",
       "\t19569 & ZNF763   &  249.44612 & 1.685441 & 0.2887007 &  5.838022 & 5.282412e-09 & 5.286846e-08\\\\\n",
       "\t19625 & ZNF843   &   39.49408 & 1.808231 & 0.5829229 &  3.102007 & 1.922135e-03 & 6.124100e-03\\\\\n",
       "\t19668 & ZRANB1   & 3211.30940 & 1.627548 & 0.1324956 & 12.283792 & 1.106856e-34 & 1.776717e-32\\\\\n",
       "\t19681 & ZSCAN23  &  144.01780 & 1.412525 & 0.3136077 &  4.504115 & 6.664997e-06 & 3.713800e-05\\\\\n",
       "\t19686 & ZSCAN31  & 1325.25957 & 2.545160 & 0.2404084 & 10.586818 & 3.430546e-26 & 2.892400e-24\\\\\n",
       "\t19696 & ZSWIM4   & 1402.84906 & 2.087352 & 0.1669988 & 12.499205 & 7.540116e-36 & 1.339093e-33\\\\\n",
       "\t19698 & ZSWIM6   & 2054.54587 & 1.038792 & 0.1563314 &  6.644805 & 3.036186e-11 & 4.473551e-10\\\\\n",
       "\t19706 & ZXDA     &  199.80170 & 1.120168 & 0.2353802 &  4.758972 & 1.945817e-06 & 1.197326e-05\\\\\n",
       "\\end{tabular}\n"
      ],
      "text/markdown": [
       "\n",
       "A data.frame: 1454 × 7\n",
       "\n",
       "| <!--/--> | gene &lt;chr&gt; | baseMean &lt;dbl&gt; | log2FoldChange &lt;dbl&gt; | lfcSE &lt;dbl&gt; | stat &lt;dbl&gt; | pvalue &lt;dbl&gt; | padj &lt;dbl&gt; |\n",
       "|---|---|---|---|---|---|---|---|\n",
       "| 3 | A2M        |    31.190673 | 8.406729 | 1.4061637 |  5.978485 | 2.252219e-09 | 2.435139e-08 |\n",
       "| 17 | AAMDC      |   443.608695 | 1.354595 | 0.2163098 |  6.262289 | 3.793659e-10 | 4.656717e-09 |\n",
       "| 27 | AASS       |    95.459499 | 3.027056 | 0.4494267 |  6.735371 | 1.635122e-11 | 2.504287e-10 |\n",
       "| 30 | ABAT       |   417.246208 | 1.405086 | 0.2461975 |  5.707149 | 1.148844e-08 | 1.079280e-07 |\n",
       "| 38 | ABCA5      |   164.666413 | 2.581602 | 0.3354709 |  7.695459 | 1.409868e-14 | 3.430952e-13 |\n",
       "| 43 | ABCB1      |     4.342309 | 5.563711 | 2.2595590 |  2.462300 | 1.380493e-02 | 3.460873e-02 |\n",
       "| 47 | ABCB5      |    31.725968 | 5.957306 | 0.9898498 |  6.018394 | 1.761558e-09 | 1.932159e-08 |\n",
       "| 60 | ABCC6      |   173.678983 | 2.398690 | 0.2850361 |  8.415393 | 3.915787e-17 | 1.340309e-15 |\n",
       "| 94 | ABHD4      |  4650.252407 | 1.530740 | 0.2090339 |  7.322927 | 2.426203e-13 | 4.856480e-12 |\n",
       "| 101 | ABI3BP     |   518.214411 | 2.858767 | 0.3205435 |  8.918498 | 4.726545e-19 | 1.972624e-17 |\n",
       "| 169 | AC007325.1 |     4.013584 | 4.421560 | 1.7618478 |  2.509615 | 1.208629e-02 | 3.079965e-02 |\n",
       "| 199 | AC008770.2 |    10.249786 | 2.334391 | 0.9905654 |  2.356624 | 1.844190e-02 | 4.428594e-02 |\n",
       "| 200 | AC008870.1 |    38.675915 | 1.590945 | 0.4753706 |  3.346747 | 8.176588e-04 | 2.879138e-03 |\n",
       "| 242 | AC011498.4 |    22.420138 | 1.874878 | 0.6526526 |  2.872704 | 4.069749e-03 | 1.187977e-02 |\n",
       "| 253 | AC012651.1 |    60.910824 | 1.781245 | 0.4715951 |  3.777063 | 1.586886e-04 | 6.598127e-04 |\n",
       "| 255 | AC013489.1 |     5.103685 | 5.795543 | 1.7794901 |  3.256856 | 1.126535e-03 | 3.834906e-03 |\n",
       "| 267 | AC020929.1 |    61.077175 | 1.365174 | 0.4163315 |  3.279056 | 1.041549e-03 | 3.576228e-03 |\n",
       "| 299 | AC040160.1 | 12692.787139 | 1.599132 | 0.1915855 |  8.346832 | 7.011854e-17 | 2.341118e-15 |\n",
       "| 306 | AC055839.2 |    71.701854 | 1.943437 | 0.4875832 |  3.985858 | 6.723663e-05 | 3.063451e-04 |\n",
       "| 314 | AC068775.1 |     3.669029 | 5.318005 | 1.9361489 |  2.746692 | 6.019965e-03 | 1.678748e-02 |\n",
       "| 393 | AC109583.1 |    18.430017 | 2.082439 | 0.6948269 |  2.997062 | 2.725952e-03 | 8.349917e-03 |\n",
       "| 416 | AC135178.3 |   107.448135 | 1.724078 | 0.3709279 |  4.648013 | 3.351483e-06 | 1.968672e-05 |\n",
       "| 426 | AC138696.1 |    25.930443 | 2.514752 | 0.8524027 |  2.950193 | 3.175757e-03 | 9.561060e-03 |\n",
       "| 436 | AC145212.1 |    59.256072 | 1.387922 | 0.4484427 |  3.094982 | 1.968251e-03 | 6.252709e-03 |\n",
       "| 495 | ACKR2      |    27.673731 | 1.671521 | 0.6437527 |  2.596527 | 9.417146e-03 | 2.478478e-02 |\n",
       "| 496 | ACKR3      |   265.821553 | 3.412055 | 0.3461360 |  9.857556 | 6.357822e-23 | 4.097972e-21 |\n",
       "| 528 | ACSF2      |  1087.567855 | 1.334623 | 0.2292221 |  5.822402 | 5.800773e-09 | 5.757319e-08 |\n",
       "| 539 | ACSM4      |    46.407348 | 1.983681 | 0.4427592 |  4.480271 | 7.454846e-06 | 4.123632e-05 |\n",
       "| 546 | ACTA2      |   265.194422 | 2.187696 | 0.3227407 |  6.778493 | 1.214355e-11 | 1.903516e-10 |\n",
       "| 548 | ACTBL2     |   255.415611 | 2.927765 | 0.2911751 | 10.054996 | 8.732485e-24 | 5.999181e-22 |\n",
       "| ⋮ | ⋮ | ⋮ | ⋮ | ⋮ | ⋮ | ⋮ | ⋮ |\n",
       "| 18973 | ZBTB7C   |  250.45975 | 1.167987 | 0.3269065 |  3.572848 | 3.531194e-04 | 1.363000e-03 |\n",
       "| 19021 | ZDHHC11B |   73.86343 | 1.803806 | 0.3915057 |  4.607355 | 4.078233e-06 | 2.360680e-05 |\n",
       "| 19027 | ZDHHC17  | 1629.78085 | 1.347235 | 0.1697614 |  7.936052 | 2.087189e-15 | 5.684099e-14 |\n",
       "| 19044 | ZEB2     |  311.79294 | 1.379794 | 0.1891696 |  7.293951 | 3.009949e-13 | 5.967707e-12 |\n",
       "| 19055 | ZFHX2    |  190.29768 | 1.684597 | 0.2694394 |  6.252228 | 4.046369e-10 | 4.937872e-09 |\n",
       "| 19057 | ZFHX4    |   77.88000 | 1.760342 | 0.6158263 |  2.858504 | 4.256432e-03 | 1.237709e-02 |\n",
       "| 19070 | ZFP57    |   23.48203 | 3.881382 | 0.7336898 |  5.290222 | 1.221680e-07 | 9.446380e-07 |\n",
       "| 19117 | ZKSCAN7  |  136.31590 | 1.075385 | 0.3151131 |  3.412695 | 6.432395e-04 | 2.322284e-03 |\n",
       "| 19119 | ZMAT1    |  484.82616 | 2.682286 | 0.2941933 |  9.117427 | 7.692876e-20 | 3.597335e-18 |\n",
       "| 19210 | ZNF233   |   57.99628 | 1.129040 | 0.3741878 |  3.017308 | 2.550307e-03 | 7.882768e-03 |\n",
       "| 19283 | ZNF358   |  738.99759 | 1.676192 | 0.2765450 |  6.061191 | 1.351171e-09 | 1.514872e-08 |\n",
       "| 19295 | ZNF385D  |   10.63253 | 4.924003 | 1.7694803 |  2.782740 | 5.390200e-03 | 1.525928e-02 |\n",
       "| 19323 | ZNF433   |  676.31667 | 1.002919 | 0.1409915 |  7.113331 | 1.132754e-12 | 2.073486e-11 |\n",
       "| 19329 | ZNF441   |  737.95220 | 1.113437 | 0.1686889 |  6.600534 | 4.096793e-11 | 5.911137e-10 |\n",
       "| 19330 | ZNF442   |  245.25849 | 1.104730 | 0.2530159 |  4.366248 | 1.263992e-05 | 6.675445e-05 |\n",
       "| 19359 | ZNF491   |  200.97420 | 1.542343 | 0.3001012 |  5.139411 | 2.756006e-07 | 1.992584e-06 |\n",
       "| 19367 | ZNF503   |  166.51167 | 3.578349 | 0.3578877 |  9.998523 | 1.546871e-23 | 1.032939e-21 |\n",
       "| 19465 | ZNF620   |   47.20418 | 1.658652 | 0.4490551 |  3.693650 | 2.210584e-04 | 8.916039e-04 |\n",
       "| 19473 | ZNF627   | 1732.75135 | 1.277842 | 0.1389649 |  9.195428 | 3.735058e-20 | 1.839323e-18 |\n",
       "| 19523 | ZNF70    |  308.77306 | 1.001547 | 0.2776242 |  3.607562 | 3.090877e-04 | 1.209259e-03 |\n",
       "| 19527 | ZNF704   |  593.95416 | 2.915985 | 0.3037207 |  9.600878 | 7.926658e-22 | 4.516301e-20 |\n",
       "| 19536 | ZNF709   |  273.79071 | 1.249298 | 0.3473226 |  3.596938 | 3.219850e-04 | 1.254427e-03 |\n",
       "| 19569 | ZNF763   |  249.44612 | 1.685441 | 0.2887007 |  5.838022 | 5.282412e-09 | 5.286846e-08 |\n",
       "| 19625 | ZNF843   |   39.49408 | 1.808231 | 0.5829229 |  3.102007 | 1.922135e-03 | 6.124100e-03 |\n",
       "| 19668 | ZRANB1   | 3211.30940 | 1.627548 | 0.1324956 | 12.283792 | 1.106856e-34 | 1.776717e-32 |\n",
       "| 19681 | ZSCAN23  |  144.01780 | 1.412525 | 0.3136077 |  4.504115 | 6.664997e-06 | 3.713800e-05 |\n",
       "| 19686 | ZSCAN31  | 1325.25957 | 2.545160 | 0.2404084 | 10.586818 | 3.430546e-26 | 2.892400e-24 |\n",
       "| 19696 | ZSWIM4   | 1402.84906 | 2.087352 | 0.1669988 | 12.499205 | 7.540116e-36 | 1.339093e-33 |\n",
       "| 19698 | ZSWIM6   | 2054.54587 | 1.038792 | 0.1563314 |  6.644805 | 3.036186e-11 | 4.473551e-10 |\n",
       "| 19706 | ZXDA     |  199.80170 | 1.120168 | 0.2353802 |  4.758972 | 1.945817e-06 | 1.197326e-05 |\n",
       "\n"
      ],
      "text/plain": [
       "      gene       baseMean     log2FoldChange lfcSE     stat      pvalue      \n",
       "3     A2M           31.190673 8.406729       1.4061637  5.978485 2.252219e-09\n",
       "17    AAMDC        443.608695 1.354595       0.2163098  6.262289 3.793659e-10\n",
       "27    AASS          95.459499 3.027056       0.4494267  6.735371 1.635122e-11\n",
       "30    ABAT         417.246208 1.405086       0.2461975  5.707149 1.148844e-08\n",
       "38    ABCA5        164.666413 2.581602       0.3354709  7.695459 1.409868e-14\n",
       "43    ABCB1          4.342309 5.563711       2.2595590  2.462300 1.380493e-02\n",
       "47    ABCB5         31.725968 5.957306       0.9898498  6.018394 1.761558e-09\n",
       "60    ABCC6        173.678983 2.398690       0.2850361  8.415393 3.915787e-17\n",
       "94    ABHD4       4650.252407 1.530740       0.2090339  7.322927 2.426203e-13\n",
       "101   ABI3BP       518.214411 2.858767       0.3205435  8.918498 4.726545e-19\n",
       "169   AC007325.1     4.013584 4.421560       1.7618478  2.509615 1.208629e-02\n",
       "199   AC008770.2    10.249786 2.334391       0.9905654  2.356624 1.844190e-02\n",
       "200   AC008870.1    38.675915 1.590945       0.4753706  3.346747 8.176588e-04\n",
       "242   AC011498.4    22.420138 1.874878       0.6526526  2.872704 4.069749e-03\n",
       "253   AC012651.1    60.910824 1.781245       0.4715951  3.777063 1.586886e-04\n",
       "255   AC013489.1     5.103685 5.795543       1.7794901  3.256856 1.126535e-03\n",
       "267   AC020929.1    61.077175 1.365174       0.4163315  3.279056 1.041549e-03\n",
       "299   AC040160.1 12692.787139 1.599132       0.1915855  8.346832 7.011854e-17\n",
       "306   AC055839.2    71.701854 1.943437       0.4875832  3.985858 6.723663e-05\n",
       "314   AC068775.1     3.669029 5.318005       1.9361489  2.746692 6.019965e-03\n",
       "393   AC109583.1    18.430017 2.082439       0.6948269  2.997062 2.725952e-03\n",
       "416   AC135178.3   107.448135 1.724078       0.3709279  4.648013 3.351483e-06\n",
       "426   AC138696.1    25.930443 2.514752       0.8524027  2.950193 3.175757e-03\n",
       "436   AC145212.1    59.256072 1.387922       0.4484427  3.094982 1.968251e-03\n",
       "495   ACKR2         27.673731 1.671521       0.6437527  2.596527 9.417146e-03\n",
       "496   ACKR3        265.821553 3.412055       0.3461360  9.857556 6.357822e-23\n",
       "528   ACSF2       1087.567855 1.334623       0.2292221  5.822402 5.800773e-09\n",
       "539   ACSM4         46.407348 1.983681       0.4427592  4.480271 7.454846e-06\n",
       "546   ACTA2        265.194422 2.187696       0.3227407  6.778493 1.214355e-11\n",
       "548   ACTBL2       255.415611 2.927765       0.2911751 10.054996 8.732485e-24\n",
       "⋮     ⋮          ⋮            ⋮              ⋮         ⋮         ⋮           \n",
       "18973 ZBTB7C      250.45975   1.167987       0.3269065  3.572848 3.531194e-04\n",
       "19021 ZDHHC11B     73.86343   1.803806       0.3915057  4.607355 4.078233e-06\n",
       "19027 ZDHHC17    1629.78085   1.347235       0.1697614  7.936052 2.087189e-15\n",
       "19044 ZEB2        311.79294   1.379794       0.1891696  7.293951 3.009949e-13\n",
       "19055 ZFHX2       190.29768   1.684597       0.2694394  6.252228 4.046369e-10\n",
       "19057 ZFHX4        77.88000   1.760342       0.6158263  2.858504 4.256432e-03\n",
       "19070 ZFP57        23.48203   3.881382       0.7336898  5.290222 1.221680e-07\n",
       "19117 ZKSCAN7     136.31590   1.075385       0.3151131  3.412695 6.432395e-04\n",
       "19119 ZMAT1       484.82616   2.682286       0.2941933  9.117427 7.692876e-20\n",
       "19210 ZNF233       57.99628   1.129040       0.3741878  3.017308 2.550307e-03\n",
       "19283 ZNF358      738.99759   1.676192       0.2765450  6.061191 1.351171e-09\n",
       "19295 ZNF385D      10.63253   4.924003       1.7694803  2.782740 5.390200e-03\n",
       "19323 ZNF433      676.31667   1.002919       0.1409915  7.113331 1.132754e-12\n",
       "19329 ZNF441      737.95220   1.113437       0.1686889  6.600534 4.096793e-11\n",
       "19330 ZNF442      245.25849   1.104730       0.2530159  4.366248 1.263992e-05\n",
       "19359 ZNF491      200.97420   1.542343       0.3001012  5.139411 2.756006e-07\n",
       "19367 ZNF503      166.51167   3.578349       0.3578877  9.998523 1.546871e-23\n",
       "19465 ZNF620       47.20418   1.658652       0.4490551  3.693650 2.210584e-04\n",
       "19473 ZNF627     1732.75135   1.277842       0.1389649  9.195428 3.735058e-20\n",
       "19523 ZNF70       308.77306   1.001547       0.2776242  3.607562 3.090877e-04\n",
       "19527 ZNF704      593.95416   2.915985       0.3037207  9.600878 7.926658e-22\n",
       "19536 ZNF709      273.79071   1.249298       0.3473226  3.596938 3.219850e-04\n",
       "19569 ZNF763      249.44612   1.685441       0.2887007  5.838022 5.282412e-09\n",
       "19625 ZNF843       39.49408   1.808231       0.5829229  3.102007 1.922135e-03\n",
       "19668 ZRANB1     3211.30940   1.627548       0.1324956 12.283792 1.106856e-34\n",
       "19681 ZSCAN23     144.01780   1.412525       0.3136077  4.504115 6.664997e-06\n",
       "19686 ZSCAN31    1325.25957   2.545160       0.2404084 10.586818 3.430546e-26\n",
       "19696 ZSWIM4     1402.84906   2.087352       0.1669988 12.499205 7.540116e-36\n",
       "19698 ZSWIM6     2054.54587   1.038792       0.1563314  6.644805 3.036186e-11\n",
       "19706 ZXDA        199.80170   1.120168       0.2353802  4.758972 1.945817e-06\n",
       "      padj        \n",
       "3     2.435139e-08\n",
       "17    4.656717e-09\n",
       "27    2.504287e-10\n",
       "30    1.079280e-07\n",
       "38    3.430952e-13\n",
       "43    3.460873e-02\n",
       "47    1.932159e-08\n",
       "60    1.340309e-15\n",
       "94    4.856480e-12\n",
       "101   1.972624e-17\n",
       "169   3.079965e-02\n",
       "199   4.428594e-02\n",
       "200   2.879138e-03\n",
       "242   1.187977e-02\n",
       "253   6.598127e-04\n",
       "255   3.834906e-03\n",
       "267   3.576228e-03\n",
       "299   2.341118e-15\n",
       "306   3.063451e-04\n",
       "314   1.678748e-02\n",
       "393   8.349917e-03\n",
       "416   1.968672e-05\n",
       "426   9.561060e-03\n",
       "436   6.252709e-03\n",
       "495   2.478478e-02\n",
       "496   4.097972e-21\n",
       "528   5.757319e-08\n",
       "539   4.123632e-05\n",
       "546   1.903516e-10\n",
       "548   5.999181e-22\n",
       "⋮     ⋮           \n",
       "18973 1.363000e-03\n",
       "19021 2.360680e-05\n",
       "19027 5.684099e-14\n",
       "19044 5.967707e-12\n",
       "19055 4.937872e-09\n",
       "19057 1.237709e-02\n",
       "19070 9.446380e-07\n",
       "19117 2.322284e-03\n",
       "19119 3.597335e-18\n",
       "19210 7.882768e-03\n",
       "19283 1.514872e-08\n",
       "19295 1.525928e-02\n",
       "19323 2.073486e-11\n",
       "19329 5.911137e-10\n",
       "19330 6.675445e-05\n",
       "19359 1.992584e-06\n",
       "19367 1.032939e-21\n",
       "19465 8.916039e-04\n",
       "19473 1.839323e-18\n",
       "19523 1.209259e-03\n",
       "19527 4.516301e-20\n",
       "19536 1.254427e-03\n",
       "19569 5.286846e-08\n",
       "19625 6.124100e-03\n",
       "19668 1.776717e-32\n",
       "19681 3.713800e-05\n",
       "19686 2.892400e-24\n",
       "19696 1.339093e-33\n",
       "19698 4.473551e-10\n",
       "19706 1.197326e-05"
      ]
     },
     "metadata": {},
     "output_type": "display_data"
    }
   ],
   "source": [
    "#I perform the GO analysis on the positive data online\n",
    "BiocManager::install(\"dplyr\")\n",
    "library(dplyr)\n",
    "positive_genes <- dplyr::filter(res_diff_expr, log2FoldChange > 0)\n",
    "positive_genes\n",
    "pos_gene_name = positive_genes$gene\n",
    "writeLines(pos_gene_name, \"name_of_pos_genes.txt\")\n"
   ]
  },
  {
   "cell_type": "code",
   "execution_count": 21,
   "id": "8a21164d-f9a3-42f9-a6b7-9b149008e62e",
   "metadata": {
    "tags": []
   },
   "outputs": [
    {
     "name": "stderr",
     "output_type": "stream",
     "text": [
      "'getOption(\"repos\")' replaces Bioconductor standard repositories, see\n",
      "'help(\"repositories\", package = \"BiocManager\")' for details.\n",
      "Replacement repositories:\n",
      "    CRAN: https://cran.r-project.org\n",
      "\n",
      "Bioconductor version 3.14 (BiocManager 1.30.21.1), R 4.1.1 (2021-08-10)\n",
      "\n",
      "Installing package(s) 'readxl'\n",
      "\n",
      "also installing the dependencies ‘rematch’, ‘hms’, ‘prettyunits’, ‘cellranger’, ‘progress’\n",
      "\n",
      "\n",
      "Updating HTML index of packages in '.Library'\n",
      "\n",
      "Making 'packages.html' ...\n",
      " done\n",
      "\n",
      "Old packages: 'cpp11', 'spatial'\n",
      "\n"
     ]
    }
   ],
   "source": [
    "BiocManager::install(\"readxl\")\n",
    "library(readxl)"
   ]
  },
  {
   "cell_type": "code",
   "execution_count": 22,
   "id": "8f21ff1c-f4bd-4e6a-b340-5cbfdba23799",
   "metadata": {
    "tags": []
   },
   "outputs": [],
   "source": [
    "pos_GO_data = read_excel(\"/bin/Exam_Calogero_MG/GOanalysis_pos_data.xltx\")"
   ]
  },
  {
   "cell_type": "code",
   "execution_count": 23,
   "id": "c9597da0-7b95-4c9c-a9ff-b1819815d3ca",
   "metadata": {
    "tags": []
   },
   "outputs": [],
   "source": [
    "pos_GO_data = as.data.frame(pos_GO_data)"
   ]
  },
  {
   "cell_type": "code",
   "execution_count": 24,
   "id": "3b18b5c3-c4f1-46fc-9b99-4c35475739f2",
   "metadata": {
    "tags": []
   },
   "outputs": [
    {
     "data": {
      "text/html": [
       "'numeric'"
      ],
      "text/latex": [
       "'numeric'"
      ],
      "text/markdown": [
       "'numeric'"
      ],
      "text/plain": [
       "[1] \"numeric\""
      ]
     },
     "metadata": {},
     "output_type": "display_data"
    }
   ],
   "source": [
    "pos_GO_data$`raw P-value`=as.numeric(pos_GO_data$`raw P-value`)\n",
    "class(pos_GO_data$`raw P-value`)\n",
    "ggplot1_data = data.frame(pos_GO_data$`GO biological process complete`[1:20], pos_GO_data$`fold Enrichment`[1:20],-log(pos_GO_data$`raw P-value`[1:20]))\n",
    "colnames(ggplot1_data) = c(\"biological_process\", \"fold_enrichment\", \"log_p_value\")"
   ]
  },
  {
   "cell_type": "code",
   "execution_count": 25,
   "id": "2bf6d6d1-09b7-459a-8642-b006667b4c14",
   "metadata": {
    "tags": []
   },
   "outputs": [],
   "source": [
    "library(ggplot2)"
   ]
  },
  {
   "cell_type": "code",
   "execution_count": 27,
   "id": "51648300-aa31-4a29-934b-52afad3de195",
   "metadata": {
    "tags": []
   },
   "outputs": [
    {
     "name": "stderr",
     "output_type": "stream",
     "text": [
      "\u001b[1m\u001b[22mSaving 6.67 x 6.67 in image\n"
     ]
    },
    {
     "data": {
      "image/png": "[encoded data removed]",
      "text/plain": [
       "plot without title"
      ]
     },
     "metadata": {
      "image/png": {
       "height": 420,
       "width": 420
      }
     },
     "output_type": "display_data"
    }
   ],
   "source": [
    "ggplot(ggplot1_data) + \n",
    "  geom_bar(stat = \"identity\", \n",
    "           aes(y=fold_enrichment,x=biological_process, fill=log_p_value)) +\n",
    "  labs(fill=\"log_p_value\") +\n",
    "  theme(legend.position =c(\"bottom\"),\n",
    "        legend.box=\"horizontal\", \n",
    "        legend.text = element_text(size = 9),\n",
    "        legend.key.height = unit(0.75, \"cm\"),\n",
    "        legend.key.width = unit(0.75, \"cm\"),\n",
    "        axis.text=element_text(size=7)) +\n",
    "  scale_x_discrete() +\n",
    "  labs(title=\"Gene ontology posdata\", \n",
    "       y=\"fold enrichment\", \n",
    "       x=\"Biological process\") + \n",
    "  coord_flip()\n",
    "ggsave(filename=\"H1975_GOposdata.pdf\")"
   ]
  },
  {
   "cell_type": "code",
   "execution_count": 28,
   "id": "419d06a1-4c16-4674-833c-555bc23d6cc9",
   "metadata": {
    "tags": []
   },
   "outputs": [
    {
     "data": {
      "text/html": [
       "<table class=\"dataframe\">\n",
       "<caption>A data.frame: 1324 × 7</caption>\n",
       "<thead>\n",
       "\t<tr><th></th><th scope=col>gene</th><th scope=col>baseMean</th><th scope=col>log2FoldChange</th><th scope=col>lfcSE</th><th scope=col>stat</th><th scope=col>pvalue</th><th scope=col>padj</th></tr>\n",
       "\t<tr><th></th><th scope=col>&lt;chr&gt;</th><th scope=col>&lt;dbl&gt;</th><th scope=col>&lt;dbl&gt;</th><th scope=col>&lt;dbl&gt;</th><th scope=col>&lt;dbl&gt;</th><th scope=col>&lt;dbl&gt;</th><th scope=col>&lt;dbl&gt;</th></tr>\n",
       "</thead>\n",
       "<tbody>\n",
       "\t<tr><th scope=row>14</th><td>AADAT     </td><td> 519.248909</td><td>-1.185638</td><td>0.1758240</td><td> -6.743319</td><td>1.548084e-11</td><td>2.373160e-10</td></tr>\n",
       "\t<tr><th scope=row>19</th><td>AANAT     </td><td>  43.918128</td><td>-3.340325</td><td>0.5007026</td><td> -6.671275</td><td>2.535904e-11</td><td>3.779855e-10</td></tr>\n",
       "\t<tr><th scope=row>33</th><td>ABCA12    </td><td>  92.739377</td><td>-4.903164</td><td>0.6854921</td><td> -7.152765</td><td>8.504719e-13</td><td>1.586344e-11</td></tr>\n",
       "\t<tr><th scope=row>34</th><td>ABCA13    </td><td>  42.761190</td><td>-1.775784</td><td>0.5458523</td><td> -3.253232</td><td>1.141003e-03</td><td>3.876253e-03</td></tr>\n",
       "\t<tr><th scope=row>57</th><td>ABCC3     </td><td>1939.574960</td><td>-1.546003</td><td>0.2868925</td><td> -5.388789</td><td>7.093389e-08</td><td>5.756784e-07</td></tr>\n",
       "\t<tr><th scope=row>72</th><td>ABCG2     </td><td>1244.421607</td><td>-1.590914</td><td>0.2071253</td><td> -7.680926</td><td>1.579432e-14</td><td>3.815779e-13</td></tr>\n",
       "\t<tr><th scope=row>78</th><td>ABHD11    </td><td>1185.216478</td><td>-1.760495</td><td>0.1779762</td><td> -9.891742</td><td>4.520896e-23</td><td>2.936647e-21</td></tr>\n",
       "\t<tr><th scope=row>108</th><td>ABO       </td><td>  58.444180</td><td>-1.632226</td><td>0.5552213</td><td> -2.939775</td><td>3.284506e-03</td><td>9.852927e-03</td></tr>\n",
       "\t<tr><th scope=row>130</th><td>AC003688.2</td><td>  24.470584</td><td>-3.464717</td><td>0.7982895</td><td> -4.340176</td><td>1.423684e-05</td><td>7.429505e-05</td></tr>\n",
       "\t<tr><th scope=row>140</th><td>AC004922.1</td><td>  68.302226</td><td>-1.399927</td><td>0.3773002</td><td> -3.710379</td><td>2.069492e-04</td><td>8.403820e-04</td></tr>\n",
       "\t<tr><th scope=row>170</th><td>AC007325.2</td><td>  27.725943</td><td>-3.472317</td><td>0.7575284</td><td> -4.583745</td><td>4.567206e-06</td><td>2.621002e-05</td></tr>\n",
       "\t<tr><th scope=row>186</th><td>AC008687.1</td><td>  16.550360</td><td>-3.326173</td><td>0.8331899</td><td> -3.992095</td><td>6.549216e-05</td><td>2.991316e-04</td></tr>\n",
       "\t<tr><th scope=row>191</th><td>AC008758.1</td><td>  63.797962</td><td>-1.659729</td><td>0.6956535</td><td> -2.385856</td><td>1.703943e-02</td><td>4.141159e-02</td></tr>\n",
       "\t<tr><th scope=row>204</th><td>AC009133.6</td><td> 851.593971</td><td>-1.246672</td><td>0.1598265</td><td> -7.800159</td><td>6.182941e-15</td><td>1.573445e-13</td></tr>\n",
       "\t<tr><th scope=row>248</th><td>AC012184.2</td><td> 137.411539</td><td>-1.545392</td><td>0.5114057</td><td> -3.021852</td><td>2.512333e-03</td><td>7.776911e-03</td></tr>\n",
       "\t<tr><th scope=row>268</th><td>AC021066.1</td><td>  72.399987</td><td>-1.472075</td><td>0.3710883</td><td> -3.966912</td><td>7.280987e-05</td><td>3.293113e-04</td></tr>\n",
       "\t<tr><th scope=row>338</th><td>AC087632.2</td><td>  20.185337</td><td>-1.742477</td><td>0.7035169</td><td> -2.476810</td><td>1.325626e-02</td><td>3.335845e-02</td></tr>\n",
       "\t<tr><th scope=row>348</th><td>AC091959.3</td><td> 708.279956</td><td>-1.167400</td><td>0.1974291</td><td> -5.913012</td><td>3.359078e-09</td><td>3.517970e-08</td></tr>\n",
       "\t<tr><th scope=row>359</th><td>AC093012.1</td><td> 809.445607</td><td>-1.631206</td><td>0.2101668</td><td> -7.761485</td><td>8.394032e-15</td><td>2.085267e-13</td></tr>\n",
       "\t<tr><th scope=row>374</th><td>AC098582.1</td><td>  16.991012</td><td>-2.198563</td><td>0.9480019</td><td> -2.319155</td><td>2.038665e-02</td><td>4.825390e-02</td></tr>\n",
       "\t<tr><th scope=row>397</th><td>AC114267.1</td><td>   2.916510</td><td>-4.998342</td><td>2.1156324</td><td> -2.362576</td><td>1.814843e-02</td><td>4.366237e-02</td></tr>\n",
       "\t<tr><th scope=row>424</th><td>AC137834.1</td><td>  64.399373</td><td>-1.878566</td><td>0.4681380</td><td> -4.012846</td><td>5.999110e-05</td><td>2.759690e-04</td></tr>\n",
       "\t<tr><th scope=row>473</th><td>ACAN      </td><td>   5.477437</td><td>-4.038240</td><td>1.7162666</td><td> -2.352921</td><td>1.862658e-02</td><td>4.466421e-02</td></tr>\n",
       "\t<tr><th scope=row>478</th><td>ACAT2     </td><td>1134.093059</td><td>-1.223595</td><td>0.2135282</td><td> -5.730369</td><td>1.002125e-08</td><td>9.537897e-08</td></tr>\n",
       "\t<tr><th scope=row>490</th><td>ACER2     </td><td>  46.740683</td><td>-1.892045</td><td>0.4288281</td><td> -4.412130</td><td>1.023588e-05</td><td>5.494461e-05</td></tr>\n",
       "\t<tr><th scope=row>492</th><td>ACHE      </td><td>  84.224037</td><td>-1.028632</td><td>0.3693842</td><td> -2.784722</td><td>5.357365e-03</td><td>1.518178e-02</td></tr>\n",
       "\t<tr><th scope=row>504</th><td>ACOT11    </td><td> 309.226422</td><td>-2.216935</td><td>0.2932324</td><td> -7.560334</td><td>4.020345e-14</td><td>9.143821e-13</td></tr>\n",
       "\t<tr><th scope=row>514</th><td>ACOX2     </td><td> 493.180691</td><td>-3.538281</td><td>0.2060234</td><td>-17.174168</td><td>4.145544e-66</td><td>4.943265e-63</td></tr>\n",
       "\t<tr><th scope=row>516</th><td>ACOXL     </td><td> 102.163564</td><td>-1.985344</td><td>0.3731790</td><td> -5.320085</td><td>1.037186e-07</td><td>8.150535e-07</td></tr>\n",
       "\t<tr><th scope=row>519</th><td>ACP5      </td><td> 503.077789</td><td>-1.806040</td><td>0.3059400</td><td> -5.903251</td><td>3.564079e-09</td><td>3.711022e-08</td></tr>\n",
       "\t<tr><th scope=row>⋮</th><td>⋮</td><td>⋮</td><td>⋮</td><td>⋮</td><td>⋮</td><td>⋮</td><td>⋮</td></tr>\n",
       "\t<tr><th scope=row>19099</th><td>ZGRF1  </td><td> 737.05779</td><td>-1.151765</td><td>0.2065848</td><td> -5.575267</td><td>2.471506e-08</td><td>2.172687e-07</td></tr>\n",
       "\t<tr><th scope=row>19109</th><td>ZIK1   </td><td>1375.44857</td><td>-1.391508</td><td>0.1926329</td><td> -7.223628</td><td>5.061869e-13</td><td>9.679591e-12</td></tr>\n",
       "\t<tr><th scope=row>19140</th><td>ZNF100 </td><td>1275.34236</td><td>-1.366551</td><td>0.2188017</td><td> -6.245616</td><td>4.221330e-10</td><td>5.132620e-09</td></tr>\n",
       "\t<tr><th scope=row>19143</th><td>ZNF107 </td><td>1929.90944</td><td>-1.247416</td><td>0.1729075</td><td> -7.214352</td><td>5.419160e-13</td><td>1.032734e-11</td></tr>\n",
       "\t<tr><th scope=row>19145</th><td>ZNF114 </td><td>2060.69506</td><td>-1.732386</td><td>0.1903266</td><td> -9.102177</td><td>8.853919e-20</td><td>4.083075e-18</td></tr>\n",
       "\t<tr><th scope=row>19169</th><td>ZNF165 </td><td> 368.35912</td><td>-1.791963</td><td>0.2699301</td><td> -6.638619</td><td>3.166365e-11</td><td>4.640852e-10</td></tr>\n",
       "\t<tr><th scope=row>19221</th><td>ZNF257 </td><td> 645.77047</td><td>-1.958046</td><td>0.2285082</td><td> -8.568824</td><td>1.045473e-17</td><td>3.878472e-16</td></tr>\n",
       "\t<tr><th scope=row>19225</th><td>ZNF264 </td><td>2924.33990</td><td>-1.000441</td><td>0.1826075</td><td> -5.478639</td><td>4.286092e-08</td><td>3.635773e-07</td></tr>\n",
       "\t<tr><th scope=row>19246</th><td>ZNF292 </td><td>4327.36027</td><td>-1.701477</td><td>0.2605490</td><td> -6.530352</td><td>6.561531e-11</td><td>9.115209e-10</td></tr>\n",
       "\t<tr><th scope=row>19265</th><td>ZNF331 </td><td>2186.45679</td><td>-1.275850</td><td>0.1580026</td><td> -8.074866</td><td>6.755070e-16</td><td>1.954404e-14</td></tr>\n",
       "\t<tr><th scope=row>19285</th><td>ZNF365 </td><td>  97.46241</td><td>-2.049455</td><td>0.3967302</td><td> -5.165865</td><td>2.393291e-07</td><td>1.755431e-06</td></tr>\n",
       "\t<tr><th scope=row>19287</th><td>ZNF367 </td><td> 866.97977</td><td>-1.559634</td><td>0.2390455</td><td> -6.524424</td><td>6.826344e-11</td><td>9.449336e-10</td></tr>\n",
       "\t<tr><th scope=row>19292</th><td>ZNF385A</td><td>1497.10530</td><td>-1.271172</td><td>0.2498241</td><td> -5.088268</td><td>3.613478e-07</td><td>2.561503e-06</td></tr>\n",
       "\t<tr><th scope=row>19322</th><td>ZNF432 </td><td>1998.74199</td><td>-1.492682</td><td>0.2282723</td><td> -6.539042</td><td>6.191413e-11</td><td>8.641499e-10</td></tr>\n",
       "\t<tr><th scope=row>19344</th><td>ZNF469 </td><td> 255.15558</td><td>-3.162425</td><td>0.3465797</td><td> -9.124667</td><td>7.195684e-20</td><td>3.402967e-18</td></tr>\n",
       "\t<tr><th scope=row>19357</th><td>ZNF488 </td><td> 464.30881</td><td>-2.628590</td><td>0.2280148</td><td>-11.528157</td><td>9.515948e-31</td><td>1.134709e-28</td></tr>\n",
       "\t<tr><th scope=row>19384</th><td>ZNF525 </td><td>2576.77730</td><td>-1.198820</td><td>0.2136142</td><td> -5.612077</td><td>1.999126e-08</td><td>1.788500e-07</td></tr>\n",
       "\t<tr><th scope=row>19389</th><td>ZNF530 </td><td> 691.17298</td><td>-1.277511</td><td>0.2124980</td><td> -6.011873</td><td>1.833916e-09</td><td>2.007566e-08</td></tr>\n",
       "\t<tr><th scope=row>19508</th><td>ZNF681 </td><td> 977.48006</td><td>-1.174945</td><td>0.1732450</td><td> -6.781987</td><td>1.185339e-11</td><td>1.863282e-10</td></tr>\n",
       "\t<tr><th scope=row>19541</th><td>ZNF714 </td><td>2588.45839</td><td>-1.020978</td><td>0.1535595</td><td> -6.648743</td><td>2.956075e-11</td><td>4.363281e-10</td></tr>\n",
       "\t<tr><th scope=row>19548</th><td>ZNF724 </td><td> 603.85096</td><td>-1.415854</td><td>0.2093339</td><td> -6.763613</td><td>1.345924e-11</td><td>2.082378e-10</td></tr>\n",
       "\t<tr><th scope=row>19549</th><td>ZNF726 </td><td> 475.61862</td><td>-1.020182</td><td>0.1944352</td><td> -5.246897</td><td>1.546822e-07</td><td>1.176430e-06</td></tr>\n",
       "\t<tr><th scope=row>19553</th><td>ZNF730 </td><td> 142.16909</td><td>-2.080102</td><td>0.3374386</td><td> -6.164387</td><td>7.075656e-10</td><td>8.318381e-09</td></tr>\n",
       "\t<tr><th scope=row>19554</th><td>ZNF732 </td><td> 213.23167</td><td>-1.330506</td><td>0.2330072</td><td> -5.710152</td><td>1.128756e-08</td><td>1.061603e-07</td></tr>\n",
       "\t<tr><th scope=row>19624</th><td>ZNF841 </td><td>5149.75249</td><td>-1.515835</td><td>0.1902041</td><td> -7.969519</td><td>1.592932e-15</td><td>4.410018e-14</td></tr>\n",
       "\t<tr><th scope=row>19633</th><td>ZNF860 </td><td> 233.56033</td><td>-1.513146</td><td>0.2495710</td><td> -6.062987</td><td>1.336163e-09</td><td>1.500061e-08</td></tr>\n",
       "\t<tr><th scope=row>19637</th><td>ZNF878 </td><td> 168.25194</td><td>-1.447601</td><td>0.3497524</td><td> -4.138932</td><td>3.489262e-05</td><td>1.684005e-04</td></tr>\n",
       "\t<tr><th scope=row>19645</th><td>ZNF92  </td><td>1111.56522</td><td>-1.471563</td><td>0.2036966</td><td> -7.224287</td><td>5.037378e-13</td><td>9.643805e-12</td></tr>\n",
       "\t<tr><th scope=row>19704</th><td>ZWILCH </td><td>2256.26138</td><td>-1.012061</td><td>0.1858810</td><td> -5.444672</td><td>5.190079e-08</td><td>4.323512e-07</td></tr>\n",
       "\t<tr><th scope=row>19705</th><td>ZWINT  </td><td>3410.60470</td><td>-1.603036</td><td>0.2210736</td><td> -7.251144</td><td>4.132672e-13</td><td>8.040889e-12</td></tr>\n",
       "</tbody>\n",
       "</table>\n"
      ],
      "text/latex": [
       "A data.frame: 1324 × 7\n",
       "\\begin{tabular}{r|lllllll}\n",
       "  & gene & baseMean & log2FoldChange & lfcSE & stat & pvalue & padj\\\\\n",
       "  & <chr> & <dbl> & <dbl> & <dbl> & <dbl> & <dbl> & <dbl>\\\\\n",
       "\\hline\n",
       "\t14 & AADAT      &  519.248909 & -1.185638 & 0.1758240 &  -6.743319 & 1.548084e-11 & 2.373160e-10\\\\\n",
       "\t19 & AANAT      &   43.918128 & -3.340325 & 0.5007026 &  -6.671275 & 2.535904e-11 & 3.779855e-10\\\\\n",
       "\t33 & ABCA12     &   92.739377 & -4.903164 & 0.6854921 &  -7.152765 & 8.504719e-13 & 1.586344e-11\\\\\n",
       "\t34 & ABCA13     &   42.761190 & -1.775784 & 0.5458523 &  -3.253232 & 1.141003e-03 & 3.876253e-03\\\\\n",
       "\t57 & ABCC3      & 1939.574960 & -1.546003 & 0.2868925 &  -5.388789 & 7.093389e-08 & 5.756784e-07\\\\\n",
       "\t72 & ABCG2      & 1244.421607 & -1.590914 & 0.2071253 &  -7.680926 & 1.579432e-14 & 3.815779e-13\\\\\n",
       "\t78 & ABHD11     & 1185.216478 & -1.760495 & 0.1779762 &  -9.891742 & 4.520896e-23 & 2.936647e-21\\\\\n",
       "\t108 & ABO        &   58.444180 & -1.632226 & 0.5552213 &  -2.939775 & 3.284506e-03 & 9.852927e-03\\\\\n",
       "\t130 & AC003688.2 &   24.470584 & -3.464717 & 0.7982895 &  -4.340176 & 1.423684e-05 & 7.429505e-05\\\\\n",
       "\t140 & AC004922.1 &   68.302226 & -1.399927 & 0.3773002 &  -3.710379 & 2.069492e-04 & 8.403820e-04\\\\\n",
       "\t170 & AC007325.2 &   27.725943 & -3.472317 & 0.7575284 &  -4.583745 & 4.567206e-06 & 2.621002e-05\\\\\n",
       "\t186 & AC008687.1 &   16.550360 & -3.326173 & 0.8331899 &  -3.992095 & 6.549216e-05 & 2.991316e-04\\\\\n",
       "\t191 & AC008758.1 &   63.797962 & -1.659729 & 0.6956535 &  -2.385856 & 1.703943e-02 & 4.141159e-02\\\\\n",
       "\t204 & AC009133.6 &  851.593971 & -1.246672 & 0.1598265 &  -7.800159 & 6.182941e-15 & 1.573445e-13\\\\\n",
       "\t248 & AC012184.2 &  137.411539 & -1.545392 & 0.5114057 &  -3.021852 & 2.512333e-03 & 7.776911e-03\\\\\n",
       "\t268 & AC021066.1 &   72.399987 & -1.472075 & 0.3710883 &  -3.966912 & 7.280987e-05 & 3.293113e-04\\\\\n",
       "\t338 & AC087632.2 &   20.185337 & -1.742477 & 0.7035169 &  -2.476810 & 1.325626e-02 & 3.335845e-02\\\\\n",
       "\t348 & AC091959.3 &  708.279956 & -1.167400 & 0.1974291 &  -5.913012 & 3.359078e-09 & 3.517970e-08\\\\\n",
       "\t359 & AC093012.1 &  809.445607 & -1.631206 & 0.2101668 &  -7.761485 & 8.394032e-15 & 2.085267e-13\\\\\n",
       "\t374 & AC098582.1 &   16.991012 & -2.198563 & 0.9480019 &  -2.319155 & 2.038665e-02 & 4.825390e-02\\\\\n",
       "\t397 & AC114267.1 &    2.916510 & -4.998342 & 2.1156324 &  -2.362576 & 1.814843e-02 & 4.366237e-02\\\\\n",
       "\t424 & AC137834.1 &   64.399373 & -1.878566 & 0.4681380 &  -4.012846 & 5.999110e-05 & 2.759690e-04\\\\\n",
       "\t473 & ACAN       &    5.477437 & -4.038240 & 1.7162666 &  -2.352921 & 1.862658e-02 & 4.466421e-02\\\\\n",
       "\t478 & ACAT2      & 1134.093059 & -1.223595 & 0.2135282 &  -5.730369 & 1.002125e-08 & 9.537897e-08\\\\\n",
       "\t490 & ACER2      &   46.740683 & -1.892045 & 0.4288281 &  -4.412130 & 1.023588e-05 & 5.494461e-05\\\\\n",
       "\t492 & ACHE       &   84.224037 & -1.028632 & 0.3693842 &  -2.784722 & 5.357365e-03 & 1.518178e-02\\\\\n",
       "\t504 & ACOT11     &  309.226422 & -2.216935 & 0.2932324 &  -7.560334 & 4.020345e-14 & 9.143821e-13\\\\\n",
       "\t514 & ACOX2      &  493.180691 & -3.538281 & 0.2060234 & -17.174168 & 4.145544e-66 & 4.943265e-63\\\\\n",
       "\t516 & ACOXL      &  102.163564 & -1.985344 & 0.3731790 &  -5.320085 & 1.037186e-07 & 8.150535e-07\\\\\n",
       "\t519 & ACP5       &  503.077789 & -1.806040 & 0.3059400 &  -5.903251 & 3.564079e-09 & 3.711022e-08\\\\\n",
       "\t⋮ & ⋮ & ⋮ & ⋮ & ⋮ & ⋮ & ⋮ & ⋮\\\\\n",
       "\t19099 & ZGRF1   &  737.05779 & -1.151765 & 0.2065848 &  -5.575267 & 2.471506e-08 & 2.172687e-07\\\\\n",
       "\t19109 & ZIK1    & 1375.44857 & -1.391508 & 0.1926329 &  -7.223628 & 5.061869e-13 & 9.679591e-12\\\\\n",
       "\t19140 & ZNF100  & 1275.34236 & -1.366551 & 0.2188017 &  -6.245616 & 4.221330e-10 & 5.132620e-09\\\\\n",
       "\t19143 & ZNF107  & 1929.90944 & -1.247416 & 0.1729075 &  -7.214352 & 5.419160e-13 & 1.032734e-11\\\\\n",
       "\t19145 & ZNF114  & 2060.69506 & -1.732386 & 0.1903266 &  -9.102177 & 8.853919e-20 & 4.083075e-18\\\\\n",
       "\t19169 & ZNF165  &  368.35912 & -1.791963 & 0.2699301 &  -6.638619 & 3.166365e-11 & 4.640852e-10\\\\\n",
       "\t19221 & ZNF257  &  645.77047 & -1.958046 & 0.2285082 &  -8.568824 & 1.045473e-17 & 3.878472e-16\\\\\n",
       "\t19225 & ZNF264  & 2924.33990 & -1.000441 & 0.1826075 &  -5.478639 & 4.286092e-08 & 3.635773e-07\\\\\n",
       "\t19246 & ZNF292  & 4327.36027 & -1.701477 & 0.2605490 &  -6.530352 & 6.561531e-11 & 9.115209e-10\\\\\n",
       "\t19265 & ZNF331  & 2186.45679 & -1.275850 & 0.1580026 &  -8.074866 & 6.755070e-16 & 1.954404e-14\\\\\n",
       "\t19285 & ZNF365  &   97.46241 & -2.049455 & 0.3967302 &  -5.165865 & 2.393291e-07 & 1.755431e-06\\\\\n",
       "\t19287 & ZNF367  &  866.97977 & -1.559634 & 0.2390455 &  -6.524424 & 6.826344e-11 & 9.449336e-10\\\\\n",
       "\t19292 & ZNF385A & 1497.10530 & -1.271172 & 0.2498241 &  -5.088268 & 3.613478e-07 & 2.561503e-06\\\\\n",
       "\t19322 & ZNF432  & 1998.74199 & -1.492682 & 0.2282723 &  -6.539042 & 6.191413e-11 & 8.641499e-10\\\\\n",
       "\t19344 & ZNF469  &  255.15558 & -3.162425 & 0.3465797 &  -9.124667 & 7.195684e-20 & 3.402967e-18\\\\\n",
       "\t19357 & ZNF488  &  464.30881 & -2.628590 & 0.2280148 & -11.528157 & 9.515948e-31 & 1.134709e-28\\\\\n",
       "\t19384 & ZNF525  & 2576.77730 & -1.198820 & 0.2136142 &  -5.612077 & 1.999126e-08 & 1.788500e-07\\\\\n",
       "\t19389 & ZNF530  &  691.17298 & -1.277511 & 0.2124980 &  -6.011873 & 1.833916e-09 & 2.007566e-08\\\\\n",
       "\t19508 & ZNF681  &  977.48006 & -1.174945 & 0.1732450 &  -6.781987 & 1.185339e-11 & 1.863282e-10\\\\\n",
       "\t19541 & ZNF714  & 2588.45839 & -1.020978 & 0.1535595 &  -6.648743 & 2.956075e-11 & 4.363281e-10\\\\\n",
       "\t19548 & ZNF724  &  603.85096 & -1.415854 & 0.2093339 &  -6.763613 & 1.345924e-11 & 2.082378e-10\\\\\n",
       "\t19549 & ZNF726  &  475.61862 & -1.020182 & 0.1944352 &  -5.246897 & 1.546822e-07 & 1.176430e-06\\\\\n",
       "\t19553 & ZNF730  &  142.16909 & -2.080102 & 0.3374386 &  -6.164387 & 7.075656e-10 & 8.318381e-09\\\\\n",
       "\t19554 & ZNF732  &  213.23167 & -1.330506 & 0.2330072 &  -5.710152 & 1.128756e-08 & 1.061603e-07\\\\\n",
       "\t19624 & ZNF841  & 5149.75249 & -1.515835 & 0.1902041 &  -7.969519 & 1.592932e-15 & 4.410018e-14\\\\\n",
       "\t19633 & ZNF860  &  233.56033 & -1.513146 & 0.2495710 &  -6.062987 & 1.336163e-09 & 1.500061e-08\\\\\n",
       "\t19637 & ZNF878  &  168.25194 & -1.447601 & 0.3497524 &  -4.138932 & 3.489262e-05 & 1.684005e-04\\\\\n",
       "\t19645 & ZNF92   & 1111.56522 & -1.471563 & 0.2036966 &  -7.224287 & 5.037378e-13 & 9.643805e-12\\\\\n",
       "\t19704 & ZWILCH  & 2256.26138 & -1.012061 & 0.1858810 &  -5.444672 & 5.190079e-08 & 4.323512e-07\\\\\n",
       "\t19705 & ZWINT   & 3410.60470 & -1.603036 & 0.2210736 &  -7.251144 & 4.132672e-13 & 8.040889e-12\\\\\n",
       "\\end{tabular}\n"
      ],
      "text/markdown": [
       "\n",
       "A data.frame: 1324 × 7\n",
       "\n",
       "| <!--/--> | gene &lt;chr&gt; | baseMean &lt;dbl&gt; | log2FoldChange &lt;dbl&gt; | lfcSE &lt;dbl&gt; | stat &lt;dbl&gt; | pvalue &lt;dbl&gt; | padj &lt;dbl&gt; |\n",
       "|---|---|---|---|---|---|---|---|\n",
       "| 14 | AADAT      |  519.248909 | -1.185638 | 0.1758240 |  -6.743319 | 1.548084e-11 | 2.373160e-10 |\n",
       "| 19 | AANAT      |   43.918128 | -3.340325 | 0.5007026 |  -6.671275 | 2.535904e-11 | 3.779855e-10 |\n",
       "| 33 | ABCA12     |   92.739377 | -4.903164 | 0.6854921 |  -7.152765 | 8.504719e-13 | 1.586344e-11 |\n",
       "| 34 | ABCA13     |   42.761190 | -1.775784 | 0.5458523 |  -3.253232 | 1.141003e-03 | 3.876253e-03 |\n",
       "| 57 | ABCC3      | 1939.574960 | -1.546003 | 0.2868925 |  -5.388789 | 7.093389e-08 | 5.756784e-07 |\n",
       "| 72 | ABCG2      | 1244.421607 | -1.590914 | 0.2071253 |  -7.680926 | 1.579432e-14 | 3.815779e-13 |\n",
       "| 78 | ABHD11     | 1185.216478 | -1.760495 | 0.1779762 |  -9.891742 | 4.520896e-23 | 2.936647e-21 |\n",
       "| 108 | ABO        |   58.444180 | -1.632226 | 0.5552213 |  -2.939775 | 3.284506e-03 | 9.852927e-03 |\n",
       "| 130 | AC003688.2 |   24.470584 | -3.464717 | 0.7982895 |  -4.340176 | 1.423684e-05 | 7.429505e-05 |\n",
       "| 140 | AC004922.1 |   68.302226 | -1.399927 | 0.3773002 |  -3.710379 | 2.069492e-04 | 8.403820e-04 |\n",
       "| 170 | AC007325.2 |   27.725943 | -3.472317 | 0.7575284 |  -4.583745 | 4.567206e-06 | 2.621002e-05 |\n",
       "| 186 | AC008687.1 |   16.550360 | -3.326173 | 0.8331899 |  -3.992095 | 6.549216e-05 | 2.991316e-04 |\n",
       "| 191 | AC008758.1 |   63.797962 | -1.659729 | 0.6956535 |  -2.385856 | 1.703943e-02 | 4.141159e-02 |\n",
       "| 204 | AC009133.6 |  851.593971 | -1.246672 | 0.1598265 |  -7.800159 | 6.182941e-15 | 1.573445e-13 |\n",
       "| 248 | AC012184.2 |  137.411539 | -1.545392 | 0.5114057 |  -3.021852 | 2.512333e-03 | 7.776911e-03 |\n",
       "| 268 | AC021066.1 |   72.399987 | -1.472075 | 0.3710883 |  -3.966912 | 7.280987e-05 | 3.293113e-04 |\n",
       "| 338 | AC087632.2 |   20.185337 | -1.742477 | 0.7035169 |  -2.476810 | 1.325626e-02 | 3.335845e-02 |\n",
       "| 348 | AC091959.3 |  708.279956 | -1.167400 | 0.1974291 |  -5.913012 | 3.359078e-09 | 3.517970e-08 |\n",
       "| 359 | AC093012.1 |  809.445607 | -1.631206 | 0.2101668 |  -7.761485 | 8.394032e-15 | 2.085267e-13 |\n",
       "| 374 | AC098582.1 |   16.991012 | -2.198563 | 0.9480019 |  -2.319155 | 2.038665e-02 | 4.825390e-02 |\n",
       "| 397 | AC114267.1 |    2.916510 | -4.998342 | 2.1156324 |  -2.362576 | 1.814843e-02 | 4.366237e-02 |\n",
       "| 424 | AC137834.1 |   64.399373 | -1.878566 | 0.4681380 |  -4.012846 | 5.999110e-05 | 2.759690e-04 |\n",
       "| 473 | ACAN       |    5.477437 | -4.038240 | 1.7162666 |  -2.352921 | 1.862658e-02 | 4.466421e-02 |\n",
       "| 478 | ACAT2      | 1134.093059 | -1.223595 | 0.2135282 |  -5.730369 | 1.002125e-08 | 9.537897e-08 |\n",
       "| 490 | ACER2      |   46.740683 | -1.892045 | 0.4288281 |  -4.412130 | 1.023588e-05 | 5.494461e-05 |\n",
       "| 492 | ACHE       |   84.224037 | -1.028632 | 0.3693842 |  -2.784722 | 5.357365e-03 | 1.518178e-02 |\n",
       "| 504 | ACOT11     |  309.226422 | -2.216935 | 0.2932324 |  -7.560334 | 4.020345e-14 | 9.143821e-13 |\n",
       "| 514 | ACOX2      |  493.180691 | -3.538281 | 0.2060234 | -17.174168 | 4.145544e-66 | 4.943265e-63 |\n",
       "| 516 | ACOXL      |  102.163564 | -1.985344 | 0.3731790 |  -5.320085 | 1.037186e-07 | 8.150535e-07 |\n",
       "| 519 | ACP5       |  503.077789 | -1.806040 | 0.3059400 |  -5.903251 | 3.564079e-09 | 3.711022e-08 |\n",
       "| ⋮ | ⋮ | ⋮ | ⋮ | ⋮ | ⋮ | ⋮ | ⋮ |\n",
       "| 19099 | ZGRF1   |  737.05779 | -1.151765 | 0.2065848 |  -5.575267 | 2.471506e-08 | 2.172687e-07 |\n",
       "| 19109 | ZIK1    | 1375.44857 | -1.391508 | 0.1926329 |  -7.223628 | 5.061869e-13 | 9.679591e-12 |\n",
       "| 19140 | ZNF100  | 1275.34236 | -1.366551 | 0.2188017 |  -6.245616 | 4.221330e-10 | 5.132620e-09 |\n",
       "| 19143 | ZNF107  | 1929.90944 | -1.247416 | 0.1729075 |  -7.214352 | 5.419160e-13 | 1.032734e-11 |\n",
       "| 19145 | ZNF114  | 2060.69506 | -1.732386 | 0.1903266 |  -9.102177 | 8.853919e-20 | 4.083075e-18 |\n",
       "| 19169 | ZNF165  |  368.35912 | -1.791963 | 0.2699301 |  -6.638619 | 3.166365e-11 | 4.640852e-10 |\n",
       "| 19221 | ZNF257  |  645.77047 | -1.958046 | 0.2285082 |  -8.568824 | 1.045473e-17 | 3.878472e-16 |\n",
       "| 19225 | ZNF264  | 2924.33990 | -1.000441 | 0.1826075 |  -5.478639 | 4.286092e-08 | 3.635773e-07 |\n",
       "| 19246 | ZNF292  | 4327.36027 | -1.701477 | 0.2605490 |  -6.530352 | 6.561531e-11 | 9.115209e-10 |\n",
       "| 19265 | ZNF331  | 2186.45679 | -1.275850 | 0.1580026 |  -8.074866 | 6.755070e-16 | 1.954404e-14 |\n",
       "| 19285 | ZNF365  |   97.46241 | -2.049455 | 0.3967302 |  -5.165865 | 2.393291e-07 | 1.755431e-06 |\n",
       "| 19287 | ZNF367  |  866.97977 | -1.559634 | 0.2390455 |  -6.524424 | 6.826344e-11 | 9.449336e-10 |\n",
       "| 19292 | ZNF385A | 1497.10530 | -1.271172 | 0.2498241 |  -5.088268 | 3.613478e-07 | 2.561503e-06 |\n",
       "| 19322 | ZNF432  | 1998.74199 | -1.492682 | 0.2282723 |  -6.539042 | 6.191413e-11 | 8.641499e-10 |\n",
       "| 19344 | ZNF469  |  255.15558 | -3.162425 | 0.3465797 |  -9.124667 | 7.195684e-20 | 3.402967e-18 |\n",
       "| 19357 | ZNF488  |  464.30881 | -2.628590 | 0.2280148 | -11.528157 | 9.515948e-31 | 1.134709e-28 |\n",
       "| 19384 | ZNF525  | 2576.77730 | -1.198820 | 0.2136142 |  -5.612077 | 1.999126e-08 | 1.788500e-07 |\n",
       "| 19389 | ZNF530  |  691.17298 | -1.277511 | 0.2124980 |  -6.011873 | 1.833916e-09 | 2.007566e-08 |\n",
       "| 19508 | ZNF681  |  977.48006 | -1.174945 | 0.1732450 |  -6.781987 | 1.185339e-11 | 1.863282e-10 |\n",
       "| 19541 | ZNF714  | 2588.45839 | -1.020978 | 0.1535595 |  -6.648743 | 2.956075e-11 | 4.363281e-10 |\n",
       "| 19548 | ZNF724  |  603.85096 | -1.415854 | 0.2093339 |  -6.763613 | 1.345924e-11 | 2.082378e-10 |\n",
       "| 19549 | ZNF726  |  475.61862 | -1.020182 | 0.1944352 |  -5.246897 | 1.546822e-07 | 1.176430e-06 |\n",
       "| 19553 | ZNF730  |  142.16909 | -2.080102 | 0.3374386 |  -6.164387 | 7.075656e-10 | 8.318381e-09 |\n",
       "| 19554 | ZNF732  |  213.23167 | -1.330506 | 0.2330072 |  -5.710152 | 1.128756e-08 | 1.061603e-07 |\n",
       "| 19624 | ZNF841  | 5149.75249 | -1.515835 | 0.1902041 |  -7.969519 | 1.592932e-15 | 4.410018e-14 |\n",
       "| 19633 | ZNF860  |  233.56033 | -1.513146 | 0.2495710 |  -6.062987 | 1.336163e-09 | 1.500061e-08 |\n",
       "| 19637 | ZNF878  |  168.25194 | -1.447601 | 0.3497524 |  -4.138932 | 3.489262e-05 | 1.684005e-04 |\n",
       "| 19645 | ZNF92   | 1111.56522 | -1.471563 | 0.2036966 |  -7.224287 | 5.037378e-13 | 9.643805e-12 |\n",
       "| 19704 | ZWILCH  | 2256.26138 | -1.012061 | 0.1858810 |  -5.444672 | 5.190079e-08 | 4.323512e-07 |\n",
       "| 19705 | ZWINT   | 3410.60470 | -1.603036 | 0.2210736 |  -7.251144 | 4.132672e-13 | 8.040889e-12 |\n",
       "\n"
      ],
      "text/plain": [
       "      gene       baseMean    log2FoldChange lfcSE     stat       pvalue      \n",
       "14    AADAT       519.248909 -1.185638      0.1758240  -6.743319 1.548084e-11\n",
       "19    AANAT        43.918128 -3.340325      0.5007026  -6.671275 2.535904e-11\n",
       "33    ABCA12       92.739377 -4.903164      0.6854921  -7.152765 8.504719e-13\n",
       "34    ABCA13       42.761190 -1.775784      0.5458523  -3.253232 1.141003e-03\n",
       "57    ABCC3      1939.574960 -1.546003      0.2868925  -5.388789 7.093389e-08\n",
       "72    ABCG2      1244.421607 -1.590914      0.2071253  -7.680926 1.579432e-14\n",
       "78    ABHD11     1185.216478 -1.760495      0.1779762  -9.891742 4.520896e-23\n",
       "108   ABO          58.444180 -1.632226      0.5552213  -2.939775 3.284506e-03\n",
       "130   AC003688.2   24.470584 -3.464717      0.7982895  -4.340176 1.423684e-05\n",
       "140   AC004922.1   68.302226 -1.399927      0.3773002  -3.710379 2.069492e-04\n",
       "170   AC007325.2   27.725943 -3.472317      0.7575284  -4.583745 4.567206e-06\n",
       "186   AC008687.1   16.550360 -3.326173      0.8331899  -3.992095 6.549216e-05\n",
       "191   AC008758.1   63.797962 -1.659729      0.6956535  -2.385856 1.703943e-02\n",
       "204   AC009133.6  851.593971 -1.246672      0.1598265  -7.800159 6.182941e-15\n",
       "248   AC012184.2  137.411539 -1.545392      0.5114057  -3.021852 2.512333e-03\n",
       "268   AC021066.1   72.399987 -1.472075      0.3710883  -3.966912 7.280987e-05\n",
       "338   AC087632.2   20.185337 -1.742477      0.7035169  -2.476810 1.325626e-02\n",
       "348   AC091959.3  708.279956 -1.167400      0.1974291  -5.913012 3.359078e-09\n",
       "359   AC093012.1  809.445607 -1.631206      0.2101668  -7.761485 8.394032e-15\n",
       "374   AC098582.1   16.991012 -2.198563      0.9480019  -2.319155 2.038665e-02\n",
       "397   AC114267.1    2.916510 -4.998342      2.1156324  -2.362576 1.814843e-02\n",
       "424   AC137834.1   64.399373 -1.878566      0.4681380  -4.012846 5.999110e-05\n",
       "473   ACAN          5.477437 -4.038240      1.7162666  -2.352921 1.862658e-02\n",
       "478   ACAT2      1134.093059 -1.223595      0.2135282  -5.730369 1.002125e-08\n",
       "490   ACER2        46.740683 -1.892045      0.4288281  -4.412130 1.023588e-05\n",
       "492   ACHE         84.224037 -1.028632      0.3693842  -2.784722 5.357365e-03\n",
       "504   ACOT11      309.226422 -2.216935      0.2932324  -7.560334 4.020345e-14\n",
       "514   ACOX2       493.180691 -3.538281      0.2060234 -17.174168 4.145544e-66\n",
       "516   ACOXL       102.163564 -1.985344      0.3731790  -5.320085 1.037186e-07\n",
       "519   ACP5        503.077789 -1.806040      0.3059400  -5.903251 3.564079e-09\n",
       "⋮     ⋮          ⋮           ⋮              ⋮         ⋮          ⋮           \n",
       "19099 ZGRF1       737.05779  -1.151765      0.2065848  -5.575267 2.471506e-08\n",
       "19109 ZIK1       1375.44857  -1.391508      0.1926329  -7.223628 5.061869e-13\n",
       "19140 ZNF100     1275.34236  -1.366551      0.2188017  -6.245616 4.221330e-10\n",
       "19143 ZNF107     1929.90944  -1.247416      0.1729075  -7.214352 5.419160e-13\n",
       "19145 ZNF114     2060.69506  -1.732386      0.1903266  -9.102177 8.853919e-20\n",
       "19169 ZNF165      368.35912  -1.791963      0.2699301  -6.638619 3.166365e-11\n",
       "19221 ZNF257      645.77047  -1.958046      0.2285082  -8.568824 1.045473e-17\n",
       "19225 ZNF264     2924.33990  -1.000441      0.1826075  -5.478639 4.286092e-08\n",
       "19246 ZNF292     4327.36027  -1.701477      0.2605490  -6.530352 6.561531e-11\n",
       "19265 ZNF331     2186.45679  -1.275850      0.1580026  -8.074866 6.755070e-16\n",
       "19285 ZNF365       97.46241  -2.049455      0.3967302  -5.165865 2.393291e-07\n",
       "19287 ZNF367      866.97977  -1.559634      0.2390455  -6.524424 6.826344e-11\n",
       "19292 ZNF385A    1497.10530  -1.271172      0.2498241  -5.088268 3.613478e-07\n",
       "19322 ZNF432     1998.74199  -1.492682      0.2282723  -6.539042 6.191413e-11\n",
       "19344 ZNF469      255.15558  -3.162425      0.3465797  -9.124667 7.195684e-20\n",
       "19357 ZNF488      464.30881  -2.628590      0.2280148 -11.528157 9.515948e-31\n",
       "19384 ZNF525     2576.77730  -1.198820      0.2136142  -5.612077 1.999126e-08\n",
       "19389 ZNF530      691.17298  -1.277511      0.2124980  -6.011873 1.833916e-09\n",
       "19508 ZNF681      977.48006  -1.174945      0.1732450  -6.781987 1.185339e-11\n",
       "19541 ZNF714     2588.45839  -1.020978      0.1535595  -6.648743 2.956075e-11\n",
       "19548 ZNF724      603.85096  -1.415854      0.2093339  -6.763613 1.345924e-11\n",
       "19549 ZNF726      475.61862  -1.020182      0.1944352  -5.246897 1.546822e-07\n",
       "19553 ZNF730      142.16909  -2.080102      0.3374386  -6.164387 7.075656e-10\n",
       "19554 ZNF732      213.23167  -1.330506      0.2330072  -5.710152 1.128756e-08\n",
       "19624 ZNF841     5149.75249  -1.515835      0.1902041  -7.969519 1.592932e-15\n",
       "19633 ZNF860      233.56033  -1.513146      0.2495710  -6.062987 1.336163e-09\n",
       "19637 ZNF878      168.25194  -1.447601      0.3497524  -4.138932 3.489262e-05\n",
       "19645 ZNF92      1111.56522  -1.471563      0.2036966  -7.224287 5.037378e-13\n",
       "19704 ZWILCH     2256.26138  -1.012061      0.1858810  -5.444672 5.190079e-08\n",
       "19705 ZWINT      3410.60470  -1.603036      0.2210736  -7.251144 4.132672e-13\n",
       "      padj        \n",
       "14    2.373160e-10\n",
       "19    3.779855e-10\n",
       "33    1.586344e-11\n",
       "34    3.876253e-03\n",
       "57    5.756784e-07\n",
       "72    3.815779e-13\n",
       "78    2.936647e-21\n",
       "108   9.852927e-03\n",
       "130   7.429505e-05\n",
       "140   8.403820e-04\n",
       "170   2.621002e-05\n",
       "186   2.991316e-04\n",
       "191   4.141159e-02\n",
       "204   1.573445e-13\n",
       "248   7.776911e-03\n",
       "268   3.293113e-04\n",
       "338   3.335845e-02\n",
       "348   3.517970e-08\n",
       "359   2.085267e-13\n",
       "374   4.825390e-02\n",
       "397   4.366237e-02\n",
       "424   2.759690e-04\n",
       "473   4.466421e-02\n",
       "478   9.537897e-08\n",
       "490   5.494461e-05\n",
       "492   1.518178e-02\n",
       "504   9.143821e-13\n",
       "514   4.943265e-63\n",
       "516   8.150535e-07\n",
       "519   3.711022e-08\n",
       "⋮     ⋮           \n",
       "19099 2.172687e-07\n",
       "19109 9.679591e-12\n",
       "19140 5.132620e-09\n",
       "19143 1.032734e-11\n",
       "19145 4.083075e-18\n",
       "19169 4.640852e-10\n",
       "19221 3.878472e-16\n",
       "19225 3.635773e-07\n",
       "19246 9.115209e-10\n",
       "19265 1.954404e-14\n",
       "19285 1.755431e-06\n",
       "19287 9.449336e-10\n",
       "19292 2.561503e-06\n",
       "19322 8.641499e-10\n",
       "19344 3.402967e-18\n",
       "19357 1.134709e-28\n",
       "19384 1.788500e-07\n",
       "19389 2.007566e-08\n",
       "19508 1.863282e-10\n",
       "19541 4.363281e-10\n",
       "19548 2.082378e-10\n",
       "19549 1.176430e-06\n",
       "19553 8.318381e-09\n",
       "19554 1.061603e-07\n",
       "19624 4.410018e-14\n",
       "19633 1.500061e-08\n",
       "19637 1.684005e-04\n",
       "19645 9.643805e-12\n",
       "19704 4.323512e-07\n",
       "19705 8.040889e-12"
      ]
     },
     "metadata": {},
     "output_type": "display_data"
    },
    {
     "data": {
      "text/html": [
       "<style>\n",
       ".list-inline {list-style: none; margin:0; padding: 0}\n",
       ".list-inline>li {display: inline-block}\n",
       ".list-inline>li:not(:last-child)::after {content: \"\\00b7\"; padding: 0 .5ex}\n",
       "</style>\n",
       "<ol class=list-inline><li>1324</li><li>7</li></ol>\n"
      ],
      "text/latex": [
       "\\begin{enumerate*}\n",
       "\\item 1324\n",
       "\\item 7\n",
       "\\end{enumerate*}\n"
      ],
      "text/markdown": [
       "1. 1324\n",
       "2. 7\n",
       "\n",
       "\n"
      ],
      "text/plain": [
       "[1] 1324    7"
      ]
     },
     "metadata": {},
     "output_type": "display_data"
    }
   ],
   "source": [
    "negative_genes <- dplyr::filter(res_diff_expr, log2FoldChange < 0)\n",
    "negative_genes\n",
    "dim(negative_genes)\n",
    "neg_gene_name = negative_genes$gene\n",
    "writeLines(neg_gene_name, \"name_of_neg_genes.txt\")"
   ]
  },
  {
   "cell_type": "code",
   "execution_count": 29,
   "id": "16773ceb-6064-45c1-9e38-f59c0de8d418",
   "metadata": {
    "tags": []
   },
   "outputs": [
    {
     "data": {
      "text/html": [
       "'numeric'"
      ],
      "text/latex": [
       "'numeric'"
      ],
      "text/markdown": [
       "'numeric'"
      ],
      "text/plain": [
       "[1] \"numeric\""
      ]
     },
     "metadata": {},
     "output_type": "display_data"
    }
   ],
   "source": [
    "neg_GO_data = read_excel(\"GOanalysis_neg_data.xltx\")\n",
    "neg_GO_data = as.data.frame(neg_GO_data)\n",
    "neg_GO_data$`raw P-value`=as.numeric(neg_GO_data$`raw P-value`)\n",
    "class(neg_GO_data$`raw P-value`)\n",
    "ggplot2_data = data.frame(neg_GO_data$`GO biological process complete`[1:20], neg_GO_data$`fold Enrichment`[1:20],-log(neg_GO_data$`raw P-value`[1:20]))\n",
    "colnames(ggplot2_data) = c(\"biological_process\", \"fold_enrichment\", \"log_p_value\")"
   ]
  },
  {
   "cell_type": "code",
   "execution_count": 30,
   "id": "f35a1e76-aa88-4664-8300-a92dd0dc9791",
   "metadata": {
    "tags": []
   },
   "outputs": [
    {
     "name": "stderr",
     "output_type": "stream",
     "text": [
      "\u001b[1m\u001b[22mSaving 6.67 x 6.67 in image\n"
     ]
    },
    {
     "data": {
      "image/png": "[encoded data removed]",
      "text/plain": [
       "plot without title"
      ]
     },
     "metadata": {
      "image/png": {
       "height": 420,
       "width": 420
      }
     },
     "output_type": "display_data"
    }
   ],
   "source": [
    "ggplot(ggplot2_data) + \n",
    "  geom_bar(stat = \"identity\", \n",
    "           aes(y=fold_enrichment,x=biological_process, fill=log_p_value)) +\n",
    "  labs(fill=\"log_p_value\") +\n",
    "  theme(legend.position =c(\"bottom\"),\n",
    "        legend.box=\"horizontal\", \n",
    "        legend.text = element_text(size = 9),\n",
    "        legend.key.height = unit(0.75, \"cm\"),\n",
    "        legend.key.width = unit(0.75, \"cm\"),\n",
    "        axis.text=element_text(size=7)) +\n",
    "  scale_x_discrete() +\n",
    "  labs(title=\"Gene ontology negdata\", \n",
    "       y=\"fold enrichment\", \n",
    "       x=\"Biological process\") + \n",
    "  coord_flip()\n",
    "ggsave(filename=\"H1975_GOnegdata.pdf\")"
   ]
  },
  {
   "cell_type": "code",
   "execution_count": 31,
   "id": "1b386b35-432e-460b-9321-42ef7342f616",
   "metadata": {
    "tags": []
   },
   "outputs": [],
   "source": [
    "file_path = \"/bin/Exam_Calogero_MG/GSM5777977_X2a_3519AZ_H1975_9291-NF_peaks.narrowPeak\"\n",
    "peaks = read.delim(file_path, header = FALSE, stringsAsFactors = FALSE)\n",
    "pos_gene_name = positive_genes$gene\n",
    "pos_gene_name = as.data.frame(pos_gene_name)\n",
    "colnames(pos_gene_name)[colnames(pos_gene_name) == \"pos_gene_name\"] = \"SYMBOL\""
   ]
  },
  {
   "cell_type": "code",
   "execution_count": 33,
   "id": "3a386db0-890b-4b67-8431-1ceb51156fec",
   "metadata": {
    "tags": []
   },
   "outputs": [],
   "source": [
    "library(biomaRt)"
   ]
  },
  {
   "cell_type": "code",
   "execution_count": 37,
   "id": "0d11ff13-2677-4c17-b652-3130fbfda22d",
   "metadata": {
    "tags": []
   },
   "outputs": [
    {
     "name": "stderr",
     "output_type": "stream",
     "text": [
      "Ensembl site unresponsive, trying useast mirror\n",
      "\n"
     ]
    }
   ],
   "source": [
    "ensembl <- useMart(\"ensembl\", dataset = \"hsapiens_gene_ensembl\")\n",
    "pos_gene_info <- getBM(attributes = c(\"external_gene_name\", \"chromosome_name\", \"start_position\", \"end_position\"),\n",
    "                   filters = \"external_gene_name\",\n",
    "                   values = pos_gene_name$SYMBOL,\n",
    "                   mart = ensembl)\n",
    "pos_genes_location<- merge(pos_gene_name, pos_gene_info, by.x = \"SYMBOL\", by.y = \"external_gene_name\")"
   ]
  },
  {
   "cell_type": "code",
   "execution_count": 38,
   "id": "7a1eef5d-a09d-4f64-8c36-d53240554710",
   "metadata": {
    "tags": []
   },
   "outputs": [],
   "source": [
    "write.table(pos_genes_location, file = \"pos_genes_location.txt\", sep = \"\\t\", row.names=FALSE)\n",
    "pos_genes_location = read.table(\"pos_genes_location.txt\", sep=\"\\t\", header = TRUE)"
   ]
  },
  {
   "cell_type": "code",
   "execution_count": 39,
   "id": "7ea54183-a40e-49be-906b-65ced8cd67bd",
   "metadata": {
    "tags": []
   },
   "outputs": [],
   "source": [
    "neg_gene_name = negative_genes$gene\n",
    "neg_gene_name = as.data.frame(neg_gene_name)\n",
    "colnames(neg_gene_name)[colnames(neg_gene_name) == \"neg_gene_name\"] = \"SYMBOL\""
   ]
  },
  {
   "cell_type": "code",
   "execution_count": 40,
   "id": "0ddf5033-a299-4bb6-8729-f14cc0b8c4b1",
   "metadata": {
    "tags": []
   },
   "outputs": [
    {
     "name": "stderr",
     "output_type": "stream",
     "text": [
      "Ensembl site unresponsive, trying useast mirror\n",
      "\n"
     ]
    }
   ],
   "source": [
    "ensembl <- useMart(\"ensembl\", dataset = \"hsapiens_gene_ensembl\")\n",
    "neg_gene_info <- getBM(attributes = c(\"external_gene_name\", \"chromosome_name\", \"start_position\", \"end_position\"),\n",
    "                       filters = \"external_gene_name\",\n",
    "                       values = neg_gene_name$SYMBOL,\n",
    "                       mart = ensembl)\n",
    "neg_genes_location<- merge(neg_gene_name, neg_gene_info, by.x = \"SYMBOL\", by.y = \"external_gene_name\")\n"
   ]
  },
  {
   "cell_type": "code",
   "execution_count": 41,
   "id": "aab20e7a-d6ae-49f0-be5c-6bd0819ee5a9",
   "metadata": {
    "tags": []
   },
   "outputs": [],
   "source": [
    "write.table(neg_genes_location, file = \"neg_genes_location.txt\", sep = \"\\t\", row.names=FALSE)\n",
    "neg_genes_location = read.table(\"neg_genes_location.txt\", sep=\"\\t\", header = TRUE)\n"
   ]
  },
  {
   "cell_type": "code",
   "execution_count": 42,
   "id": "00e4fa5d-1932-4900-b487-5c4a078906e3",
   "metadata": {
    "tags": []
   },
   "outputs": [],
   "source": [
    "osi1_peaks = subset(peaks, select = c(\"V1\", \"V2\", \"V3\", \"V4\"))\n",
    "colnames(osi1_peaks)[colnames(osi1_peaks) == \"V1\"] = \"Chr\"\n",
    "colnames(osi1_peaks)[colnames(osi1_peaks) == \"V2\"] = \"startPeak\"\n",
    "colnames(osi1_peaks)[colnames(osi1_peaks) == \"V3\"] = \"endPeak\"\n",
    "colnames(osi1_peaks)[colnames(osi1_peaks) == \"V4\"] = \"namePeak\""
   ]
  },
  {
   "cell_type": "code",
   "execution_count": 43,
   "id": "cf77007b-5f13-4cea-81da-e9f47f480e8c",
   "metadata": {
    "tags": []
   },
   "outputs": [],
   "source": [
    "library(GenomicRanges)"
   ]
  },
  {
   "cell_type": "code",
   "execution_count": 44,
   "id": "d55babd6-3d0b-4816-af5c-0fa73ba52192",
   "metadata": {
    "tags": []
   },
   "outputs": [],
   "source": [
    "gene_regions_pos <- GRanges(\n",
    "  seqnames = rep(\"ArtificialChromosome\", length(pos_genes_location$start_position)),\n",
    "  ranges = IRanges(pos_genes_location$start_position, pos_genes_location$end_position)\n",
    ")\n",
    "open_chromatin_regions_1 <- GRanges(\n",
    "  seqnames = rep(\"ArtificialChromosome\", length(osi1_peaks$startPeak)),\n",
    "  ranges = IRanges(osi1_peaks$startPeak, osi1_peaks$endPeak)\n",
    ")"
   ]
  },
  {
   "cell_type": "code",
   "execution_count": 45,
   "id": "da1a8ae7-c22e-4a6a-8be4-0df73f2106fc",
   "metadata": {
    "tags": []
   },
   "outputs": [
    {
     "data": {
      "text/html": [
       "<table class=\"dataframe\">\n",
       "<caption>A data.frame: 6 × 1</caption>\n",
       "<thead>\n",
       "\t<tr><th></th><th scope=col>pos_overlapping_name_1</th></tr>\n",
       "\t<tr><th></th><th scope=col>&lt;chr&gt;</th></tr>\n",
       "</thead>\n",
       "<tbody>\n",
       "\t<tr><th scope=row>1</th><td>SAMD12</td></tr>\n",
       "\t<tr><th scope=row>2</th><td>SAMD4A</td></tr>\n",
       "\t<tr><th scope=row>3</th><td>SARDH </td></tr>\n",
       "\t<tr><th scope=row>4</th><td>SARM1 </td></tr>\n",
       "\t<tr><th scope=row>5</th><td>SAT2  </td></tr>\n",
       "\t<tr><th scope=row>6</th><td>SATB1 </td></tr>\n",
       "</tbody>\n",
       "</table>\n"
      ],
      "text/latex": [
       "A data.frame: 6 × 1\n",
       "\\begin{tabular}{r|l}\n",
       "  & pos\\_overlapping\\_name\\_1\\\\\n",
       "  & <chr>\\\\\n",
       "\\hline\n",
       "\t1 & SAMD12\\\\\n",
       "\t2 & SAMD4A\\\\\n",
       "\t3 & SARDH \\\\\n",
       "\t4 & SARM1 \\\\\n",
       "\t5 & SAT2  \\\\\n",
       "\t6 & SATB1 \\\\\n",
       "\\end{tabular}\n"
      ],
      "text/markdown": [
       "\n",
       "A data.frame: 6 × 1\n",
       "\n",
       "| <!--/--> | pos_overlapping_name_1 &lt;chr&gt; |\n",
       "|---|---|\n",
       "| 1 | SAMD12 |\n",
       "| 2 | SAMD4A |\n",
       "| 3 | SARDH  |\n",
       "| 4 | SARM1  |\n",
       "| 5 | SAT2   |\n",
       "| 6 | SATB1  |\n",
       "\n"
      ],
      "text/plain": [
       "  pos_overlapping_name_1\n",
       "1 SAMD12                \n",
       "2 SAMD4A                \n",
       "3 SARDH                 \n",
       "4 SARM1                 \n",
       "5 SAT2                  \n",
       "6 SATB1                 "
      ]
     },
     "metadata": {},
     "output_type": "display_data"
    }
   ],
   "source": [
    "#Overlap analysis\n",
    "overlap_pos_1 <- findOverlaps(gene_regions_pos, open_chromatin_regions_1)\n",
    "pos_overlapping_indices_1 <- subjectHits(overlap_pos_1)\n",
    "pos_overlapping_name_1 = pos_genes_location$SYMBOL[pos_overlapping_indices_1]\n",
    "pos_overlapping_name_1 = as.data.frame(pos_overlapping_name_1)\n",
    "pos_overlapping_name_1 <- subset(pos_overlapping_name_1, pos_overlapping_name_1 != \"NA\")\n",
    "head(pos_overlapping_name_1)\n"
   ]
  },
  {
   "cell_type": "code",
   "execution_count": 46,
   "id": "336612d0-fbc3-46b8-b433-9c5cc99908f5",
   "metadata": {
    "tags": []
   },
   "outputs": [],
   "source": [
    "gene_regions_neg <- GRanges(\n",
    "  seqnames = rep(\"ArtificialChromosome\", length(neg_genes_location$start_position)),\n",
    "  ranges = IRanges(neg_genes_location$start_position, neg_genes_location$end_position)\n",
    ")\n",
    "\n",
    "\n",
    "open_chromatin_regions_1 <- GRanges(\n",
    "  seqnames = rep(\"ArtificialChromosome\", length(osi1_peaks$startPeak)),\n",
    "  ranges = IRanges(osi1_peaks$startPeak, osi1_peaks$endPeak)\n",
    ")"
   ]
  },
  {
   "cell_type": "code",
   "execution_count": 47,
   "id": "3ee4172e-1c4b-43d2-afa4-490333175614",
   "metadata": {
    "tags": []
   },
   "outputs": [
    {
     "data": {
      "text/html": [
       "<table class=\"dataframe\">\n",
       "<caption>A data.frame: 6 × 1</caption>\n",
       "<thead>\n",
       "\t<tr><th></th><th scope=col>neg_overlapping_name_1</th></tr>\n",
       "\t<tr><th></th><th scope=col>&lt;chr&gt;</th></tr>\n",
       "</thead>\n",
       "<tbody>\n",
       "\t<tr><th scope=row>4336</th><td>RNASEH2A</td></tr>\n",
       "\t<tr><th scope=row>4337</th><td>RNASEH2B</td></tr>\n",
       "\t<tr><th scope=row>4514</th><td>SEMA7A  </td></tr>\n",
       "\t<tr><th scope=row>5777</th><td>CT45A1  </td></tr>\n",
       "\t<tr><th scope=row>5778</th><td>CT45A2  </td></tr>\n",
       "\t<tr><th scope=row>5779</th><td>CT45A5  </td></tr>\n",
       "</tbody>\n",
       "</table>\n"
      ],
      "text/latex": [
       "A data.frame: 6 × 1\n",
       "\\begin{tabular}{r|l}\n",
       "  & neg\\_overlapping\\_name\\_1\\\\\n",
       "  & <chr>\\\\\n",
       "\\hline\n",
       "\t4336 & RNASEH2A\\\\\n",
       "\t4337 & RNASEH2B\\\\\n",
       "\t4514 & SEMA7A  \\\\\n",
       "\t5777 & CT45A1  \\\\\n",
       "\t5778 & CT45A2  \\\\\n",
       "\t5779 & CT45A5  \\\\\n",
       "\\end{tabular}\n"
      ],
      "text/markdown": [
       "\n",
       "A data.frame: 6 × 1\n",
       "\n",
       "| <!--/--> | neg_overlapping_name_1 &lt;chr&gt; |\n",
       "|---|---|\n",
       "| 4336 | RNASEH2A |\n",
       "| 4337 | RNASEH2B |\n",
       "| 4514 | SEMA7A   |\n",
       "| 5777 | CT45A1   |\n",
       "| 5778 | CT45A2   |\n",
       "| 5779 | CT45A5   |\n",
       "\n"
      ],
      "text/plain": [
       "     neg_overlapping_name_1\n",
       "4336 RNASEH2A              \n",
       "4337 RNASEH2B              \n",
       "4514 SEMA7A                \n",
       "5777 CT45A1                \n",
       "5778 CT45A2                \n",
       "5779 CT45A5                "
      ]
     },
     "metadata": {},
     "output_type": "display_data"
    }
   ],
   "source": [
    "#Overlap analysis\n",
    "overlap_neg_1 <- findOverlaps(gene_regions_neg, open_chromatin_regions_1)\n",
    "neg_overlapping_indices_1 <- subjectHits(overlap_neg_1)\n",
    "\n",
    "neg_overlapping_name_1 = neg_genes_location$SYMBOL[neg_overlapping_indices_1]\n",
    "neg_overlapping_name_1 = as.data.frame(neg_overlapping_name_1)\n",
    "neg_overlapping_name_1 <- subset(neg_overlapping_name_1, neg_overlapping_name_1 != \"NA\")\n",
    "\n",
    "head(neg_overlapping_name_1)"
   ]
  },
  {
   "cell_type": "code",
   "execution_count": 49,
   "id": "0862b226-f2cd-4cd1-b911-0c054d78f8f3",
   "metadata": {
    "tags": []
   },
   "outputs": [
    {
     "data": {
      "text/html": [
       "<strong>png:</strong> 2"
      ],
      "text/latex": [
       "\\textbf{png:} 2"
      ],
      "text/markdown": [
       "**png:** 2"
      ],
      "text/plain": [
       "png \n",
       "  2 "
      ]
     },
     "metadata": {},
     "output_type": "display_data"
    }
   ],
   "source": [
    "#Plot genes that overlap  \n",
    "overlap_positive_1 <- 1576\n",
    "overlap_negative_1 = 807\n",
    "\n",
    "total_genes_DE = 2778\n",
    "\n",
    "prop_overlap_pos_1 <- overlap_positive_1 / total_genes_DE\n",
    "prop_overlap_neg_1 <- overlap_negative_1 / total_genes_DE\n",
    "\n",
    "proportions_1 <- data.frame(\n",
    "  Category = c(\"Overlapping_POS\", \"Overlapping_NEG\"),\n",
    "  Proportion = c(prop_overlap_pos_1, prop_overlap_neg_1)\n",
    ")\n",
    "\n",
    "# Create the bar plot\n",
    "png(\"barplot_overlap_sample_1.png\", width = 5000, height = 3000, res = 400)\n",
    "barplot(proportions_1$Proportion, names.arg = proportions_1$Category, \n",
    "        xlab = \"Category\", ylab = \"Proportion\", main = \"Gene Overlap sample 1\",\n",
    "        col = c(\"yellow1\",\"coral\"), ylim = c(0, max(proportions_1$Proportion) * 1.2))\n",
    "dev.off()"
   ]
  },
  {
   "cell_type": "code",
   "execution_count": 53,
   "id": "5859e326-d472-4098-846e-25f1ee13b510",
   "metadata": {
    "tags": []
   },
   "outputs": [],
   "source": [
    "#Sample 2\n",
    "file_path = \"/bin/Exam_Calogero_MG/GSM5777978_X2b_3519AZ_H1975_9291-NF_peaks.narrowPeak\"\n",
    "peaks_2 = read.delim(file_path, header = FALSE, stringsAsFactors = FALSE)\n",
    "osi2_peaks = subset(peaks_2, select = c(\"V1\", \"V2\", \"V3\", \"V4\"))\n",
    "colnames(osi2_peaks)[colnames(osi2_peaks) == \"V1\"] = \"Chr\"\n",
    "colnames(osi2_peaks)[colnames(osi2_peaks) == \"V2\"] = \"startPeak\"\n",
    "colnames(osi2_peaks)[colnames(osi2_peaks) == \"V3\"] = \"endPeak\"\n",
    "colnames(osi2_peaks)[colnames(osi2_peaks) == \"V4\"] = \"namePeak\""
   ]
  },
  {
   "cell_type": "code",
   "execution_count": 54,
   "id": "d6a09fbe-645f-4b35-9029-e0965a600542",
   "metadata": {
    "tags": []
   },
   "outputs": [
    {
     "data": {
      "text/html": [
       "<table class=\"dataframe\">\n",
       "<caption>A data.frame: 6 × 1</caption>\n",
       "<thead>\n",
       "\t<tr><th></th><th scope=col>pos_overlapping_name_2</th></tr>\n",
       "\t<tr><th></th><th scope=col>&lt;chr&gt;</th></tr>\n",
       "</thead>\n",
       "<tbody>\n",
       "\t<tr><th scope=row>1</th><td>RAB37 </td></tr>\n",
       "\t<tr><th scope=row>2</th><td>RAB3IP</td></tr>\n",
       "\t<tr><th scope=row>3</th><td>RAB40A</td></tr>\n",
       "\t<tr><th scope=row>4</th><td>RAB9B </td></tr>\n",
       "\t<tr><th scope=row>5</th><td>RADX  </td></tr>\n",
       "\t<tr><th scope=row>6</th><td>RAG1  </td></tr>\n",
       "</tbody>\n",
       "</table>\n"
      ],
      "text/latex": [
       "A data.frame: 6 × 1\n",
       "\\begin{tabular}{r|l}\n",
       "  & pos\\_overlapping\\_name\\_2\\\\\n",
       "  & <chr>\\\\\n",
       "\\hline\n",
       "\t1 & RAB37 \\\\\n",
       "\t2 & RAB3IP\\\\\n",
       "\t3 & RAB40A\\\\\n",
       "\t4 & RAB9B \\\\\n",
       "\t5 & RADX  \\\\\n",
       "\t6 & RAG1  \\\\\n",
       "\\end{tabular}\n"
      ],
      "text/markdown": [
       "\n",
       "A data.frame: 6 × 1\n",
       "\n",
       "| <!--/--> | pos_overlapping_name_2 &lt;chr&gt; |\n",
       "|---|---|\n",
       "| 1 | RAB37  |\n",
       "| 2 | RAB3IP |\n",
       "| 3 | RAB40A |\n",
       "| 4 | RAB9B  |\n",
       "| 5 | RADX   |\n",
       "| 6 | RAG1   |\n",
       "\n"
      ],
      "text/plain": [
       "  pos_overlapping_name_2\n",
       "1 RAB37                 \n",
       "2 RAB3IP                \n",
       "3 RAB40A                \n",
       "4 RAB9B                 \n",
       "5 RADX                  \n",
       "6 RAG1                  "
      ]
     },
     "metadata": {},
     "output_type": "display_data"
    }
   ],
   "source": [
    "gene_regions_pos <- GRanges(\n",
    "  seqnames = rep(\"ArtificialChromosome\", length(pos_genes_location$start_position)),\n",
    "  ranges = IRanges(pos_genes_location$start_position, pos_genes_location$end_position)\n",
    ")\n",
    "\n",
    "# Create GRanges object for open chromatin peak regions with a single artificial chromosome label\n",
    "open_chromatin_regions_2 <- GRanges(\n",
    "  seqnames = rep(\"ArtificialChromosome\", length(osi2_peaks$startPeak)),\n",
    "  ranges = IRanges(osi2_peaks$startPeak, osi2_peaks$endPeak)\n",
    ")\n",
    "\n",
    "#Overlap analysis\n",
    "overlap_pos_2 <- findOverlaps(gene_regions_pos, open_chromatin_regions_2)\n",
    "pos_overlapping_indices_2 <- subjectHits(overlap_pos_2)\n",
    "pos_overlapping_name_2 = pos_genes_location$SYMBOL[pos_overlapping_indices_2]\n",
    "pos_overlapping_name_2 = as.data.frame(pos_overlapping_name_2)\n",
    "pos_overlapping_name_2 <- subset(pos_overlapping_name_2, pos_overlapping_name_2 != \"NA\")\n",
    "head(pos_overlapping_name_2)"
   ]
  },
  {
   "cell_type": "code",
   "execution_count": 55,
   "id": "db9c8bfb-1143-4210-ac98-a1962feb3ccd",
   "metadata": {
    "tags": []
   },
   "outputs": [
    {
     "data": {
      "text/html": [
       "<table class=\"dataframe\">\n",
       "<caption>A data.frame: 6 × 1</caption>\n",
       "<thead>\n",
       "\t<tr><th></th><th scope=col>neg_overlapping_name_2</th></tr>\n",
       "\t<tr><th></th><th scope=col>&lt;chr&gt;</th></tr>\n",
       "</thead>\n",
       "<tbody>\n",
       "\t<tr><th scope=row>3012</th><td>KIAA1755</td></tr>\n",
       "\t<tr><th scope=row>4268</th><td>PRR11   </td></tr>\n",
       "\t<tr><th scope=row>4269</th><td>PRR13   </td></tr>\n",
       "\t<tr><th scope=row>4270</th><td>PRR15   </td></tr>\n",
       "\t<tr><th scope=row>4463</th><td>RALB    </td></tr>\n",
       "\t<tr><th scope=row>4464</th><td>RANBP1  </td></tr>\n",
       "</tbody>\n",
       "</table>\n"
      ],
      "text/latex": [
       "A data.frame: 6 × 1\n",
       "\\begin{tabular}{r|l}\n",
       "  & neg\\_overlapping\\_name\\_2\\\\\n",
       "  & <chr>\\\\\n",
       "\\hline\n",
       "\t3012 & KIAA1755\\\\\n",
       "\t4268 & PRR11   \\\\\n",
       "\t4269 & PRR13   \\\\\n",
       "\t4270 & PRR15   \\\\\n",
       "\t4463 & RALB    \\\\\n",
       "\t4464 & RANBP1  \\\\\n",
       "\\end{tabular}\n"
      ],
      "text/markdown": [
       "\n",
       "A data.frame: 6 × 1\n",
       "\n",
       "| <!--/--> | neg_overlapping_name_2 &lt;chr&gt; |\n",
       "|---|---|\n",
       "| 3012 | KIAA1755 |\n",
       "| 4268 | PRR11    |\n",
       "| 4269 | PRR13    |\n",
       "| 4270 | PRR15    |\n",
       "| 4463 | RALB     |\n",
       "| 4464 | RANBP1   |\n",
       "\n"
      ],
      "text/plain": [
       "     neg_overlapping_name_2\n",
       "3012 KIAA1755              \n",
       "4268 PRR11                 \n",
       "4269 PRR13                 \n",
       "4270 PRR15                 \n",
       "4463 RALB                  \n",
       "4464 RANBP1                "
      ]
     },
     "metadata": {},
     "output_type": "display_data"
    }
   ],
   "source": [
    "gene_regions_neg <- GRanges(\n",
    "  seqnames = rep(\"ArtificialChromosome\", length(neg_genes_location$start_position)),\n",
    "  ranges = IRanges(neg_genes_location$start_position, neg_genes_location$end_position)\n",
    ")\n",
    "\n",
    "open_chromatin_regions_2 <- GRanges(\n",
    "  seqnames = rep(\"ArtificialChromosome\", length(osi2_peaks$startPeak)),\n",
    "  ranges = IRanges(osi2_peaks$startPeak, osi2_peaks$endPeak)\n",
    ")\n",
    "\n",
    "#Overlap analysis\n",
    "overlap_neg_2 <- findOverlaps(gene_regions_neg, open_chromatin_regions_2)\n",
    "neg_overlapping_indices_2 <- subjectHits(overlap_neg_2)\n",
    "\n",
    "neg_overlapping_name_2 = neg_genes_location$SYMBOL[neg_overlapping_indices_2]\n",
    "neg_overlapping_name_2 = as.data.frame(neg_overlapping_name_2)\n",
    "neg_overlapping_name_2 <- subset(neg_overlapping_name_2, neg_overlapping_name_2 != \"NA\")\n",
    "head(neg_overlapping_name_2)"
   ]
  },
  {
   "cell_type": "code",
   "execution_count": 56,
   "id": "6cf95c51-c4ca-4896-9d34-4e3b08daf083",
   "metadata": {
    "tags": []
   },
   "outputs": [
    {
     "data": {
      "text/html": [
       "<strong>png:</strong> 2"
      ],
      "text/latex": [
       "\\textbf{png:} 2"
      ],
      "text/markdown": [
       "**png:** 2"
      ],
      "text/plain": [
       "png \n",
       "  2 "
      ]
     },
     "metadata": {},
     "output_type": "display_data"
    }
   ],
   "source": [
    "#Plot genes that overlap  \n",
    "overlap_positive_2 <- 1519\n",
    "overlap_negative_2 = 786\n",
    "\n",
    "total_genes_DE = 2778\n",
    "\n",
    "prop_overlap_pos_2 <- overlap_positive_2 / total_genes_DE\n",
    "prop_overlap_neg_2 <- overlap_negative_2 / total_genes_DE\n",
    "\n",
    "proportions_2 <- data.frame(\n",
    "  Category = c(\"Overlapping_POS\", \"Overlapping_NEG\"),\n",
    "  Proportion = c(prop_overlap_pos_2, prop_overlap_neg_2)\n",
    ")\n",
    "\n",
    "# Create the bar plot\n",
    "png(\"barplot_overlap_sample_2.png\", width = 5000, height = 3000, res = 400)\n",
    "barplot(proportions_2$Proportion, names.arg = proportions_2$Category, \n",
    "        xlab = \"Category\", ylab = \"Proportion\", main = \"Gene Overlap sample 2\",\n",
    "        col = c(\"yellowgreen\", \"aquamarine3\"), ylim = c(0, max(proportions_2$Proportion) * 1.2))\n",
    "dev.off()"
   ]
  },
  {
   "cell_type": "code",
   "execution_count": 58,
   "id": "9b6b936e-2777-465d-9e8a-19c3de5b18d2",
   "metadata": {
    "tags": []
   },
   "outputs": [
    {
     "data": {
      "text/html": [
       "<table class=\"dataframe\">\n",
       "<caption>A data.frame: 6 × 4</caption>\n",
       "<thead>\n",
       "\t<tr><th></th><th scope=col>Chr</th><th scope=col>startPeak</th><th scope=col>endPeak</th><th scope=col>namePeak</th></tr>\n",
       "\t<tr><th></th><th scope=col>&lt;chr&gt;</th><th scope=col>&lt;int&gt;</th><th scope=col>&lt;int&gt;</th><th scope=col>&lt;chr&gt;</th></tr>\n",
       "</thead>\n",
       "<tbody>\n",
       "\t<tr><th scope=row>1</th><td>chr1</td><td> 29315</td><td> 29397</td><td>X2c_3519AZ_H1975_9291-NF_peak_1</td></tr>\n",
       "\t<tr><th scope=row>2</th><td>chr1</td><td>184449</td><td>184519</td><td>X2c_3519AZ_H1975_9291-NF_peak_2</td></tr>\n",
       "\t<tr><th scope=row>3</th><td>chr1</td><td>267956</td><td>268043</td><td>X2c_3519AZ_H1975_9291-NF_peak_3</td></tr>\n",
       "\t<tr><th scope=row>4</th><td>chr1</td><td>586149</td><td>586231</td><td>X2c_3519AZ_H1975_9291-NF_peak_4</td></tr>\n",
       "\t<tr><th scope=row>5</th><td>chr1</td><td>599132</td><td>599198</td><td>X2c_3519AZ_H1975_9291-NF_peak_5</td></tr>\n",
       "\t<tr><th scope=row>6</th><td>chr1</td><td>629857</td><td>630011</td><td>X2c_3519AZ_H1975_9291-NF_peak_6</td></tr>\n",
       "</tbody>\n",
       "</table>\n"
      ],
      "text/latex": [
       "A data.frame: 6 × 4\n",
       "\\begin{tabular}{r|llll}\n",
       "  & Chr & startPeak & endPeak & namePeak\\\\\n",
       "  & <chr> & <int> & <int> & <chr>\\\\\n",
       "\\hline\n",
       "\t1 & chr1 &  29315 &  29397 & X2c\\_3519AZ\\_H1975\\_9291-NF\\_peak\\_1\\\\\n",
       "\t2 & chr1 & 184449 & 184519 & X2c\\_3519AZ\\_H1975\\_9291-NF\\_peak\\_2\\\\\n",
       "\t3 & chr1 & 267956 & 268043 & X2c\\_3519AZ\\_H1975\\_9291-NF\\_peak\\_3\\\\\n",
       "\t4 & chr1 & 586149 & 586231 & X2c\\_3519AZ\\_H1975\\_9291-NF\\_peak\\_4\\\\\n",
       "\t5 & chr1 & 599132 & 599198 & X2c\\_3519AZ\\_H1975\\_9291-NF\\_peak\\_5\\\\\n",
       "\t6 & chr1 & 629857 & 630011 & X2c\\_3519AZ\\_H1975\\_9291-NF\\_peak\\_6\\\\\n",
       "\\end{tabular}\n"
      ],
      "text/markdown": [
       "\n",
       "A data.frame: 6 × 4\n",
       "\n",
       "| <!--/--> | Chr &lt;chr&gt; | startPeak &lt;int&gt; | endPeak &lt;int&gt; | namePeak &lt;chr&gt; |\n",
       "|---|---|---|---|---|\n",
       "| 1 | chr1 |  29315 |  29397 | X2c_3519AZ_H1975_9291-NF_peak_1 |\n",
       "| 2 | chr1 | 184449 | 184519 | X2c_3519AZ_H1975_9291-NF_peak_2 |\n",
       "| 3 | chr1 | 267956 | 268043 | X2c_3519AZ_H1975_9291-NF_peak_3 |\n",
       "| 4 | chr1 | 586149 | 586231 | X2c_3519AZ_H1975_9291-NF_peak_4 |\n",
       "| 5 | chr1 | 599132 | 599198 | X2c_3519AZ_H1975_9291-NF_peak_5 |\n",
       "| 6 | chr1 | 629857 | 630011 | X2c_3519AZ_H1975_9291-NF_peak_6 |\n",
       "\n"
      ],
      "text/plain": [
       "  Chr  startPeak endPeak namePeak                       \n",
       "1 chr1  29315     29397  X2c_3519AZ_H1975_9291-NF_peak_1\n",
       "2 chr1 184449    184519  X2c_3519AZ_H1975_9291-NF_peak_2\n",
       "3 chr1 267956    268043  X2c_3519AZ_H1975_9291-NF_peak_3\n",
       "4 chr1 586149    586231  X2c_3519AZ_H1975_9291-NF_peak_4\n",
       "5 chr1 599132    599198  X2c_3519AZ_H1975_9291-NF_peak_5\n",
       "6 chr1 629857    630011  X2c_3519AZ_H1975_9291-NF_peak_6"
      ]
     },
     "metadata": {},
     "output_type": "display_data"
    },
    {
     "data": {
      "text/html": [
       "<style>\n",
       ".list-inline {list-style: none; margin:0; padding: 0}\n",
       ".list-inline>li {display: inline-block}\n",
       ".list-inline>li:not(:last-child)::after {content: \"\\00b7\"; padding: 0 .5ex}\n",
       "</style>\n",
       "<ol class=list-inline><li>222948</li><li>4</li></ol>\n"
      ],
      "text/latex": [
       "\\begin{enumerate*}\n",
       "\\item 222948\n",
       "\\item 4\n",
       "\\end{enumerate*}\n"
      ],
      "text/markdown": [
       "1. 222948\n",
       "2. 4\n",
       "\n",
       "\n"
      ],
      "text/plain": [
       "[1] 222948      4"
      ]
     },
     "metadata": {},
     "output_type": "display_data"
    }
   ],
   "source": [
    "#SAMPLE 3\n",
    "file_path = \"/bin/Exam_Calogero_MG/GSM5777979_X2c_3519AZ_H1975_9291-NF_peaks.narrowPeak\"\n",
    "peaks_3 = read.delim(file_path, header = FALSE, stringsAsFactors = FALSE)\n",
    "\n",
    "#POSITIVE GENES\n",
    "osi3_peaks = subset(peaks_3, select = c(\"V1\", \"V2\", \"V3\", \"V4\"))\n",
    "colnames(osi3_peaks)[colnames(osi3_peaks) == \"V1\"] = \"Chr\"\n",
    "colnames(osi3_peaks)[colnames(osi3_peaks) == \"V2\"] = \"startPeak\"\n",
    "colnames(osi3_peaks)[colnames(osi3_peaks) == \"V3\"] = \"endPeak\"\n",
    "colnames(osi3_peaks)[colnames(osi3_peaks) == \"V4\"] = \"namePeak\"\n",
    "head(osi3_peaks)\n",
    "dim(osi3_peaks)"
   ]
  },
  {
   "cell_type": "code",
   "execution_count": 59,
   "id": "4d6174ad-6200-4258-a064-e60baa2bc004",
   "metadata": {
    "tags": []
   },
   "outputs": [
    {
     "data": {
      "text/html": [
       "<table class=\"dataframe\">\n",
       "<caption>A data.frame: 6 × 1</caption>\n",
       "<thead>\n",
       "\t<tr><th></th><th scope=col>pos_overlapping_name_3</th></tr>\n",
       "\t<tr><th></th><th scope=col>&lt;chr&gt;</th></tr>\n",
       "</thead>\n",
       "<tbody>\n",
       "\t<tr><th scope=row>1</th><td>RTL5   </td></tr>\n",
       "\t<tr><th scope=row>2</th><td>RTN4RL2</td></tr>\n",
       "\t<tr><th scope=row>3</th><td>RTP3   </td></tr>\n",
       "\t<tr><th scope=row>4</th><td>RWDD2A </td></tr>\n",
       "\t<tr><th scope=row>5</th><td>S100A2 </td></tr>\n",
       "\t<tr><th scope=row>6</th><td>S100A4 </td></tr>\n",
       "</tbody>\n",
       "</table>\n"
      ],
      "text/latex": [
       "A data.frame: 6 × 1\n",
       "\\begin{tabular}{r|l}\n",
       "  & pos\\_overlapping\\_name\\_3\\\\\n",
       "  & <chr>\\\\\n",
       "\\hline\n",
       "\t1 & RTL5   \\\\\n",
       "\t2 & RTN4RL2\\\\\n",
       "\t3 & RTP3   \\\\\n",
       "\t4 & RWDD2A \\\\\n",
       "\t5 & S100A2 \\\\\n",
       "\t6 & S100A4 \\\\\n",
       "\\end{tabular}\n"
      ],
      "text/markdown": [
       "\n",
       "A data.frame: 6 × 1\n",
       "\n",
       "| <!--/--> | pos_overlapping_name_3 &lt;chr&gt; |\n",
       "|---|---|\n",
       "| 1 | RTL5    |\n",
       "| 2 | RTN4RL2 |\n",
       "| 3 | RTP3    |\n",
       "| 4 | RWDD2A  |\n",
       "| 5 | S100A2  |\n",
       "| 6 | S100A4  |\n",
       "\n"
      ],
      "text/plain": [
       "  pos_overlapping_name_3\n",
       "1 RTL5                  \n",
       "2 RTN4RL2               \n",
       "3 RTP3                  \n",
       "4 RWDD2A                \n",
       "5 S100A2                \n",
       "6 S100A4                "
      ]
     },
     "metadata": {},
     "output_type": "display_data"
    }
   ],
   "source": [
    "library(GenomicRanges)\n",
    "gene_regions_pos <- GRanges(\n",
    "  seqnames = rep(\"ArtificialChromosome\", length(pos_genes_location$start_position)),\n",
    "  ranges = IRanges(pos_genes_location$start_position, pos_genes_location$end_position)\n",
    ")\n",
    "\n",
    "open_chromatin_regions_3 <- GRanges(\n",
    "  seqnames = rep(\"ArtificialChromosome\", length(osi3_peaks$startPeak)),\n",
    "  ranges = IRanges(osi3_peaks$startPeak, osi3_peaks$endPeak)\n",
    ")\n",
    "\n",
    "#Overlap analysis\n",
    "overlap_pos_3 <- findOverlaps(gene_regions_pos, open_chromatin_regions_3)\n",
    "\n",
    "pos_overlapping_indices_3 <- subjectHits(overlap_pos_3)\n",
    "pos_overlapping_name_3 = pos_genes_location$SYMBOL[pos_overlapping_indices_3]\n",
    "pos_overlapping_name_3 = as.data.frame(pos_overlapping_name_3)\n",
    "pos_overlapping_name_3 <- subset(pos_overlapping_name_3, pos_overlapping_name_3!= \"NA\")\n",
    "head(pos_overlapping_name_3)"
   ]
  },
  {
   "cell_type": "code",
   "execution_count": 60,
   "id": "bd1fd359-960d-4953-a648-d4212cf33adc",
   "metadata": {
    "tags": []
   },
   "outputs": [
    {
     "data": {
      "text/html": [
       "<table class=\"dataframe\">\n",
       "<caption>A data.frame: 6 × 1</caption>\n",
       "<thead>\n",
       "\t<tr><th></th><th scope=col>neg_overlapping_name_3</th></tr>\n",
       "\t<tr><th></th><th scope=col>&lt;chr&gt;</th></tr>\n",
       "</thead>\n",
       "<tbody>\n",
       "\t<tr><th scope=row>3131</th><td>KPNA7  </td></tr>\n",
       "\t<tr><th scope=row>3132</th><td>KREMEN2</td></tr>\n",
       "\t<tr><th scope=row>4399</th><td>RECQL4 </td></tr>\n",
       "\t<tr><th scope=row>4400</th><td>REEP4  </td></tr>\n",
       "\t<tr><th scope=row>4401</th><td>RELL2  </td></tr>\n",
       "\t<tr><th scope=row>4584</th><td>RTL1   </td></tr>\n",
       "</tbody>\n",
       "</table>\n"
      ],
      "text/latex": [
       "A data.frame: 6 × 1\n",
       "\\begin{tabular}{r|l}\n",
       "  & neg\\_overlapping\\_name\\_3\\\\\n",
       "  & <chr>\\\\\n",
       "\\hline\n",
       "\t3131 & KPNA7  \\\\\n",
       "\t3132 & KREMEN2\\\\\n",
       "\t4399 & RECQL4 \\\\\n",
       "\t4400 & REEP4  \\\\\n",
       "\t4401 & RELL2  \\\\\n",
       "\t4584 & RTL1   \\\\\n",
       "\\end{tabular}\n"
      ],
      "text/markdown": [
       "\n",
       "A data.frame: 6 × 1\n",
       "\n",
       "| <!--/--> | neg_overlapping_name_3 &lt;chr&gt; |\n",
       "|---|---|\n",
       "| 3131 | KPNA7   |\n",
       "| 3132 | KREMEN2 |\n",
       "| 4399 | RECQL4  |\n",
       "| 4400 | REEP4   |\n",
       "| 4401 | RELL2   |\n",
       "| 4584 | RTL1    |\n",
       "\n"
      ],
      "text/plain": [
       "     neg_overlapping_name_3\n",
       "3131 KPNA7                 \n",
       "3132 KREMEN2               \n",
       "4399 RECQL4                \n",
       "4400 REEP4                 \n",
       "4401 RELL2                 \n",
       "4584 RTL1                  "
      ]
     },
     "metadata": {},
     "output_type": "display_data"
    }
   ],
   "source": [
    "#Negative genes\n",
    "gene_regions_neg <- GRanges(\n",
    "  seqnames = rep(\"ArtificialChromosome\", length(neg_genes_location$start_position)),\n",
    "  ranges = IRanges(neg_genes_location$start_position, neg_genes_location$end_position)\n",
    ")\n",
    "\n",
    "open_chromatin_regions_3 <- GRanges(\n",
    "  seqnames = rep(\"ArtificialChromosome\", length(osi3_peaks$startPeak)),\n",
    "  ranges = IRanges(osi3_peaks$startPeak, osi3_peaks$endPeak)\n",
    ")\n",
    "\n",
    "#Overlap analysis\n",
    "overlap_neg_3 <- findOverlaps(gene_regions_neg, open_chromatin_regions_3)\n",
    "neg_overlapping_indices_3 <- subjectHits(overlap_neg_3)\n",
    "neg_overlapping_name_3 = neg_genes_location$SYMBOL[neg_overlapping_indices_3]\n",
    "neg_overlapping_name_3 = as.data.frame(neg_overlapping_name_3)\n",
    "neg_overlapping_name_3 <- subset(neg_overlapping_name_3, neg_overlapping_name_3 != \"NA\")\n",
    "head(neg_overlapping_name_3)"
   ]
  },
  {
   "cell_type": "code",
   "execution_count": 61,
   "id": "6ae8cafc-ca74-40b7-a9d0-d054354ec782",
   "metadata": {
    "tags": []
   },
   "outputs": [
    {
     "data": {
      "text/html": [
       "<strong>png:</strong> 2"
      ],
      "text/latex": [
       "\\textbf{png:} 2"
      ],
      "text/markdown": [
       "**png:** 2"
      ],
      "text/plain": [
       "png \n",
       "  2 "
      ]
     },
     "metadata": {},
     "output_type": "display_data"
    }
   ],
   "source": [
    "#Plot genes that overlap  \n",
    "overlap_positive_3 <- 1500 \n",
    "overlap_negative_3 = 774\n",
    "total_genes_DE = 2778\n",
    "\n",
    "prop_overlap_pos_3 <- overlap_positive_3 / total_genes_DE\n",
    "prop_overlap_neg_3 <- overlap_negative_3 / total_genes_DE\n",
    "\n",
    "proportions_3 <- data.frame(\n",
    "  Category = c(\"Overlapping_POS\", \"Overlapping_NEG\"),\n",
    "  Proportion = c(prop_overlap_pos_3, prop_overlap_neg_3)\n",
    ")\n",
    "\n",
    "# Create the bar plot\n",
    "png(\"barplot_overlap_sample_3.png\", width = 5000, height = 3000, res = 400)\n",
    "barplot(proportions_3$Proportion, names.arg = proportions_3$Category, \n",
    "        xlab = \"Category\", ylab = \"Proportion\", main = \"Gene Overlap sample 3\",\n",
    "        col = c(\"hotpink\", \"turquoise3\"), ylim = c(0, max(proportions_3$Proportion) * 1.2))\n",
    "dev.off()"
   ]
  }
 ],
 "metadata": {
  "kernelspec": {
   "display_name": "R",
   "language": "R",
   "name": "ir"
  },
  "language_info": {
   "codemirror_mode": "r",
   "file_extension": ".r",
   "mimetype": "text/x-r-source",
   "name": "R",
   "pygments_lexer": "r",
   "version": "4.1.1"
  }
 },
 "nbformat": 4,
 "nbformat_minor": 5
}
